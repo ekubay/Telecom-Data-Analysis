{
 "cells": [
  {
   "cell_type": "markdown",
   "id": "3eb9d7cb",
   "metadata": {},
   "source": [
    "# Analytics on the Telecommunication datain\n",
    "In this analysis the following will be addressed\n",
    "- User Overview Analysis\n",
    "- User Engagement Analysis\n",
    "- User Expriance analyis\n",
    "- User Satisfuction Analysis"
   ]
  },
  {
   "cell_type": "code",
   "execution_count": 1,
   "id": "a2dac686",
   "metadata": {},
   "outputs": [],
   "source": [
    "# System Modules....\n",
    "import os\n",
    "import sys\n",
    "sys.path.append(os.path.abspath(os.path.join('..')))\n",
    "\n",
    "import warnings\n",
    "warnings.filterwarnings('ignore')"
   ]
  },
  {
   "cell_type": "code",
   "execution_count": 7,
   "id": "fea88890",
   "metadata": {},
   "outputs": [],
   "source": [
    "# Module imports\n",
    "import pandas as pd\n",
    "#pd.set_option('max_column', None)\n",
    "#pd.options.display.float_format = \"{:.2f}\".format\n",
    "\n",
    "import matplotlib.pyplot as plt\n",
    "import seaborn as sns\n",
    "\n",
    "from sklearn.preprocessing import StandardScaler\n",
    "from sklearn.decomposition import PCA\n",
    "from sklearn.preprocessing import StandardScaler\n",
    "from sklearn import preprocessing\n",
    "from sklearn.cluster import KMeans\n",
    "from sklearn.linear_model import LinearRegression\n",
    "from sklearn.preprocessing import StandardScaler\n",
    "import pickle"
   ]
  },
  {
   "cell_type": "code",
   "execution_count": 17,
   "id": "05ae6e78",
   "metadata": {},
   "outputs": [],
   "source": [
    "# My Custom Modules Importing\n",
    "from script import file_read\n",
    "from script import Overview\n",
    "from script import ploting_fun"
   ]
  },
  {
   "cell_type": "code",
   "execution_count": null,
   "id": "3a4bbbbc",
   "metadata": {},
   "outputs": [],
   "source": []
  },
  {
   "cell_type": "code",
   "execution_count": 4,
   "id": "3154b8b1",
   "metadata": {},
   "outputs": [],
   "source": [
    "###################################PLOTTING FUNCTIONS For User Analytics on Telcco###################################\n",
    "\n",
    "def plot_hist(df:pd.DataFrame, column:str, color:str)->None:\n",
    "    # plt.figure(figsize=(15, 10))\n",
    "    # fig, ax = plt.subplots(1, figsize=(12, 7))\n",
    "    sns.displot(data=df, x=column, color=color, kde=True, height=7, aspect=2)\n",
    "    plt.title(f'Distribution of {column}', size=20, fontweight='bold')\n",
    "    plt.show()\n",
    "\n",
    "def plot_count(df:pd.DataFrame, column:str) -> None:\n",
    "    plt.figure(figsize=(12, 7))\n",
    "    sns.countplot(data=df, x=column)\n",
    "    plt.title(f'Distribution of {column}', size=20, fontweight='bold')\n",
    "    plt.show()\n",
    "    \n",
    "def plot_bar(df:pd.DataFrame, x_col:str, y_col:str, title:str, xlabel:str, ylabel:str)->None:\n",
    "    plt.figure(figsize=(12, 7))\n",
    "    sns.barplot(data = df, x=x_col, y=y_col)\n",
    "    plt.title(title, size=20)\n",
    "    plt.xticks(rotation=75, fontsize=14)\n",
    "    plt.yticks( fontsize=14)\n",
    "    plt.xlabel(xlabel, fontsize=16)\n",
    "    plt.ylabel(ylabel, fontsize=16)\n",
    "    plt.show()\n",
    "\n",
    "def plot_heatmap(df:pd.DataFrame, title:str, cbar=False)->None:\n",
    "    plt.figure(figsize=(12, 7))\n",
    "    sns.heatmap(df, annot=True, cmap='viridis', vmin=0, vmax=1, fmt='.2f', linewidths=.7, cbar=cbar )\n",
    "    plt.title(title, size=18, fontweight='bold')\n",
    "    plt.show()\n",
    "\n",
    "def plot_box(df:pd.DataFrame, x_col:str, title:str) -> None:\n",
    "    plt.figure(figsize=(12, 7))\n",
    "    sns.boxplot(data = df, x=x_col)\n",
    "    plt.title(title, size=20)\n",
    "    plt.xticks(rotation=75, fontsize=14)\n",
    "    plt.show()\n",
    "\n",
    "def plot_box_multi(df:pd.DataFrame, x_col:str, y_col:str, title:str) -> None:\n",
    "    plt.figure(figsize=(12, 7))\n",
    "    sns.boxplot(data = df, x=x_col, y=y_col)\n",
    "    plt.title(title, size=20)\n",
    "    plt.xticks(rotation=75, fontsize=14)\n",
    "    plt.yticks( fontsize=14)\n",
    "    plt.show()\n",
    "\n",
    "def plot_scatter(df: pd.DataFrame, x_col: str, y_col: str, title: str, hue: str, style: str) -> None:\n",
    "    plt.figure(figsize=(12, 7))\n",
    "    sns.scatterplot(data = df, x=x_col, y=y_col, hue=hue)\n",
    "    plt.title(title, size=20)\n",
    "    plt.xticks(fontsize=14)\n",
    "    plt.yticks( fontsize=14)\n",
    "    plt.show()\n",
    "\n",
    "def format_float(value):\n",
    "    return f'{value:,.2f}'\n",
    "\n",
    "def fix_outlier(df, column):\n",
    "    df[column] = np.where(df[column] > df[column].quantile(0.95), df[column].median(),df[column])\n",
    "    \n",
    "    return df[column]\n",
    "\n",
    "\n",
    "pd.options.display.float_format = format_float"
   ]
  },
  {
   "cell_type": "markdown",
   "id": "c64131b3",
   "metadata": {},
   "source": [
    "## Task 1 - User Overview analysis"
   ]
  },
  {
   "cell_type": "markdown",
   "id": "5424df4a",
   "metadata": {},
   "source": [
    "Understanding the business process of one company is a key factor in planning and taking measurable steps towards the need of the customers. So, conducting user overview analysis helps to have understand on the given dataset. Thus, the exploration data analysis is helpful in analyzing datasets to summarize their main characteristics. This can be done via visually assessment and programmatically. In this subtask, identifying missing values and cleaning are key parts.\n",
    "\n",
    "To conduct full User Overview analysis & the following sub-tasks are your guidance: \n",
    "\n",
    "1. Start by identifying the top 10 handsets used by the customers.\n",
    "2. Then, identify the top 3 handset manufacturers\n",
    "3. Next, identify the top 5 handsets per top 3 handset manufacturer\n",
    "4. Make a short interpretation and recommendation to marketing teams\n",
    "\n"
   ]
  },
  {
   "cell_type": "code",
   "execution_count": 5,
   "id": "1fc3da52",
   "metadata": {},
   "outputs": [],
   "source": [
    "data = pd.read_csv('../data/clean_df_tel1.csv')"
   ]
  },
  {
   "cell_type": "code",
   "execution_count": 24,
   "id": "bc401492",
   "metadata": {},
   "outputs": [],
   "source": [
    "# filtering \n",
    "df_overvie = Overview.Marketing(data)\n",
    "df_overvie.filter_necessary_columns()"
   ]
  },
  {
   "cell_type": "code",
   "execution_count": 26,
   "id": "ffad5f82",
   "metadata": {},
   "outputs": [
    {
     "data": {
      "text/html": [
       "<div>\n",
       "<style scoped>\n",
       "    .dataframe tbody tr th:only-of-type {\n",
       "        vertical-align: middle;\n",
       "    }\n",
       "\n",
       "    .dataframe tbody tr th {\n",
       "        vertical-align: top;\n",
       "    }\n",
       "\n",
       "    .dataframe thead th {\n",
       "        text-align: right;\n",
       "    }\n",
       "</style>\n",
       "<table border=\"1\" class=\"dataframe\">\n",
       "  <thead>\n",
       "    <tr style=\"text-align: right;\">\n",
       "      <th></th>\n",
       "      <th>MSISDN/Number</th>\n",
       "      <th>Handset Type</th>\n",
       "      <th>Handset Manufacturer</th>\n",
       "    </tr>\n",
       "  </thead>\n",
       "  <tbody>\n",
       "    <tr>\n",
       "      <th>0</th>\n",
       "      <td>33,664,962,239.00</td>\n",
       "      <td>Samsung Galaxy A5 Sm-A520F</td>\n",
       "      <td>Samsung</td>\n",
       "    </tr>\n",
       "    <tr>\n",
       "      <th>1</th>\n",
       "      <td>33,681,854,413.00</td>\n",
       "      <td>Samsung Galaxy J5 (Sm-J530)</td>\n",
       "      <td>Samsung</td>\n",
       "    </tr>\n",
       "    <tr>\n",
       "      <th>2</th>\n",
       "      <td>33,760,627,129.00</td>\n",
       "      <td>Samsung Galaxy A8 (2018)</td>\n",
       "      <td>Samsung</td>\n",
       "    </tr>\n",
       "  </tbody>\n",
       "</table>\n",
       "</div>"
      ],
      "text/plain": [
       "      MSISDN/Number                 Handset Type Handset Manufacturer\n",
       "0 33,664,962,239.00   Samsung Galaxy A5 Sm-A520F              Samsung\n",
       "1 33,681,854,413.00  Samsung Galaxy J5 (Sm-J530)              Samsung\n",
       "2 33,760,627,129.00     Samsung Galaxy A8 (2018)              Samsung"
      ]
     },
     "execution_count": 26,
     "metadata": {},
     "output_type": "execute_result"
    }
   ],
   "source": [
    "# viewing\n",
    "df_overvie.df.head(3)"
   ]
  },
  {
   "cell_type": "markdown",
   "id": "9020c2f9",
   "metadata": {},
   "source": [
    "1. Top 10 handsets used Mostly by the customers"
   ]
  },
  {
   "cell_type": "code",
   "execution_count": 27,
   "id": "d3edb690",
   "metadata": {},
   "outputs": [
    {
     "data": {
      "text/html": [
       "<div>\n",
       "<style scoped>\n",
       "    .dataframe tbody tr th:only-of-type {\n",
       "        vertical-align: middle;\n",
       "    }\n",
       "\n",
       "    .dataframe tbody tr th {\n",
       "        vertical-align: top;\n",
       "    }\n",
       "\n",
       "    .dataframe thead th {\n",
       "        text-align: right;\n",
       "    }\n",
       "</style>\n",
       "<table border=\"1\" class=\"dataframe\">\n",
       "  <thead>\n",
       "    <tr style=\"text-align: right;\">\n",
       "      <th></th>\n",
       "      <th>Handset Type</th>\n",
       "      <th>MSISDN/Number</th>\n",
       "    </tr>\n",
       "  </thead>\n",
       "  <tbody>\n",
       "    <tr>\n",
       "      <th>316</th>\n",
       "      <td>Huawei B528S-23A</td>\n",
       "      <td>20324</td>\n",
       "    </tr>\n",
       "    <tr>\n",
       "      <th>53</th>\n",
       "      <td>Apple iPhone 6S (A1688)</td>\n",
       "      <td>9419</td>\n",
       "    </tr>\n",
       "    <tr>\n",
       "      <th>49</th>\n",
       "      <td>Apple iPhone 6 (A1586)</td>\n",
       "      <td>9023</td>\n",
       "    </tr>\n",
       "    <tr>\n",
       "      <th>1395</th>\n",
       "      <td>undefined</td>\n",
       "      <td>8987</td>\n",
       "    </tr>\n",
       "    <tr>\n",
       "      <th>59</th>\n",
       "      <td>Apple iPhone 7 (A1778)</td>\n",
       "      <td>6326</td>\n",
       "    </tr>\n",
       "    <tr>\n",
       "      <th>73</th>\n",
       "      <td>Apple iPhone Se (A1723)</td>\n",
       "      <td>5187</td>\n",
       "    </tr>\n",
       "    <tr>\n",
       "      <th>66</th>\n",
       "      <td>Apple iPhone 8 (A1905)</td>\n",
       "      <td>4993</td>\n",
       "    </tr>\n",
       "    <tr>\n",
       "      <th>78</th>\n",
       "      <td>Apple iPhone Xr (A2105)</td>\n",
       "      <td>4568</td>\n",
       "    </tr>\n",
       "    <tr>\n",
       "      <th>955</th>\n",
       "      <td>Samsung Galaxy S8 (Sm-G950F)</td>\n",
       "      <td>4520</td>\n",
       "    </tr>\n",
       "    <tr>\n",
       "      <th>75</th>\n",
       "      <td>Apple iPhone X (A1901)</td>\n",
       "      <td>3813</td>\n",
       "    </tr>\n",
       "  </tbody>\n",
       "</table>\n",
       "</div>"
      ],
      "text/plain": [
       "                      Handset Type  MSISDN/Number\n",
       "316               Huawei B528S-23A          20324\n",
       "53         Apple iPhone 6S (A1688)           9419\n",
       "49          Apple iPhone 6 (A1586)           9023\n",
       "1395                     undefined           8987\n",
       "59          Apple iPhone 7 (A1778)           6326\n",
       "73         Apple iPhone Se (A1723)           5187\n",
       "66          Apple iPhone 8 (A1905)           4993\n",
       "78         Apple iPhone Xr (A2105)           4568\n",
       "955   Samsung Galaxy S8 (Sm-G950F)           4520\n",
       "75          Apple iPhone X (A1901)           3813"
      ]
     },
     "execution_count": 27,
     "metadata": {},
     "output_type": "execute_result"
    }
   ],
   "source": [
    "#top 10 handsets type\n",
    "top_10_handsets =  df_overvie.get_top_handsets(10)\n",
    "top_10_handsets"
   ]
  },
  {
   "cell_type": "markdown",
   "id": "21628c69",
   "metadata": {},
   "source": [
    "2. Top 3 handset manufacturers"
   ]
  },
  {
   "cell_type": "code",
   "execution_count": 29,
   "id": "e515e62d",
   "metadata": {},
   "outputs": [
    {
     "data": {
      "text/html": [
       "<div>\n",
       "<style scoped>\n",
       "    .dataframe tbody tr th:only-of-type {\n",
       "        vertical-align: middle;\n",
       "    }\n",
       "\n",
       "    .dataframe tbody tr th {\n",
       "        vertical-align: top;\n",
       "    }\n",
       "\n",
       "    .dataframe thead th {\n",
       "        text-align: right;\n",
       "    }\n",
       "</style>\n",
       "<table border=\"1\" class=\"dataframe\">\n",
       "  <thead>\n",
       "    <tr style=\"text-align: right;\">\n",
       "      <th></th>\n",
       "      <th>Handset Manufacturer</th>\n",
       "      <th>MSISDN/Number</th>\n",
       "    </tr>\n",
       "  </thead>\n",
       "  <tbody>\n",
       "    <tr>\n",
       "      <th>5</th>\n",
       "      <td>Apple</td>\n",
       "      <td>60137</td>\n",
       "    </tr>\n",
       "    <tr>\n",
       "      <th>103</th>\n",
       "      <td>Samsung</td>\n",
       "      <td>40839</td>\n",
       "    </tr>\n",
       "    <tr>\n",
       "      <th>52</th>\n",
       "      <td>Huawei</td>\n",
       "      <td>34423</td>\n",
       "    </tr>\n",
       "  </tbody>\n",
       "</table>\n",
       "</div>"
      ],
      "text/plain": [
       "    Handset Manufacturer  MSISDN/Number\n",
       "5                  Apple          60137\n",
       "103              Samsung          40839\n",
       "52                Huawei          34423"
      ]
     },
     "execution_count": 29,
     "metadata": {},
     "output_type": "execute_result"
    }
   ],
   "source": [
    "top3_manufacturers =  df_overvie.get_top_manufacturers(3)\n",
    "top3_manufacturers"
   ]
  },
  {
   "cell_type": "markdown",
   "id": "e8848aa4",
   "metadata": {},
   "source": [
    "3. The top 5 handsets per top 3 handset manufacturer"
   ]
  },
  {
   "cell_type": "code",
   "execution_count": 33,
   "id": "da3d5a85",
   "metadata": {},
   "outputs": [
    {
     "name": "stdout",
     "output_type": "stream",
     "text": [
      "**** Apple ***\n",
      "Handset Type\n",
      "Apple iPhone 6S (A1688)    6760\n",
      "Apple iPhone 6 (A1586)     6261\n",
      "Apple iPhone 7 (A1778)     4700\n",
      "Apple iPhone Se (A1723)    3756\n",
      "Apple iPhone 8 (A1905)     3544\n",
      "Name: MSISDN/Number, dtype: int64\n",
      "\n",
      "**** Samsung ***\n",
      "Handset Type\n",
      "Samsung Galaxy S8 (Sm-G950F)    3246\n",
      "Samsung Galaxy J5 (Sm-J530)     2749\n",
      "Samsung Galaxy A5 Sm-A520F      2709\n",
      "Samsung Galaxy J3 (Sm-J330)     2590\n",
      "Samsung Galaxy S7 (Sm-G930X)    2292\n",
      "Name: MSISDN/Number, dtype: int64\n",
      "\n",
      "**** Huawei ***\n",
      "Handset Type\n",
      "Huawei B528S-23A                  10617\n",
      "Huawei P20 Lite Huawei Nova 3E     1532\n",
      "Huawei E5180                       1183\n",
      "Huawei P20                         1110\n",
      "Huawei Y6 2018                      757\n",
      "Name: MSISDN/Number, dtype: int64\n",
      "\n"
     ]
    }
   ],
   "source": [
    "handsets = df_overvie.get_best_phones()"
   ]
  },
  {
   "cell_type": "markdown",
   "id": "fa0ee0a4",
   "metadata": {},
   "source": [
    "### Task 1.1 "
   ]
  },
  {
   "cell_type": "markdown",
   "id": "d3dbec56",
   "metadata": {},
   "source": [
    "Task 1.1 - Your employer wants to have an overview of the users’ behavior on some applications."
   ]
  },
  {
   "cell_type": "markdown",
   "id": "584afccd",
   "metadata": {},
   "source": [
    "Aggregate per user the following information in the column  \n",
    "1. number of xDR sessions\n",
    "2. Session duration\n",
    "3. the total download (DL) and upload (UL) data\n",
    "4. the total data volume (in Bytes) during this session for each application"
   ]
  },
  {
   "cell_type": "code",
   "execution_count": 34,
   "id": "e4803898",
   "metadata": {},
   "outputs": [
    {
     "data": {
      "text/html": [
       "<div>\n",
       "<style scoped>\n",
       "    .dataframe tbody tr th:only-of-type {\n",
       "        vertical-align: middle;\n",
       "    }\n",
       "\n",
       "    .dataframe tbody tr th {\n",
       "        vertical-align: top;\n",
       "    }\n",
       "\n",
       "    .dataframe thead th {\n",
       "        text-align: right;\n",
       "    }\n",
       "</style>\n",
       "<table border=\"1\" class=\"dataframe\">\n",
       "  <thead>\n",
       "    <tr style=\"text-align: right;\">\n",
       "      <th></th>\n",
       "      <th>Bearer Id</th>\n",
       "      <th>Dur. (ms).1</th>\n",
       "      <th>Total UL (Bytes)</th>\n",
       "      <th>Total DL (Bytes)</th>\n",
       "    </tr>\n",
       "    <tr>\n",
       "      <th>MSISDN/Number</th>\n",
       "      <th></th>\n",
       "      <th></th>\n",
       "      <th></th>\n",
       "      <th></th>\n",
       "    </tr>\n",
       "  </thead>\n",
       "  <tbody>\n",
       "    <tr>\n",
       "      <th>33,601,001,722.00</th>\n",
       "      <td>1</td>\n",
       "      <td>116,720,140.00</td>\n",
       "      <td>36,053,108.00</td>\n",
       "      <td>842,637,466.00</td>\n",
       "    </tr>\n",
       "    <tr>\n",
       "      <th>33,601,001,754.00</th>\n",
       "      <td>1</td>\n",
       "      <td>181,230,963.00</td>\n",
       "      <td>36,104,459.00</td>\n",
       "      <td>120,755,184.00</td>\n",
       "    </tr>\n",
       "    <tr>\n",
       "      <th>33,601,002,511.00</th>\n",
       "      <td>1</td>\n",
       "      <td>134,969,374.00</td>\n",
       "      <td>39,306,820.00</td>\n",
       "      <td>556,659,663.00</td>\n",
       "    </tr>\n",
       "    <tr>\n",
       "      <th>33,601,007,832.00</th>\n",
       "      <td>1</td>\n",
       "      <td>49,878,024.00</td>\n",
       "      <td>20,327,526.00</td>\n",
       "      <td>401,993,172.00</td>\n",
       "    </tr>\n",
       "    <tr>\n",
       "      <th>33,601,008,617.00</th>\n",
       "      <td>2</td>\n",
       "      <td>37,104,453.00</td>\n",
       "      <td>94,280,527.00</td>\n",
       "      <td>1,363,130,417.00</td>\n",
       "    </tr>\n",
       "  </tbody>\n",
       "</table>\n",
       "</div>"
      ],
      "text/plain": [
       "                   Bearer Id    Dur. (ms).1  Total UL (Bytes)  \\\n",
       "MSISDN/Number                                                   \n",
       "33,601,001,722.00          1 116,720,140.00     36,053,108.00   \n",
       "33,601,001,754.00          1 181,230,963.00     36,104,459.00   \n",
       "33,601,002,511.00          1 134,969,374.00     39,306,820.00   \n",
       "33,601,007,832.00          1  49,878,024.00     20,327,526.00   \n",
       "33,601,008,617.00          2  37,104,453.00     94,280,527.00   \n",
       "\n",
       "                   Total DL (Bytes)  \n",
       "MSISDN/Number                        \n",
       "33,601,001,722.00    842,637,466.00  \n",
       "33,601,001,754.00    120,755,184.00  \n",
       "33,601,002,511.00    556,659,663.00  \n",
       "33,601,007,832.00    401,993,172.00  \n",
       "33,601,008,617.00  1,363,130,417.00  "
      ]
     },
     "execution_count": 34,
     "metadata": {},
     "output_type": "execute_result"
    }
   ],
   "source": [
    "df_clean = data.copy()\n",
    "aggregate = {\"Bearer Id\": 'count', 'Dur. (ms).1':'sum', 'Total UL (Bytes)': 'sum', 'Total DL (Bytes)': 'sum'}\n",
    "aggregation_result = df_clean.groupby('MSISDN/Number').agg(aggregate)\n",
    "aggregation_result.head()"
   ]
  },
  {
   "cell_type": "code",
   "execution_count": 35,
   "id": "4067848b",
   "metadata": {},
   "outputs": [
    {
     "name": "stdout",
     "output_type": "stream",
     "text": [
      "<class 'pandas.core.frame.DataFrame'>\n",
      "Float64Index: 106856 entries, 33601001722.0 to 882397108489451.0\n",
      "Data columns (total 4 columns):\n",
      " #   Column            Non-Null Count   Dtype  \n",
      "---  ------            --------------   -----  \n",
      " 0   Bearer Id         106856 non-null  int64  \n",
      " 1   Dur. (ms).1       106856 non-null  float64\n",
      " 2   Total UL (Bytes)  106856 non-null  float64\n",
      " 3   Total DL (Bytes)  106856 non-null  float64\n",
      "dtypes: float64(3), int64(1)\n",
      "memory usage: 4.1 MB\n"
     ]
    }
   ],
   "source": [
    "aggregation_result.info()"
   ]
  },
  {
   "cell_type": "code",
   "execution_count": 36,
   "id": "d4846310",
   "metadata": {},
   "outputs": [
    {
     "data": {
      "text/plain": [
       "Bearer Id                    1.00\n",
       "Dur. (ms).1         71,308,343.00\n",
       "Total UL (Bytes)    36,395,474.75\n",
       "Total DL (Bytes)   314,832,283.50\n",
       "Name: 0.25, dtype: float64"
      ]
     },
     "execution_count": 36,
     "metadata": {},
     "output_type": "execute_result"
    }
   ],
   "source": [
    "aggregation_result.quantile(0.25) "
   ]
  },
  {
   "cell_type": "markdown",
   "id": "ac4a7f3a",
   "metadata": {},
   "source": [
    "#### User beheviour ON Applications"
   ]
  },
  {
   "cell_type": "code",
   "execution_count": 40,
   "id": "4765ae79",
   "metadata": {},
   "outputs": [
    {
     "name": "stdout",
     "output_type": "stream",
     "text": [
      "<class 'pandas.core.frame.DataFrame'>\n",
      "Float64Index: 106856 entries, 33601001722.0 to 882397108489451.0\n",
      "Data columns (total 8 columns):\n",
      " #   Column              Non-Null Count   Dtype  \n",
      "---  ------              --------------   -----  \n",
      " 0   Total Social Media  106856 non-null  float64\n",
      " 1   Total Google        106856 non-null  float64\n",
      " 2   Total Youtube       106856 non-null  float64\n",
      " 3   Total Netflix       106856 non-null  float64\n",
      " 4   Total Gaming        106856 non-null  float64\n",
      " 5   Total Other         106856 non-null  float64\n",
      " 6   Total Email         106856 non-null  float64\n",
      " 7   Total               106856 non-null  float64\n",
      "dtypes: float64(8)\n",
      "memory usage: 7.3 MB\n"
     ]
    }
   ],
   "source": [
    "# determind from this variables \n",
    "# Social Media, Google, Email, Youtube, Netflix, Gaming, Other . \n",
    "aggrigate = {\n",
    "    'Total Social Media':'sum',\n",
    "    'Total Google': 'sum', \n",
    "    'Total Youtube': 'sum', \n",
    "    'Total Netflix':'sum',\n",
    "    'Total Gaming':'sum',\n",
    "    'Total Other':'sum',\n",
    "    'Total Email': 'sum',\n",
    "    'Total':'sum'\n",
    "}\n",
    "user_app_usage = df_clean.copy()\n",
    "\n",
    "user_app_usage[\"Total Google\"]    = user_app_usage[\"Google DL (Bytes)\"] + user_app_usage[\"Google UL (Bytes)\"]\n",
    "user_app_usage[\"Total Youtube\"]   = user_app_usage[\"Youtube DL (Bytes)\"] + user_app_usage[\"Youtube UL (Bytes)\"]\n",
    "user_app_usage[\"Total Netflix\"]   = user_app_usage[\"Netflix DL (Bytes)\"] + user_app_usage[\"Netflix UL (Bytes)\"]\n",
    "user_app_usage[\"Total Email\"]     = user_app_usage[\"Email DL (Bytes)\"] + user_app_usage[\"Email UL (Bytes)\"]\n",
    "user_app_usage[\"Total Gaming\"]    = user_app_usage[\"Gaming DL (Bytes)\"] + user_app_usage[\"Gaming UL (Bytes)\"]\n",
    "user_app_usage[\"Total Social Media\"] = user_app_usage[\"Social Media DL (Bytes)\"] + user_app_usage[\"Social Media UL (Bytes)\"]\n",
    "user_app_usage[\"Total Other\"]     = user_app_usage[\"Other DL (Bytes)\"] + user_app_usage[\"Other UL (Bytes)\"]\n",
    "user_app_usage[\"Total Email\"]     = user_app_usage[\"Email UL (Bytes)\"] + user_app_usage[\"Email DL (Bytes)\"]\n",
    "user_app_usage['Total']           = user_app_usage['Total UL (Bytes)'] + user_app_usage['Total DL (Bytes)']\n",
    "\n",
    "# columns = ['Total Google', 'Total Youtube', 'Total Netflix', 'Total Email', 'Total Gaming', 'Total Social Media']\n",
    "# for column in columns:\n",
    "#     user_app_usage[column] = fix_outlier(user_app_usage, column)\n",
    "\n",
    "\n",
    "user_behaviour = user_app_usage.groupby('MSISDN/Number').agg(aggrigate)\n",
    "user_behaviour.info()\n"
   ]
  },
  {
   "cell_type": "markdown",
   "id": "445b6647",
   "metadata": {},
   "source": [
    "Total download (DL) and upload (UL) data of each application"
   ]
  },
  {
   "cell_type": "code",
   "execution_count": 41,
   "id": "025bd51a",
   "metadata": {},
   "outputs": [],
   "source": [
    "user_app_usage = df_clean.copy()\n",
    "\n",
    "user_app_usage[\"Total Google\"]    = user_app_usage[\"Google DL (Bytes)\"] + user_app_usage[\"Google UL (Bytes)\"]\n",
    "user_app_usage[\"Total Youtube\"]   = user_app_usage[\"Youtube DL (Bytes)\"] + user_app_usage[\"Youtube UL (Bytes)\"]\n",
    "user_app_usage[\"Total Netflix\"]   = user_app_usage[\"Netflix DL (Bytes)\"] + user_app_usage[\"Netflix UL (Bytes)\"]\n",
    "user_app_usage[\"Total Email\"]     = user_app_usage[\"Email DL (Bytes)\"] + user_app_usage[\"Email UL (Bytes)\"]\n",
    "user_app_usage[\"Total Gaming\"]    = user_app_usage[\"Gaming DL (Bytes)\"] + user_app_usage[\"Gaming UL (Bytes)\"]\n",
    "user_app_usage[\"Total Social Media\"] = user_app_usage[\"Social Media DL (Bytes)\"] + user_app_usage[\"Social Media UL (Bytes)\"]\n",
    "user_app_usage[\"Total Other\"]     = user_app_usage[\"Other DL (Bytes)\"] + user_app_usage[\"Other UL (Bytes)\"]\n",
    "user_app_usage['Total']           = user_app_usage['Total UL (Bytes)'] + user_app_usage['Total DL (Bytes)']"
   ]
  },
  {
   "cell_type": "markdown",
   "id": "e72976aa",
   "metadata": {},
   "source": [
    "Non-Graphical Analysis of user behaviour on total data of each application"
   ]
  },
  {
   "cell_type": "code",
   "execution_count": 42,
   "id": "d28453c0",
   "metadata": {},
   "outputs": [
    {
     "data": {
      "text/html": [
       "<div>\n",
       "<style scoped>\n",
       "    .dataframe tbody tr th:only-of-type {\n",
       "        vertical-align: middle;\n",
       "    }\n",
       "\n",
       "    .dataframe tbody tr th {\n",
       "        vertical-align: top;\n",
       "    }\n",
       "\n",
       "    .dataframe thead th {\n",
       "        text-align: right;\n",
       "    }\n",
       "</style>\n",
       "<table border=\"1\" class=\"dataframe\">\n",
       "  <thead>\n",
       "    <tr style=\"text-align: right;\">\n",
       "      <th></th>\n",
       "      <th>Total Google</th>\n",
       "      <th>Total Youtube</th>\n",
       "      <th>Total Netflix</th>\n",
       "      <th>Total Email</th>\n",
       "      <th>Total Gaming</th>\n",
       "      <th>Total Social Media</th>\n",
       "      <th>Total Other</th>\n",
       "      <th>Total</th>\n",
       "    </tr>\n",
       "    <tr>\n",
       "      <th>MSISDN/Number</th>\n",
       "      <th></th>\n",
       "      <th></th>\n",
       "      <th></th>\n",
       "      <th></th>\n",
       "      <th></th>\n",
       "      <th></th>\n",
       "      <th></th>\n",
       "      <th></th>\n",
       "    </tr>\n",
       "  </thead>\n",
       "  <tbody>\n",
       "    <tr>\n",
       "      <th>33,760,354,406.00</th>\n",
       "      <td>6,232,849.00</td>\n",
       "      <td>10,258,716.00</td>\n",
       "      <td>24,652,326.00</td>\n",
       "      <td>3,757,872.00</td>\n",
       "      <td>671,131,250.00</td>\n",
       "      <td>232,344.00</td>\n",
       "      <td>336,384,150.00</td>\n",
       "      <td>726,714,174.00</td>\n",
       "    </tr>\n",
       "    <tr>\n",
       "      <th>33,642,586,414.00</th>\n",
       "      <td>20,356,903.00</td>\n",
       "      <td>48,690,501.00</td>\n",
       "      <td>27,647,564.00</td>\n",
       "      <td>3,212,052.00</td>\n",
       "      <td>1,367,897,416.00</td>\n",
       "      <td>2,265,030.00</td>\n",
       "      <td>1,167,908,830.00</td>\n",
       "      <td>1,494,026,298.00</td>\n",
       "    </tr>\n",
       "    <tr>\n",
       "      <th>33,699,158,137.00</th>\n",
       "      <td>42,679,934.00</td>\n",
       "      <td>117,854,509.00</td>\n",
       "      <td>109,455,335.00</td>\n",
       "      <td>9,748,557.00</td>\n",
       "      <td>2,284,091,389.00</td>\n",
       "      <td>7,229,818.00</td>\n",
       "      <td>2,992,066,939.00</td>\n",
       "      <td>2,581,565,091.00</td>\n",
       "    </tr>\n",
       "    <tr>\n",
       "      <th>33,699,962,096.00</th>\n",
       "      <td>7,372,570.00</td>\n",
       "      <td>24,797,978.00</td>\n",
       "      <td>30,011,431.00</td>\n",
       "      <td>5,890,235.00</td>\n",
       "      <td>829,158,591.00</td>\n",
       "      <td>4,433,147.00</td>\n",
       "      <td>951,133,842.00</td>\n",
       "      <td>917,767,229.00</td>\n",
       "    </tr>\n",
       "    <tr>\n",
       "      <th>33,763,884,027.00</th>\n",
       "      <td>6,594,091.00</td>\n",
       "      <td>41,120,739.00</td>\n",
       "      <td>21,286,236.00</td>\n",
       "      <td>622,189.00</td>\n",
       "      <td>644,959,578.00</td>\n",
       "      <td>525,171.00</td>\n",
       "      <td>170,418,708.00</td>\n",
       "      <td>729,679,310.00</td>\n",
       "    </tr>\n",
       "    <tr>\n",
       "      <th>33,771,740,952.00</th>\n",
       "      <td>1,580,758.00</td>\n",
       "      <td>35,512,721.00</td>\n",
       "      <td>30,475,490.00</td>\n",
       "      <td>486,030.00</td>\n",
       "      <td>66,119,060.00</td>\n",
       "      <td>2,714,366.00</td>\n",
       "      <td>764,424,398.00</td>\n",
       "      <td>144,643,662.00</td>\n",
       "    </tr>\n",
       "    <tr>\n",
       "      <th>33,760,759,297.00</th>\n",
       "      <td>11,984,243.00</td>\n",
       "      <td>26,181,041.00</td>\n",
       "      <td>36,019,556.00</td>\n",
       "      <td>3,603,466.00</td>\n",
       "      <td>169,581,928.00</td>\n",
       "      <td>2,811,337.00</td>\n",
       "      <td>387,219,949.00</td>\n",
       "      <td>257,156,665.00</td>\n",
       "    </tr>\n",
       "    <tr>\n",
       "      <th>33,699,906,476.00</th>\n",
       "      <td>18,855,781.00</td>\n",
       "      <td>36,571,328.00</td>\n",
       "      <td>44,244,471.00</td>\n",
       "      <td>2,808,561.00</td>\n",
       "      <td>614,838,141.00</td>\n",
       "      <td>5,120,456.00</td>\n",
       "      <td>828,107,932.00</td>\n",
       "      <td>729,629,229.00</td>\n",
       "    </tr>\n",
       "    <tr>\n",
       "      <th>33,669,113,314.00</th>\n",
       "      <td>5,811,185.00</td>\n",
       "      <td>30,610,338.00</td>\n",
       "      <td>24,515,845.00</td>\n",
       "      <td>2,955,770.00</td>\n",
       "      <td>253,413,258.00</td>\n",
       "      <td>923,224.00</td>\n",
       "      <td>205,519,781.00</td>\n",
       "      <td>327,838,688.00</td>\n",
       "    </tr>\n",
       "    <tr>\n",
       "      <th>33,668,533,742.00</th>\n",
       "      <td>21,378,123.00</td>\n",
       "      <td>47,103,882.00</td>\n",
       "      <td>61,775,396.00</td>\n",
       "      <td>5,052,967.00</td>\n",
       "      <td>1,371,081,876.00</td>\n",
       "      <td>4,539,784.00</td>\n",
       "      <td>724,927,588.00</td>\n",
       "      <td>1,521,820,207.00</td>\n",
       "    </tr>\n",
       "  </tbody>\n",
       "</table>\n",
       "</div>"
      ],
      "text/plain": [
       "                   Total Google  Total Youtube  Total Netflix  Total Email  \\\n",
       "MSISDN/Number                                                                \n",
       "33,760,354,406.00  6,232,849.00  10,258,716.00  24,652,326.00 3,757,872.00   \n",
       "33,642,586,414.00 20,356,903.00  48,690,501.00  27,647,564.00 3,212,052.00   \n",
       "33,699,158,137.00 42,679,934.00 117,854,509.00 109,455,335.00 9,748,557.00   \n",
       "33,699,962,096.00  7,372,570.00  24,797,978.00  30,011,431.00 5,890,235.00   \n",
       "33,763,884,027.00  6,594,091.00  41,120,739.00  21,286,236.00   622,189.00   \n",
       "33,771,740,952.00  1,580,758.00  35,512,721.00  30,475,490.00   486,030.00   \n",
       "33,760,759,297.00 11,984,243.00  26,181,041.00  36,019,556.00 3,603,466.00   \n",
       "33,699,906,476.00 18,855,781.00  36,571,328.00  44,244,471.00 2,808,561.00   \n",
       "33,669,113,314.00  5,811,185.00  30,610,338.00  24,515,845.00 2,955,770.00   \n",
       "33,668,533,742.00 21,378,123.00  47,103,882.00  61,775,396.00 5,052,967.00   \n",
       "\n",
       "                      Total Gaming  Total Social Media      Total Other  \\\n",
       "MSISDN/Number                                                             \n",
       "33,760,354,406.00   671,131,250.00          232,344.00   336,384,150.00   \n",
       "33,642,586,414.00 1,367,897,416.00        2,265,030.00 1,167,908,830.00   \n",
       "33,699,158,137.00 2,284,091,389.00        7,229,818.00 2,992,066,939.00   \n",
       "33,699,962,096.00   829,158,591.00        4,433,147.00   951,133,842.00   \n",
       "33,763,884,027.00   644,959,578.00          525,171.00   170,418,708.00   \n",
       "33,771,740,952.00    66,119,060.00        2,714,366.00   764,424,398.00   \n",
       "33,760,759,297.00   169,581,928.00        2,811,337.00   387,219,949.00   \n",
       "33,699,906,476.00   614,838,141.00        5,120,456.00   828,107,932.00   \n",
       "33,669,113,314.00   253,413,258.00          923,224.00   205,519,781.00   \n",
       "33,668,533,742.00 1,371,081,876.00        4,539,784.00   724,927,588.00   \n",
       "\n",
       "                             Total  \n",
       "MSISDN/Number                       \n",
       "33,760,354,406.00   726,714,174.00  \n",
       "33,642,586,414.00 1,494,026,298.00  \n",
       "33,699,158,137.00 2,581,565,091.00  \n",
       "33,699,962,096.00   917,767,229.00  \n",
       "33,763,884,027.00   729,679,310.00  \n",
       "33,771,740,952.00   144,643,662.00  \n",
       "33,760,759,297.00   257,156,665.00  \n",
       "33,699,906,476.00   729,629,229.00  \n",
       "33,669,113,314.00   327,838,688.00  \n",
       "33,668,533,742.00 1,521,820,207.00  "
      ]
     },
     "execution_count": 42,
     "metadata": {},
     "output_type": "execute_result"
    }
   ],
   "source": [
    "total_app_columns = ['MSISDN/Number','Total Google', 'Total Youtube', 'Total Netflix', 'Total Email', \\\n",
    "                     'Total Gaming', 'Total Social Media', 'Total Other', 'Total']\n",
    "user_app_behaviour = user_app_usage[total_app_columns].groupby('MSISDN/Number').sum().sample(10)\n",
    "user_app_behaviour"
   ]
  },
  {
   "cell_type": "markdown",
   "id": "d7785bba",
   "metadata": {},
   "source": [
    "### Task 1.2"
   ]
  },
  {
   "cell_type": "markdown",
   "id": "0195d079",
   "metadata": {},
   "source": [
    "Conduct an exploratory data analysis on those data & communicate useful insights. Ensure that you identify and treat all missing values and outliers in the dataset by replacing by the mean of the corresponding column"
   ]
  },
  {
   "cell_type": "code",
   "execution_count": 43,
   "id": "5dbb2a48",
   "metadata": {},
   "outputs": [],
   "source": [
    "cols = ['Bearer Id','Dur. (ms).1' ,'MSISDN/Number','Total Google', 'Total Youtube', \\\n",
    "                       'Total Netflix', 'Total Email', 'Total Gaming', 'Total Social Media', 'Total Other', 'Total']\n",
    "\n",
    "user_app_behaviour = user_app_usage[cols]"
   ]
  },
  {
   "cell_type": "markdown",
   "id": "66d94b7c",
   "metadata": {},
   "source": [
    "All  relevant variables/columns and associated data types"
   ]
  },
  {
   "cell_type": "code",
   "execution_count": 44,
   "id": "fc5e0acb",
   "metadata": {},
   "outputs": [
    {
     "name": "stdout",
     "output_type": "stream",
     "text": [
      "<class 'pandas.core.frame.DataFrame'>\n",
      "RangeIndex: 150001 entries, 0 to 150000\n",
      "Data columns (total 11 columns):\n",
      " #   Column              Non-Null Count   Dtype  \n",
      "---  ------              --------------   -----  \n",
      " 0   Bearer Id           150001 non-null  float64\n",
      " 1   Dur. (ms).1         150001 non-null  float64\n",
      " 2   MSISDN/Number       150001 non-null  float64\n",
      " 3   Total Google        150001 non-null  float64\n",
      " 4   Total Youtube       150001 non-null  float64\n",
      " 5   Total Netflix       150001 non-null  float64\n",
      " 6   Total Email         150001 non-null  float64\n",
      " 7   Total Gaming        150001 non-null  float64\n",
      " 8   Total Social Media  150001 non-null  float64\n",
      " 9   Total Other         150001 non-null  float64\n",
      " 10  Total               150001 non-null  float64\n",
      "dtypes: float64(11)\n",
      "memory usage: 12.6 MB\n"
     ]
    }
   ],
   "source": [
    "user_app_behaviour.info()"
   ]
  },
  {
   "cell_type": "markdown",
   "id": "9e22a479",
   "metadata": {},
   "source": [
    "Analyze the basic metrics (mean, median, etc) in the Dataset"
   ]
  },
  {
   "cell_type": "code",
   "execution_count": 45,
   "id": "bfae299e",
   "metadata": {
    "scrolled": false
   },
   "outputs": [
    {
     "data": {
      "text/html": [
       "<div>\n",
       "<style scoped>\n",
       "    .dataframe tbody tr th:only-of-type {\n",
       "        vertical-align: middle;\n",
       "    }\n",
       "\n",
       "    .dataframe tbody tr th {\n",
       "        vertical-align: top;\n",
       "    }\n",
       "\n",
       "    .dataframe thead th {\n",
       "        text-align: right;\n",
       "    }\n",
       "</style>\n",
       "<table border=\"1\" class=\"dataframe\">\n",
       "  <thead>\n",
       "    <tr style=\"text-align: right;\">\n",
       "      <th></th>\n",
       "      <th>Bearer Id</th>\n",
       "      <th>Dur. (ms).1</th>\n",
       "      <th>MSISDN/Number</th>\n",
       "      <th>Total Google</th>\n",
       "      <th>Total Youtube</th>\n",
       "      <th>Total Netflix</th>\n",
       "      <th>Total Email</th>\n",
       "      <th>Total Gaming</th>\n",
       "      <th>Total Social Media</th>\n",
       "      <th>Total Other</th>\n",
       "      <th>Total</th>\n",
       "    </tr>\n",
       "  </thead>\n",
       "  <tbody>\n",
       "    <tr>\n",
       "      <th>count</th>\n",
       "      <td>150,001.00</td>\n",
       "      <td>150,001.00</td>\n",
       "      <td>150,001.00</td>\n",
       "      <td>150,001.00</td>\n",
       "      <td>150,001.00</td>\n",
       "      <td>150,001.00</td>\n",
       "      <td>150,001.00</td>\n",
       "      <td>150,001.00</td>\n",
       "      <td>150,001.00</td>\n",
       "      <td>150,001.00</td>\n",
       "      <td>150,001.00</td>\n",
       "    </tr>\n",
       "    <tr>\n",
       "      <th>mean</th>\n",
       "      <td>10,120,448,840,645,199,872.00</td>\n",
       "      <td>104,608,984.15</td>\n",
       "      <td>41,824,409,439.85</td>\n",
       "      <td>7,807,294.55</td>\n",
       "      <td>22,643,482.64</td>\n",
       "      <td>22,628,606.54</td>\n",
       "      <td>2,259,102.31</td>\n",
       "      <td>430,333,100.71</td>\n",
       "      <td>1,828,250.21</td>\n",
       "      <td>429,365,343.62</td>\n",
       "      <td>495,764,644.50</td>\n",
       "    </tr>\n",
       "    <tr>\n",
       "      <th>std</th>\n",
       "      <td>2,892,437,846,624,034,304.00</td>\n",
       "      <td>81,037,355.09</td>\n",
       "      <td>2,438,731,368,208.44</td>\n",
       "      <td>3,516,420.24</td>\n",
       "      <td>9,246,800.31</td>\n",
       "      <td>9,260,820.09</td>\n",
       "      <td>1,071,109.06</td>\n",
       "      <td>244,019,924.02</td>\n",
       "      <td>1,035,646.14</td>\n",
       "      <td>243,268,073.29</td>\n",
       "      <td>244,380,987.06</td>\n",
       "    </tr>\n",
       "    <tr>\n",
       "      <th>min</th>\n",
       "      <td>6,917,537,518,543,529,984.00</td>\n",
       "      <td>7,142,988.00</td>\n",
       "      <td>33,601,001,722.00</td>\n",
       "      <td>40,330.00</td>\n",
       "      <td>78,903.00</td>\n",
       "      <td>98,432.00</td>\n",
       "      <td>8,359.00</td>\n",
       "      <td>306,358.00</td>\n",
       "      <td>1,563.00</td>\n",
       "      <td>149,045.00</td>\n",
       "      <td>28,956,107.00</td>\n",
       "    </tr>\n",
       "    <tr>\n",
       "      <th>25%</th>\n",
       "      <td>7,349,883,247,447,919,616.00</td>\n",
       "      <td>57,442,058.00</td>\n",
       "      <td>33,651,508,781.00</td>\n",
       "      <td>4,943,599.00</td>\n",
       "      <td>15,998,463.00</td>\n",
       "      <td>15,979,455.00</td>\n",
       "      <td>1,359,344.00</td>\n",
       "      <td>218,727,939.00</td>\n",
       "      <td>932,218.00</td>\n",
       "      <td>218,553,417.00</td>\n",
       "      <td>284,476,442.00</td>\n",
       "    </tr>\n",
       "    <tr>\n",
       "      <th>50%</th>\n",
       "      <td>7,349,883,264,156,584,960.00</td>\n",
       "      <td>86,399,983.00</td>\n",
       "      <td>33,663,706,799.00</td>\n",
       "      <td>7,812,835.00</td>\n",
       "      <td>22,661,770.00</td>\n",
       "      <td>22,635,545.00</td>\n",
       "      <td>2,263,567.00</td>\n",
       "      <td>431,614,977.00</td>\n",
       "      <td>1,826,471.00</td>\n",
       "      <td>429,986,492.00</td>\n",
       "      <td>496,861,209.00</td>\n",
       "    </tr>\n",
       "    <tr>\n",
       "      <th>75%</th>\n",
       "      <td>13,042,425,978,928,500,736.00</td>\n",
       "      <td>132,430,686.00</td>\n",
       "      <td>33,683,072,356.00</td>\n",
       "      <td>10,682,796.00</td>\n",
       "      <td>29,292,604.00</td>\n",
       "      <td>29,290,445.00</td>\n",
       "      <td>3,159,818.00</td>\n",
       "      <td>641,415,878.00</td>\n",
       "      <td>2,727,487.00</td>\n",
       "      <td>639,927,495.00</td>\n",
       "      <td>706,505,411.00</td>\n",
       "    </tr>\n",
       "    <tr>\n",
       "      <th>max</th>\n",
       "      <td>13,186,541,167,134,199,808.00</td>\n",
       "      <td>1,859,336,442.00</td>\n",
       "      <td>882,397,108,489,451.00</td>\n",
       "      <td>15,528,782.00</td>\n",
       "      <td>45,190,078.00</td>\n",
       "      <td>45,198,153.00</td>\n",
       "      <td>4,518,036.00</td>\n",
       "      <td>859,202,784.00</td>\n",
       "      <td>3,650,861.00</td>\n",
       "      <td>859,520,934.00</td>\n",
       "      <td>955,984,776.00</td>\n",
       "    </tr>\n",
       "  </tbody>\n",
       "</table>\n",
       "</div>"
      ],
      "text/plain": [
       "                          Bearer Id      Dur. (ms).1          MSISDN/Number  \\\n",
       "count                    150,001.00       150,001.00             150,001.00   \n",
       "mean  10,120,448,840,645,199,872.00   104,608,984.15      41,824,409,439.85   \n",
       "std    2,892,437,846,624,034,304.00    81,037,355.09   2,438,731,368,208.44   \n",
       "min    6,917,537,518,543,529,984.00     7,142,988.00      33,601,001,722.00   \n",
       "25%    7,349,883,247,447,919,616.00    57,442,058.00      33,651,508,781.00   \n",
       "50%    7,349,883,264,156,584,960.00    86,399,983.00      33,663,706,799.00   \n",
       "75%   13,042,425,978,928,500,736.00   132,430,686.00      33,683,072,356.00   \n",
       "max   13,186,541,167,134,199,808.00 1,859,336,442.00 882,397,108,489,451.00   \n",
       "\n",
       "       Total Google  Total Youtube  Total Netflix  Total Email   Total Gaming  \\\n",
       "count    150,001.00     150,001.00     150,001.00   150,001.00     150,001.00   \n",
       "mean   7,807,294.55  22,643,482.64  22,628,606.54 2,259,102.31 430,333,100.71   \n",
       "std    3,516,420.24   9,246,800.31   9,260,820.09 1,071,109.06 244,019,924.02   \n",
       "min       40,330.00      78,903.00      98,432.00     8,359.00     306,358.00   \n",
       "25%    4,943,599.00  15,998,463.00  15,979,455.00 1,359,344.00 218,727,939.00   \n",
       "50%    7,812,835.00  22,661,770.00  22,635,545.00 2,263,567.00 431,614,977.00   \n",
       "75%   10,682,796.00  29,292,604.00  29,290,445.00 3,159,818.00 641,415,878.00   \n",
       "max   15,528,782.00  45,190,078.00  45,198,153.00 4,518,036.00 859,202,784.00   \n",
       "\n",
       "       Total Social Media    Total Other          Total  \n",
       "count          150,001.00     150,001.00     150,001.00  \n",
       "mean         1,828,250.21 429,365,343.62 495,764,644.50  \n",
       "std          1,035,646.14 243,268,073.29 244,380,987.06  \n",
       "min              1,563.00     149,045.00  28,956,107.00  \n",
       "25%            932,218.00 218,553,417.00 284,476,442.00  \n",
       "50%          1,826,471.00 429,986,492.00 496,861,209.00  \n",
       "75%          2,727,487.00 639,927,495.00 706,505,411.00  \n",
       "max          3,650,861.00 859,520,934.00 955,984,776.00  "
      ]
     },
     "execution_count": 45,
     "metadata": {},
     "output_type": "execute_result"
    }
   ],
   "source": [
    "user_app_behaviour.describe()"
   ]
  },
  {
   "cell_type": "markdown",
   "id": "5541b1f2",
   "metadata": {},
   "source": [
    "#### Graphical Analysis"
   ]
  },
  {
   "cell_type": "markdown",
   "id": "0777ede8",
   "metadata": {},
   "source": [
    "Graphical Univariate Analysis by identifying the most suitable plotting options for each variable"
   ]
  },
  {
   "cell_type": "code",
   "execution_count": 46,
   "id": "45cccbce",
   "metadata": {},
   "outputs": [
    {
     "data": {
      "image/png": "[encoded data removed]",
      "text/plain": [
       "<Figure size 1008x504 with 1 Axes>"
      ]
     },
     "metadata": {
      "needs_background": "light"
     },
     "output_type": "display_data"
    }
   ],
   "source": [
    "plot_hist(user_app_behaviour, 'Dur. (ms).1','green') "
   ]
  },
  {
   "cell_type": "code",
   "execution_count": 20,
   "id": "b3c7d588",
   "metadata": {},
   "outputs": [
    {
     "data": {
      "image/png": "[encoded data removed]",
      "text/plain": [
       "<Figure size 864x504 with 1 Axes>"
      ]
     },
     "metadata": {
      "needs_background": "light"
     },
     "output_type": "display_data"
    }
   ],
   "source": [
    "plot_box(user_app_behaviour, 'Dur. (ms).1', 'Duration Box plot')"
   ]
  },
  {
   "cell_type": "code",
   "execution_count": 47,
   "id": "b80512f7",
   "metadata": {},
   "outputs": [
    {
     "data": {
      "image/png": "[encoded data removed]",
      "text/plain": [
       "<Figure size 1008x504 with 1 Axes>"
      ]
     },
     "metadata": {
      "needs_background": "light"
     },
     "output_type": "display_data"
    }
   ],
   "source": [
    "plot_hist(user_app_behaviour, 'Total Google', 'green')"
   ]
  },
  {
   "cell_type": "code",
   "execution_count": 22,
   "id": "549a99ef",
   "metadata": {},
   "outputs": [
    {
     "data": {
      "image/png": "[encoded data removed]",
      "text/plain": [
       "<Figure size 1008x504 with 1 Axes>"
      ]
     },
     "metadata": {
      "needs_background": "light"
     },
     "output_type": "display_data"
    }
   ],
   "source": [
    "plot_hist(user_app_behaviour, 'Total Youtube', 'blue')"
   ]
  },
  {
   "cell_type": "code",
   "execution_count": 23,
   "id": "0d2f6a6b",
   "metadata": {},
   "outputs": [
    {
     "data": {
      "image/png": "[encoded data removed]",
      "text/plain": [
       "<Figure size 1008x504 with 1 Axes>"
      ]
     },
     "metadata": {
      "needs_background": "light"
     },
     "output_type": "display_data"
    }
   ],
   "source": [
    "plot_hist(user_app_behaviour, 'Total Netflix', 'yellow')"
   ]
  },
  {
   "cell_type": "code",
   "execution_count": 24,
   "id": "6f951463",
   "metadata": {},
   "outputs": [
    {
     "data": {
      "image/png": "[encoded data removed]",
      "text/plain": [
       "<Figure size 1008x504 with 1 Axes>"
      ]
     },
     "metadata": {
      "needs_background": "light"
     },
     "output_type": "display_data"
    }
   ],
   "source": [
    "plot_hist(user_app_behaviour, 'Total Email', 'green')"
   ]
  },
  {
   "cell_type": "code",
   "execution_count": 25,
   "id": "8f6948e0",
   "metadata": {},
   "outputs": [
    {
     "data": {
      "image/png": "[encoded data removed]",
      "text/plain": [
       "<Figure size 1008x504 with 1 Axes>"
      ]
     },
     "metadata": {
      "needs_background": "light"
     },
     "output_type": "display_data"
    }
   ],
   "source": [
    "plot_hist(user_app_behaviour, 'Total Gaming', 'blue')"
   ]
  },
  {
   "cell_type": "code",
   "execution_count": 26,
   "id": "9d9a4c8d",
   "metadata": {},
   "outputs": [
    {
     "data": {
      "image/png": "[encoded data removed]",
      "text/plain": [
       "<Figure size 1008x504 with 1 Axes>"
      ]
     },
     "metadata": {
      "needs_background": "light"
     },
     "output_type": "display_data"
    }
   ],
   "source": [
    "plot_hist(user_app_behaviour, 'Total Social Media', 'red')"
   ]
  },
  {
   "cell_type": "markdown",
   "id": "772ee500",
   "metadata": {},
   "source": [
    "Bivariate Analysis – explore the relationship between each application & the total DL+UL data "
   ]
  },
  {
   "cell_type": "code",
   "execution_count": 48,
   "id": "04f68730",
   "metadata": {},
   "outputs": [],
   "source": [
    "per_user = user_app_behaviour.groupby('MSISDN/Number').sum()"
   ]
  },
  {
   "cell_type": "code",
   "execution_count": 49,
   "id": "b71b1f1c",
   "metadata": {},
   "outputs": [
    {
     "data": {
      "image/png": "[encoded data removed]",
      "text/plain": [
       "<Figure size 864x504 with 1 Axes>"
      ]
     },
     "metadata": {
      "needs_background": "light"
     },
     "output_type": "display_data"
    }
   ],
   "source": [
    "plot_scatter(user_app_behaviour, 'Total Gaming','Total', 'Total Gaming Vs Total Data', None, None)"
   ]
  },
  {
   "cell_type": "code",
   "execution_count": 52,
   "id": "0ea6f658",
   "metadata": {},
   "outputs": [
    {
     "data": {
      "image/png": "[encoded data removed]",
      "text/plain": [
       "<Figure size 864x504 with 1 Axes>"
      ]
     },
     "metadata": {
      "needs_background": "light"
     },
     "output_type": "display_data"
    }
   ],
   "source": [
    "plot_scatter(per_user, 'Total Social Media','Total', 'Total Social Media Vs Total Data', None, None)"
   ]
  },
  {
   "cell_type": "code",
   "execution_count": 43,
   "id": "b914a9e8",
   "metadata": {},
   "outputs": [
    {
     "data": {
      "image/png": "[encoded data removed]",
      "text/plain": [
       "<Figure size 864x504 with 1 Axes>"
      ]
     },
     "metadata": {
      "needs_background": "light"
     },
     "output_type": "display_data"
    }
   ],
   "source": [
    "plot_scatter(per_user, 'Total Email','Total', 'Total Email Vs Total Data', None, None)"
   ]
  },
  {
   "cell_type": "code",
   "execution_count": 44,
   "id": "44c1f443",
   "metadata": {},
   "outputs": [
    {
     "data": {
      "image/png": "[encoded data removed]",
      "text/plain": [
       "<Figure size 864x504 with 1 Axes>"
      ]
     },
     "metadata": {
      "needs_background": "light"
     },
     "output_type": "display_data"
    }
   ],
   "source": [
    "plot_scatter(per_user, 'Total Netflix','Total', 'Total Netflix Vs Total Data', None, None)"
   ]
  },
  {
   "cell_type": "code",
   "execution_count": 45,
   "id": "1bc75a44",
   "metadata": {},
   "outputs": [
    {
     "data": {
      "image/png": "[encoded data removed]",
      "text/plain": [
       "<Figure size 864x504 with 1 Axes>"
      ]
     },
     "metadata": {
      "needs_background": "light"
     },
     "output_type": "display_data"
    }
   ],
   "source": [
    "plot_scatter(per_user,'Total Other','Total', 'Total Others Vs Total Data', None, None)"
   ]
  },
  {
   "cell_type": "code",
   "execution_count": 46,
   "id": "56e9cd79",
   "metadata": {},
   "outputs": [
    {
     "data": {
      "image/png": "[encoded data removed]",
      "text/plain": [
       "<Figure size 864x504 with 1 Axes>"
      ]
     },
     "metadata": {
      "needs_background": "light"
     },
     "output_type": "display_data"
    }
   ],
   "source": [
    "plot_scatter(per_user, 'Total Google','Total',  'Total Google Vs Total Data', None, None)"
   ]
  },
  {
   "cell_type": "code",
   "execution_count": 47,
   "id": "4f9cda72",
   "metadata": {},
   "outputs": [
    {
     "data": {
      "image/png": "[encoded data removed]",
      "text/plain": [
       "<Figure size 864x504 with 1 Axes>"
      ]
     },
     "metadata": {
      "needs_background": "light"
     },
     "output_type": "display_data"
    }
   ],
   "source": [
    "plot_scatter(per_user, 'Total Youtube','Total',  'Total Youtube Vs Total Data', None, None)"
   ]
  },
  {
   "cell_type": "code",
   "execution_count": 53,
   "id": "cfa0008c",
   "metadata": {},
   "outputs": [
    {
     "data": {
      "text/html": [
       "<div>\n",
       "<style scoped>\n",
       "    .dataframe tbody tr th:only-of-type {\n",
       "        vertical-align: middle;\n",
       "    }\n",
       "\n",
       "    .dataframe tbody tr th {\n",
       "        vertical-align: top;\n",
       "    }\n",
       "\n",
       "    .dataframe thead th {\n",
       "        text-align: right;\n",
       "    }\n",
       "</style>\n",
       "<table border=\"1\" class=\"dataframe\">\n",
       "  <thead>\n",
       "    <tr style=\"text-align: right;\">\n",
       "      <th></th>\n",
       "      <th>Bearer Id</th>\n",
       "      <th>Dur. (ms).1</th>\n",
       "      <th>Total Google</th>\n",
       "      <th>Total Youtube</th>\n",
       "      <th>Total Netflix</th>\n",
       "      <th>Total Email</th>\n",
       "      <th>Total Gaming</th>\n",
       "      <th>Total Social Media</th>\n",
       "      <th>Total Other</th>\n",
       "      <th>Total</th>\n",
       "    </tr>\n",
       "    <tr>\n",
       "      <th>MSISDN/Number</th>\n",
       "      <th></th>\n",
       "      <th></th>\n",
       "      <th></th>\n",
       "      <th></th>\n",
       "      <th></th>\n",
       "      <th></th>\n",
       "      <th></th>\n",
       "      <th></th>\n",
       "      <th></th>\n",
       "      <th></th>\n",
       "    </tr>\n",
       "  </thead>\n",
       "  <tbody>\n",
       "    <tr>\n",
       "      <th>33,601,001,722.00</th>\n",
       "      <td>13,114,483,554,762,799,104.00</td>\n",
       "      <td>116,720,140.00</td>\n",
       "      <td>4,389,005.00</td>\n",
       "      <td>21,624,548.00</td>\n",
       "      <td>27,180,981.00</td>\n",
       "      <td>1,331,362.00</td>\n",
       "      <td>812,458,661.00</td>\n",
       "      <td>2,232,135.00</td>\n",
       "      <td>386,570,872.00</td>\n",
       "      <td>878,690,574.00</td>\n",
       "    </tr>\n",
       "    <tr>\n",
       "      <th>33,601,001,754.00</th>\n",
       "      <td>7,349,883,260,786,089,984.00</td>\n",
       "      <td>181,230,963.00</td>\n",
       "      <td>5,334,863.00</td>\n",
       "      <td>12,432,223.00</td>\n",
       "      <td>11,221,763.00</td>\n",
       "      <td>3,307,781.00</td>\n",
       "      <td>119,750,078.00</td>\n",
       "      <td>2,660,565.00</td>\n",
       "      <td>281,710,071.00</td>\n",
       "      <td>156,859,643.00</td>\n",
       "    </tr>\n",
       "    <tr>\n",
       "      <th>33,601,002,511.00</th>\n",
       "      <td>7,349,883,263,388,680,192.00</td>\n",
       "      <td>134,969,374.00</td>\n",
       "      <td>3,443,126.00</td>\n",
       "      <td>21,333,570.00</td>\n",
       "      <td>19,353,900.00</td>\n",
       "      <td>3,205,380.00</td>\n",
       "      <td>538,827,713.00</td>\n",
       "      <td>3,195,623.00</td>\n",
       "      <td>501,693,672.00</td>\n",
       "      <td>595,966,483.00</td>\n",
       "    </tr>\n",
       "    <tr>\n",
       "      <th>33,601,007,832.00</th>\n",
       "      <td>13,042,425,972,781,099,008.00</td>\n",
       "      <td>49,878,024.00</td>\n",
       "      <td>9,678,493.00</td>\n",
       "      <td>6,977,321.00</td>\n",
       "      <td>1,942,092.00</td>\n",
       "      <td>2,284,670.00</td>\n",
       "      <td>391,126,127.00</td>\n",
       "      <td>280,294.00</td>\n",
       "      <td>35,279,702.00</td>\n",
       "      <td>422,320,698.00</td>\n",
       "    </tr>\n",
       "    <tr>\n",
       "      <th>33,601,008,617.00</th>\n",
       "      <td>14,627,708,905,718,919,168.00</td>\n",
       "      <td>37,104,453.00</td>\n",
       "      <td>18,499,616.00</td>\n",
       "      <td>41,533,002.00</td>\n",
       "      <td>49,201,724.00</td>\n",
       "      <td>3,305,469.00</td>\n",
       "      <td>1,314,797,820.00</td>\n",
       "      <td>2,912,542.00</td>\n",
       "      <td>804,804,484.00</td>\n",
       "      <td>1,457,410,944.00</td>\n",
       "    </tr>\n",
       "    <tr>\n",
       "      <th>...</th>\n",
       "      <td>...</td>\n",
       "      <td>...</td>\n",
       "      <td>...</td>\n",
       "      <td>...</td>\n",
       "      <td>...</td>\n",
       "      <td>...</td>\n",
       "      <td>...</td>\n",
       "      <td>...</td>\n",
       "      <td>...</td>\n",
       "      <td>...</td>\n",
       "    </tr>\n",
       "    <tr>\n",
       "      <th>33,789,996,170.00</th>\n",
       "      <td>13,042,425,959,639,599,104.00</td>\n",
       "      <td>8,810,688.00</td>\n",
       "      <td>7,531,269.00</td>\n",
       "      <td>26,647,843.00</td>\n",
       "      <td>14,902,538.00</td>\n",
       "      <td>1,006,915.00</td>\n",
       "      <td>660,361,359.00</td>\n",
       "      <td>300,183.00</td>\n",
       "      <td>295,282,817.00</td>\n",
       "      <td>714,641,641.00</td>\n",
       "    </tr>\n",
       "    <tr>\n",
       "      <th>33,789,997,247.00</th>\n",
       "      <td>13,114,483,558,421,200,896.00</td>\n",
       "      <td>140,988,659.00</td>\n",
       "      <td>5,429,705.00</td>\n",
       "      <td>19,851,572.00</td>\n",
       "      <td>8,531,060.00</td>\n",
       "      <td>2,514,097.00</td>\n",
       "      <td>437,003,292.00</td>\n",
       "      <td>498,569.00</td>\n",
       "      <td>211,115,113.00</td>\n",
       "      <td>480,307,335.00</td>\n",
       "    </tr>\n",
       "    <tr>\n",
       "      <th>3,197,020,876,596.00</th>\n",
       "      <td>7,277,825,624,788,950,016.00</td>\n",
       "      <td>877,385,325.00</td>\n",
       "      <td>10,438,660.00</td>\n",
       "      <td>11,959,905.00</td>\n",
       "      <td>26,592,300.00</td>\n",
       "      <td>1,520,771.00</td>\n",
       "      <td>178,048,738.00</td>\n",
       "      <td>715,224.00</td>\n",
       "      <td>470,526,473.00</td>\n",
       "      <td>232,123,971.00</td>\n",
       "    </tr>\n",
       "    <tr>\n",
       "      <th>337,000,037,000,919.00</th>\n",
       "      <td>7,349,883,258,102,979,584.00</td>\n",
       "      <td>253,030,201.00</td>\n",
       "      <td>9,830,617.00</td>\n",
       "      <td>36,734,940.00</td>\n",
       "      <td>30,905,042.00</td>\n",
       "      <td>3,318,582.00</td>\n",
       "      <td>510,142,695.00</td>\n",
       "      <td>521,566.00</td>\n",
       "      <td>149,188,439.00</td>\n",
       "      <td>596,287,824.00</td>\n",
       "    </tr>\n",
       "    <tr>\n",
       "      <th>882,397,108,489,451.00</th>\n",
       "      <td>7,277,825,601,573,409,792.00</td>\n",
       "      <td>869,844,200.00</td>\n",
       "      <td>9,218,647.00</td>\n",
       "      <td>40,940,710.00</td>\n",
       "      <td>28,846,230.00</td>\n",
       "      <td>3,330,974.00</td>\n",
       "      <td>43,070,260.00</td>\n",
       "      <td>1,546,088.00</td>\n",
       "      <td>401,360,457.00</td>\n",
       "      <td>139,153,646.00</td>\n",
       "    </tr>\n",
       "  </tbody>\n",
       "</table>\n",
       "<p>106856 rows × 10 columns</p>\n",
       "</div>"
      ],
      "text/plain": [
       "                                           Bearer Id    Dur. (ms).1  \\\n",
       "MSISDN/Number                                                         \n",
       "33,601,001,722.00      13,114,483,554,762,799,104.00 116,720,140.00   \n",
       "33,601,001,754.00       7,349,883,260,786,089,984.00 181,230,963.00   \n",
       "33,601,002,511.00       7,349,883,263,388,680,192.00 134,969,374.00   \n",
       "33,601,007,832.00      13,042,425,972,781,099,008.00  49,878,024.00   \n",
       "33,601,008,617.00      14,627,708,905,718,919,168.00  37,104,453.00   \n",
       "...                                              ...            ...   \n",
       "33,789,996,170.00      13,042,425,959,639,599,104.00   8,810,688.00   \n",
       "33,789,997,247.00      13,114,483,558,421,200,896.00 140,988,659.00   \n",
       "3,197,020,876,596.00    7,277,825,624,788,950,016.00 877,385,325.00   \n",
       "337,000,037,000,919.00  7,349,883,258,102,979,584.00 253,030,201.00   \n",
       "882,397,108,489,451.00  7,277,825,601,573,409,792.00 869,844,200.00   \n",
       "\n",
       "                        Total Google  Total Youtube  Total Netflix  \\\n",
       "MSISDN/Number                                                        \n",
       "33,601,001,722.00       4,389,005.00  21,624,548.00  27,180,981.00   \n",
       "33,601,001,754.00       5,334,863.00  12,432,223.00  11,221,763.00   \n",
       "33,601,002,511.00       3,443,126.00  21,333,570.00  19,353,900.00   \n",
       "33,601,007,832.00       9,678,493.00   6,977,321.00   1,942,092.00   \n",
       "33,601,008,617.00      18,499,616.00  41,533,002.00  49,201,724.00   \n",
       "...                              ...            ...            ...   \n",
       "33,789,996,170.00       7,531,269.00  26,647,843.00  14,902,538.00   \n",
       "33,789,997,247.00       5,429,705.00  19,851,572.00   8,531,060.00   \n",
       "3,197,020,876,596.00   10,438,660.00  11,959,905.00  26,592,300.00   \n",
       "337,000,037,000,919.00  9,830,617.00  36,734,940.00  30,905,042.00   \n",
       "882,397,108,489,451.00  9,218,647.00  40,940,710.00  28,846,230.00   \n",
       "\n",
       "                        Total Email     Total Gaming  Total Social Media  \\\n",
       "MSISDN/Number                                                              \n",
       "33,601,001,722.00      1,331,362.00   812,458,661.00        2,232,135.00   \n",
       "33,601,001,754.00      3,307,781.00   119,750,078.00        2,660,565.00   \n",
       "33,601,002,511.00      3,205,380.00   538,827,713.00        3,195,623.00   \n",
       "33,601,007,832.00      2,284,670.00   391,126,127.00          280,294.00   \n",
       "33,601,008,617.00      3,305,469.00 1,314,797,820.00        2,912,542.00   \n",
       "...                             ...              ...                 ...   \n",
       "33,789,996,170.00      1,006,915.00   660,361,359.00          300,183.00   \n",
       "33,789,997,247.00      2,514,097.00   437,003,292.00          498,569.00   \n",
       "3,197,020,876,596.00   1,520,771.00   178,048,738.00          715,224.00   \n",
       "337,000,037,000,919.00 3,318,582.00   510,142,695.00          521,566.00   \n",
       "882,397,108,489,451.00 3,330,974.00    43,070,260.00        1,546,088.00   \n",
       "\n",
       "                          Total Other            Total  \n",
       "MSISDN/Number                                           \n",
       "33,601,001,722.00      386,570,872.00   878,690,574.00  \n",
       "33,601,001,754.00      281,710,071.00   156,859,643.00  \n",
       "33,601,002,511.00      501,693,672.00   595,966,483.00  \n",
       "33,601,007,832.00       35,279,702.00   422,320,698.00  \n",
       "33,601,008,617.00      804,804,484.00 1,457,410,944.00  \n",
       "...                               ...              ...  \n",
       "33,789,996,170.00      295,282,817.00   714,641,641.00  \n",
       "33,789,997,247.00      211,115,113.00   480,307,335.00  \n",
       "3,197,020,876,596.00   470,526,473.00   232,123,971.00  \n",
       "337,000,037,000,919.00 149,188,439.00   596,287,824.00  \n",
       "882,397,108,489,451.00 401,360,457.00   139,153,646.00  \n",
       "\n",
       "[106856 rows x 10 columns]"
      ]
     },
     "execution_count": 53,
     "metadata": {},
     "output_type": "execute_result"
    }
   ],
   "source": [
    "per_user"
   ]
  },
  {
   "cell_type": "markdown",
   "id": "325a59bb",
   "metadata": {},
   "source": [
    "Correlation Analysis – compute a correlation matrix for Social Media data, Google data, Email data, Youtube data, Netflix data, Gaming data, Other data \n"
   ]
  },
  {
   "cell_type": "code",
   "execution_count": 54,
   "id": "65497bb2",
   "metadata": {},
   "outputs": [
    {
     "data": {
      "image/png": "[encoded data removed]",
      "text/plain": [
       "<Figure size 864x504 with 1 Axes>"
      ]
     },
     "metadata": {
      "needs_background": "light"
     },
     "output_type": "display_data"
    }
   ],
   "source": [
    "correlation = user_app_behaviour.corr()\n",
    "plot_heatmap(correlation, 'Correlation B/n  Applications')"
   ]
  },
  {
   "cell_type": "markdown",
   "id": "74d35737",
   "metadata": {},
   "source": [
    "Variable transformations – segment the users into top five decile classes based on the total duration for all sessions"
   ]
  },
  {
   "cell_type": "code",
   "execution_count": 55,
   "id": "f3956be9",
   "metadata": {},
   "outputs": [
    {
     "data": {
      "text/html": [
       "<div>\n",
       "<style scoped>\n",
       "    .dataframe tbody tr th:only-of-type {\n",
       "        vertical-align: middle;\n",
       "    }\n",
       "\n",
       "    .dataframe tbody tr th {\n",
       "        vertical-align: top;\n",
       "    }\n",
       "\n",
       "    .dataframe thead th {\n",
       "        text-align: right;\n",
       "    }\n",
       "</style>\n",
       "<table border=\"1\" class=\"dataframe\">\n",
       "  <thead>\n",
       "    <tr style=\"text-align: right;\">\n",
       "      <th></th>\n",
       "      <th>Bearer Id</th>\n",
       "      <th>Dur. (ms).1</th>\n",
       "      <th>Total Google</th>\n",
       "      <th>Total Youtube</th>\n",
       "      <th>Total Netflix</th>\n",
       "      <th>Total Email</th>\n",
       "      <th>Total Gaming</th>\n",
       "      <th>Total Social Media</th>\n",
       "      <th>Total Other</th>\n",
       "      <th>Total</th>\n",
       "      <th>Decile</th>\n",
       "    </tr>\n",
       "    <tr>\n",
       "      <th>MSISDN/Number</th>\n",
       "      <th></th>\n",
       "      <th></th>\n",
       "      <th></th>\n",
       "      <th></th>\n",
       "      <th></th>\n",
       "      <th></th>\n",
       "      <th></th>\n",
       "      <th></th>\n",
       "      <th></th>\n",
       "      <th></th>\n",
       "      <th></th>\n",
       "    </tr>\n",
       "  </thead>\n",
       "  <tbody>\n",
       "    <tr>\n",
       "      <th>33,601,001,722.00</th>\n",
       "      <td>13,114,483,554,762,799,104.00</td>\n",
       "      <td>116,720,140.00</td>\n",
       "      <td>4,389,005.00</td>\n",
       "      <td>21,624,548.00</td>\n",
       "      <td>27,180,981.00</td>\n",
       "      <td>1,331,362.00</td>\n",
       "      <td>812,458,661.00</td>\n",
       "      <td>2,232,135.00</td>\n",
       "      <td>386,570,872.00</td>\n",
       "      <td>878,690,574.00</td>\n",
       "      <td>2</td>\n",
       "    </tr>\n",
       "    <tr>\n",
       "      <th>33,601,001,754.00</th>\n",
       "      <td>7,349,883,260,786,089,984.00</td>\n",
       "      <td>181,230,963.00</td>\n",
       "      <td>5,334,863.00</td>\n",
       "      <td>12,432,223.00</td>\n",
       "      <td>11,221,763.00</td>\n",
       "      <td>3,307,781.00</td>\n",
       "      <td>119,750,078.00</td>\n",
       "      <td>2,660,565.00</td>\n",
       "      <td>281,710,071.00</td>\n",
       "      <td>156,859,643.00</td>\n",
       "      <td>3</td>\n",
       "    </tr>\n",
       "    <tr>\n",
       "      <th>33,601,002,511.00</th>\n",
       "      <td>7,349,883,263,388,680,192.00</td>\n",
       "      <td>134,969,374.00</td>\n",
       "      <td>3,443,126.00</td>\n",
       "      <td>21,333,570.00</td>\n",
       "      <td>19,353,900.00</td>\n",
       "      <td>3,205,380.00</td>\n",
       "      <td>538,827,713.00</td>\n",
       "      <td>3,195,623.00</td>\n",
       "      <td>501,693,672.00</td>\n",
       "      <td>595,966,483.00</td>\n",
       "      <td>3</td>\n",
       "    </tr>\n",
       "    <tr>\n",
       "      <th>33,601,007,832.00</th>\n",
       "      <td>13,042,425,972,781,099,008.00</td>\n",
       "      <td>49,878,024.00</td>\n",
       "      <td>9,678,493.00</td>\n",
       "      <td>6,977,321.00</td>\n",
       "      <td>1,942,092.00</td>\n",
       "      <td>2,284,670.00</td>\n",
       "      <td>391,126,127.00</td>\n",
       "      <td>280,294.00</td>\n",
       "      <td>35,279,702.00</td>\n",
       "      <td>422,320,698.00</td>\n",
       "      <td>0</td>\n",
       "    </tr>\n",
       "    <tr>\n",
       "      <th>33,601,008,617.00</th>\n",
       "      <td>14,627,708,905,718,919,168.00</td>\n",
       "      <td>37,104,453.00</td>\n",
       "      <td>18,499,616.00</td>\n",
       "      <td>41,533,002.00</td>\n",
       "      <td>49,201,724.00</td>\n",
       "      <td>3,305,469.00</td>\n",
       "      <td>1,314,797,820.00</td>\n",
       "      <td>2,912,542.00</td>\n",
       "      <td>804,804,484.00</td>\n",
       "      <td>1,457,410,944.00</td>\n",
       "      <td>0</td>\n",
       "    </tr>\n",
       "  </tbody>\n",
       "</table>\n",
       "</div>"
      ],
      "text/plain": [
       "                                      Bearer Id    Dur. (ms).1  Total Google  \\\n",
       "MSISDN/Number                                                                  \n",
       "33,601,001,722.00 13,114,483,554,762,799,104.00 116,720,140.00  4,389,005.00   \n",
       "33,601,001,754.00  7,349,883,260,786,089,984.00 181,230,963.00  5,334,863.00   \n",
       "33,601,002,511.00  7,349,883,263,388,680,192.00 134,969,374.00  3,443,126.00   \n",
       "33,601,007,832.00 13,042,425,972,781,099,008.00  49,878,024.00  9,678,493.00   \n",
       "33,601,008,617.00 14,627,708,905,718,919,168.00  37,104,453.00 18,499,616.00   \n",
       "\n",
       "                   Total Youtube  Total Netflix  Total Email     Total Gaming  \\\n",
       "MSISDN/Number                                                                   \n",
       "33,601,001,722.00  21,624,548.00  27,180,981.00 1,331,362.00   812,458,661.00   \n",
       "33,601,001,754.00  12,432,223.00  11,221,763.00 3,307,781.00   119,750,078.00   \n",
       "33,601,002,511.00  21,333,570.00  19,353,900.00 3,205,380.00   538,827,713.00   \n",
       "33,601,007,832.00   6,977,321.00   1,942,092.00 2,284,670.00   391,126,127.00   \n",
       "33,601,008,617.00  41,533,002.00  49,201,724.00 3,305,469.00 1,314,797,820.00   \n",
       "\n",
       "                   Total Social Media    Total Other            Total  Decile  \n",
       "MSISDN/Number                                                                  \n",
       "33,601,001,722.00        2,232,135.00 386,570,872.00   878,690,574.00       2  \n",
       "33,601,001,754.00        2,660,565.00 281,710,071.00   156,859,643.00       3  \n",
       "33,601,002,511.00        3,195,623.00 501,693,672.00   595,966,483.00       3  \n",
       "33,601,007,832.00          280,294.00  35,279,702.00   422,320,698.00       0  \n",
       "33,601,008,617.00        2,912,542.00 804,804,484.00 1,457,410,944.00       0  "
      ]
     },
     "execution_count": 55,
     "metadata": {},
     "output_type": "execute_result"
    }
   ],
   "source": [
    "per_user['Decile'] = pd.qcut(per_user['Dur. (ms).1'], 5, labels = False)\n",
    "per_user.head()"
   ]
  },
  {
   "cell_type": "markdown",
   "id": "bb64ead6",
   "metadata": {},
   "source": [
    "Compute the total data (DL+UL) per decile class"
   ]
  },
  {
   "cell_type": "code",
   "execution_count": 56,
   "id": "5cea98ce",
   "metadata": {},
   "outputs": [
    {
     "data": {
      "text/html": [
       "<div>\n",
       "<style scoped>\n",
       "    .dataframe tbody tr th:only-of-type {\n",
       "        vertical-align: middle;\n",
       "    }\n",
       "\n",
       "    .dataframe tbody tr th {\n",
       "        vertical-align: top;\n",
       "    }\n",
       "\n",
       "    .dataframe thead th {\n",
       "        text-align: right;\n",
       "    }\n",
       "</style>\n",
       "<table border=\"1\" class=\"dataframe\">\n",
       "  <thead>\n",
       "    <tr style=\"text-align: right;\">\n",
       "      <th></th>\n",
       "      <th>Total Google</th>\n",
       "      <th>Total Youtube</th>\n",
       "      <th>Total Netflix</th>\n",
       "      <th>Total Email</th>\n",
       "      <th>Total Gaming</th>\n",
       "      <th>Total Social Media</th>\n",
       "      <th>Total Other</th>\n",
       "      <th>Total</th>\n",
       "      <th>Dur. (ms).1</th>\n",
       "    </tr>\n",
       "    <tr>\n",
       "      <th>Decile</th>\n",
       "      <th></th>\n",
       "      <th></th>\n",
       "      <th></th>\n",
       "      <th></th>\n",
       "      <th></th>\n",
       "      <th></th>\n",
       "      <th></th>\n",
       "      <th></th>\n",
       "      <th></th>\n",
       "    </tr>\n",
       "  </thead>\n",
       "  <tbody>\n",
       "    <tr>\n",
       "      <th>0</th>\n",
       "      <td>181,370,304,992.00</td>\n",
       "      <td>525,517,138,146.00</td>\n",
       "      <td>528,123,695,448.00</td>\n",
       "      <td>52,631,292,602.00</td>\n",
       "      <td>10,026,464,667,165.00</td>\n",
       "      <td>42,611,101,069.00</td>\n",
       "      <td>9,926,881,949,403.00</td>\n",
       "      <td>11,548,687,049,832.00</td>\n",
       "      <td>644,356,783,578.00</td>\n",
       "    </tr>\n",
       "    <tr>\n",
       "      <th>1</th>\n",
       "      <td>187,245,517,232.00</td>\n",
       "      <td>542,946,145,087.00</td>\n",
       "      <td>541,261,528,793.00</td>\n",
       "      <td>53,809,882,005.00</td>\n",
       "      <td>10,283,359,755,714.00</td>\n",
       "      <td>43,593,279,891.00</td>\n",
       "      <td>10,294,085,815,265.00</td>\n",
       "      <td>11,849,934,477,584.00</td>\n",
       "      <td>1,683,667,861,292.00</td>\n",
       "    </tr>\n",
       "    <tr>\n",
       "      <th>2</th>\n",
       "      <td>193,077,475,508.00</td>\n",
       "      <td>558,905,811,623.00</td>\n",
       "      <td>560,317,138,059.00</td>\n",
       "      <td>55,870,431,879.00</td>\n",
       "      <td>10,672,565,224,713.00</td>\n",
       "      <td>45,147,374,240.00</td>\n",
       "      <td>10,719,825,341,367.00</td>\n",
       "      <td>12,290,851,516,844.00</td>\n",
       "      <td>2,249,247,608,346.00</td>\n",
       "    </tr>\n",
       "    <tr>\n",
       "      <th>3</th>\n",
       "      <td>219,620,273,448.00</td>\n",
       "      <td>637,538,868,857.00</td>\n",
       "      <td>634,825,546,815.00</td>\n",
       "      <td>63,625,318,038.00</td>\n",
       "      <td>12,134,508,398,404.00</td>\n",
       "      <td>51,777,471,252.00</td>\n",
       "      <td>12,044,072,998,513.00</td>\n",
       "      <td>13,974,333,905,200.00</td>\n",
       "      <td>3,448,492,642,703.00</td>\n",
       "    </tr>\n",
       "    <tr>\n",
       "      <th>4</th>\n",
       "      <td>389,788,417,950.55</td>\n",
       "      <td>1,131,637,075,559.64</td>\n",
       "      <td>1,129,785,700,248.54</td>\n",
       "      <td>112,930,681,072.31</td>\n",
       "      <td>21,433,497,393,020.71</td>\n",
       "      <td>91,110,133,002.21</td>\n",
       "      <td>21,420,364,803,633.62</td>\n",
       "      <td>24,701,385,490,590.50</td>\n",
       "      <td>7,665,687,335,966.00</td>\n",
       "    </tr>\n",
       "  </tbody>\n",
       "</table>\n",
       "</div>"
      ],
      "text/plain": [
       "             Total Google        Total Youtube        Total Netflix  \\\n",
       "Decile                                                                \n",
       "0      181,370,304,992.00   525,517,138,146.00   528,123,695,448.00   \n",
       "1      187,245,517,232.00   542,946,145,087.00   541,261,528,793.00   \n",
       "2      193,077,475,508.00   558,905,811,623.00   560,317,138,059.00   \n",
       "3      219,620,273,448.00   637,538,868,857.00   634,825,546,815.00   \n",
       "4      389,788,417,950.55 1,131,637,075,559.64 1,129,785,700,248.54   \n",
       "\n",
       "              Total Email          Total Gaming  Total Social Media  \\\n",
       "Decile                                                                \n",
       "0       52,631,292,602.00 10,026,464,667,165.00   42,611,101,069.00   \n",
       "1       53,809,882,005.00 10,283,359,755,714.00   43,593,279,891.00   \n",
       "2       55,870,431,879.00 10,672,565,224,713.00   45,147,374,240.00   \n",
       "3       63,625,318,038.00 12,134,508,398,404.00   51,777,471,252.00   \n",
       "4      112,930,681,072.31 21,433,497,393,020.71   91,110,133,002.21   \n",
       "\n",
       "                 Total Other                 Total          Dur. (ms).1  \n",
       "Decile                                                                   \n",
       "0       9,926,881,949,403.00 11,548,687,049,832.00   644,356,783,578.00  \n",
       "1      10,294,085,815,265.00 11,849,934,477,584.00 1,683,667,861,292.00  \n",
       "2      10,719,825,341,367.00 12,290,851,516,844.00 2,249,247,608,346.00  \n",
       "3      12,044,072,998,513.00 13,974,333,905,200.00 3,448,492,642,703.00  \n",
       "4      21,420,364,803,633.62 24,701,385,490,590.50 7,665,687,335,966.00  "
      ]
     },
     "execution_count": 56,
     "metadata": {},
     "output_type": "execute_result"
    }
   ],
   "source": [
    "decile_data_usage = per_user.groupby('Decile').sum()\n",
    "filter_columns = total_app_columns[1:]\n",
    "filter_columns.append('Dur. (ms).1')\n",
    "decile_data_usage[filter_columns]"
   ]
  },
  {
   "cell_type": "code",
   "execution_count": 57,
   "id": "7fc5ef6c",
   "metadata": {},
   "outputs": [
    {
     "data": {
      "image/png": "[encoded data removed]",
      "text/plain": [
       "<Figure size 864x504 with 1 Axes>"
      ]
     },
     "metadata": {
      "needs_background": "light"
     },
     "output_type": "display_data"
    }
   ],
   "source": [
    "plot_scatter(per_user, 'Total', 'Dur. (ms).1', 'Duration Vs Total Data', None, None)"
   ]
  },
  {
   "cell_type": "markdown",
   "id": "39c2c9ee",
   "metadata": {},
   "source": [
    "Dimensionality Reduction – perform a principal component analysis to reduce the dimensions of data  \n"
   ]
  },
  {
   "cell_type": "code",
   "execution_count": 59,
   "id": "3cf063f9",
   "metadata": {},
   "outputs": [
    {
     "data": {
      "text/html": [
       "<div>\n",
       "<style scoped>\n",
       "    .dataframe tbody tr th:only-of-type {\n",
       "        vertical-align: middle;\n",
       "    }\n",
       "\n",
       "    .dataframe tbody tr th {\n",
       "        vertical-align: top;\n",
       "    }\n",
       "\n",
       "    .dataframe thead th {\n",
       "        text-align: right;\n",
       "    }\n",
       "</style>\n",
       "<table border=\"1\" class=\"dataframe\">\n",
       "  <thead>\n",
       "    <tr style=\"text-align: right;\">\n",
       "      <th></th>\n",
       "      <th>PC1</th>\n",
       "      <th>PC2</th>\n",
       "      <th>PC3</th>\n",
       "    </tr>\n",
       "  </thead>\n",
       "  <tbody>\n",
       "    <tr>\n",
       "      <th>0</th>\n",
       "      <td>-0.24</td>\n",
       "      <td>-0.00</td>\n",
       "      <td>-0.05</td>\n",
       "    </tr>\n",
       "    <tr>\n",
       "      <th>1</th>\n",
       "      <td>-0.51</td>\n",
       "      <td>-0.78</td>\n",
       "      <td>0.05</td>\n",
       "    </tr>\n",
       "    <tr>\n",
       "      <th>2</th>\n",
       "      <td>-0.26</td>\n",
       "      <td>-0.69</td>\n",
       "      <td>-0.18</td>\n",
       "    </tr>\n",
       "    <tr>\n",
       "      <th>3</th>\n",
       "      <td>-0.80</td>\n",
       "      <td>1.34</td>\n",
       "      <td>0.29</td>\n",
       "    </tr>\n",
       "    <tr>\n",
       "      <th>4</th>\n",
       "      <td>0.39</td>\n",
       "      <td>1.54</td>\n",
       "      <td>-0.09</td>\n",
       "    </tr>\n",
       "  </tbody>\n",
       "</table>\n",
       "</div>"
      ],
      "text/plain": [
       "    PC1   PC2   PC3\n",
       "0 -0.24 -0.00 -0.05\n",
       "1 -0.51 -0.78  0.05\n",
       "2 -0.26 -0.69 -0.18\n",
       "3 -0.80  1.34  0.29\n",
       "4  0.39  1.54 -0.09"
      ]
     },
     "execution_count": 59,
     "metadata": {},
     "output_type": "execute_result"
    }
   ],
   "source": [
    "pca_scaled = StandardScaler().fit_transform(X=per_user)\n",
    "pca = PCA(n_components=3)\n",
    "pca.fit(pca_scaled)\n",
    "score = pca.transform(pca_scaled)\n",
    "\n",
    "\n",
    "principalDf = pd.DataFrame(data = score\n",
    "             , columns = ['PC1', 'PC2', 'PC3'])\n",
    "principalDf.head()"
   ]
  },
  {
   "cell_type": "code",
   "execution_count": null,
   "id": "0839a307",
   "metadata": {},
   "outputs": [],
   "source": [
    "pca.explained_variance_"
   ]
  },
  {
   "cell_type": "markdown",
   "id": "7e9e8140",
   "metadata": {},
   "source": [
    "## Task 2 - User Engagement analysis"
   ]
  },
  {
   "cell_type": "markdown",
   "id": "f9cc3857",
   "metadata": {},
   "source": [
    "Tthe user’s engagement using the following engagement metrics: 1. sessions frequency \n",
    "1. sessions frequency \n",
    "2. the duration of the session \n",
    "3. the sessions total traffic (download and upload (bytes))\n"
   ]
  },
  {
   "cell_type": "markdown",
   "id": "4922bb4f",
   "metadata": {},
   "source": [
    "### Task 2.1"
   ]
  },
  {
   "cell_type": "markdown",
   "id": "43aeefcf",
   "metadata": {},
   "source": [
    "Aggregate the above metrics per customer id (MSISDN) and report the top 10 customers per engagement metric "
   ]
  },
  {
   "cell_type": "code",
   "execution_count": 60,
   "id": "5102cfcf",
   "metadata": {},
   "outputs": [
    {
     "data": {
      "text/html": [
       "<div>\n",
       "<style scoped>\n",
       "    .dataframe tbody tr th:only-of-type {\n",
       "        vertical-align: middle;\n",
       "    }\n",
       "\n",
       "    .dataframe tbody tr th {\n",
       "        vertical-align: top;\n",
       "    }\n",
       "\n",
       "    .dataframe thead th {\n",
       "        text-align: right;\n",
       "    }\n",
       "</style>\n",
       "<table border=\"1\" class=\"dataframe\">\n",
       "  <thead>\n",
       "    <tr style=\"text-align: right;\">\n",
       "      <th></th>\n",
       "      <th>Bearer Id</th>\n",
       "      <th>Dur. (ms).1</th>\n",
       "      <th>Total</th>\n",
       "    </tr>\n",
       "    <tr>\n",
       "      <th>MSISDN/Number</th>\n",
       "      <th></th>\n",
       "      <th></th>\n",
       "      <th></th>\n",
       "    </tr>\n",
       "  </thead>\n",
       "  <tbody>\n",
       "    <tr>\n",
       "      <th>33,601,001,722.00</th>\n",
       "      <td>1</td>\n",
       "      <td>116,720,140.00</td>\n",
       "      <td>878,690,574.00</td>\n",
       "    </tr>\n",
       "    <tr>\n",
       "      <th>33,601,001,754.00</th>\n",
       "      <td>1</td>\n",
       "      <td>181,230,963.00</td>\n",
       "      <td>156,859,643.00</td>\n",
       "    </tr>\n",
       "    <tr>\n",
       "      <th>33,601,002,511.00</th>\n",
       "      <td>1</td>\n",
       "      <td>134,969,374.00</td>\n",
       "      <td>595,966,483.00</td>\n",
       "    </tr>\n",
       "    <tr>\n",
       "      <th>33,601,007,832.00</th>\n",
       "      <td>1</td>\n",
       "      <td>49,878,024.00</td>\n",
       "      <td>422,320,698.00</td>\n",
       "    </tr>\n",
       "    <tr>\n",
       "      <th>33,601,008,617.00</th>\n",
       "      <td>2</td>\n",
       "      <td>37,104,453.00</td>\n",
       "      <td>1,457,410,944.00</td>\n",
       "    </tr>\n",
       "  </tbody>\n",
       "</table>\n",
       "</div>"
      ],
      "text/plain": [
       "                   Bearer Id    Dur. (ms).1            Total\n",
       "MSISDN/Number                                               \n",
       "33,601,001,722.00          1 116,720,140.00   878,690,574.00\n",
       "33,601,001,754.00          1 181,230,963.00   156,859,643.00\n",
       "33,601,002,511.00          1 134,969,374.00   595,966,483.00\n",
       "33,601,007,832.00          1  49,878,024.00   422,320,698.00\n",
       "33,601,008,617.00          2  37,104,453.00 1,457,410,944.00"
      ]
     },
     "execution_count": 60,
     "metadata": {},
     "output_type": "execute_result"
    }
   ],
   "source": [
    "df_task2 = df_clean.copy()\n",
    "df_task2['Total'] = df_task2['Total UL (Bytes)'] + df_task2['Total DL (Bytes)']\n",
    "df_task2 = df_task2.groupby('MSISDN/Number')\\\n",
    "    .agg({\"Bearer Id\": \"count\", 'Dur. (ms).1':'sum', 'Total':'sum'})\n",
    "\n",
    "df_task2.head()"
   ]
  },
  {
   "cell_type": "code",
   "execution_count": 61,
   "id": "d58495b8",
   "metadata": {},
   "outputs": [
    {
     "data": {
      "text/html": [
       "<div>\n",
       "<style scoped>\n",
       "    .dataframe tbody tr th:only-of-type {\n",
       "        vertical-align: middle;\n",
       "    }\n",
       "\n",
       "    .dataframe tbody tr th {\n",
       "        vertical-align: top;\n",
       "    }\n",
       "\n",
       "    .dataframe thead th {\n",
       "        text-align: right;\n",
       "    }\n",
       "</style>\n",
       "<table border=\"1\" class=\"dataframe\">\n",
       "  <thead>\n",
       "    <tr style=\"text-align: right;\">\n",
       "      <th></th>\n",
       "      <th>Bearer Id</th>\n",
       "      <th>Dur. (ms).1</th>\n",
       "      <th>Total</th>\n",
       "    </tr>\n",
       "    <tr>\n",
       "      <th>MSISDN/Number</th>\n",
       "      <th></th>\n",
       "      <th></th>\n",
       "      <th></th>\n",
       "    </tr>\n",
       "  </thead>\n",
       "  <tbody>\n",
       "    <tr>\n",
       "      <th>33,663,706,799.00</th>\n",
       "      <td>1067</td>\n",
       "      <td>72,656,111,817.00</td>\n",
       "      <td>531,963,557,516.50</td>\n",
       "    </tr>\n",
       "    <tr>\n",
       "      <th>33,626,320,676.00</th>\n",
       "      <td>18</td>\n",
       "      <td>8,791,936,680.00</td>\n",
       "      <td>7,971,167,261.00</td>\n",
       "    </tr>\n",
       "    <tr>\n",
       "      <th>33,614,892,860.00</th>\n",
       "      <td>17</td>\n",
       "      <td>9,966,905,758.00</td>\n",
       "      <td>8,846,226,494.00</td>\n",
       "    </tr>\n",
       "    <tr>\n",
       "      <th>33,625,779,332.00</th>\n",
       "      <td>17</td>\n",
       "      <td>18,553,763,486.00</td>\n",
       "      <td>8,499,620,722.00</td>\n",
       "    </tr>\n",
       "    <tr>\n",
       "      <th>33,659,725,664.00</th>\n",
       "      <td>16</td>\n",
       "      <td>4,035,436,251.00</td>\n",
       "      <td>7,705,862,783.00</td>\n",
       "    </tr>\n",
       "    <tr>\n",
       "      <th>33,675,877,202.00</th>\n",
       "      <td>15</td>\n",
       "      <td>4,865,953,827.00</td>\n",
       "      <td>7,891,110,608.00</td>\n",
       "    </tr>\n",
       "    <tr>\n",
       "      <th>33,760,536,639.00</th>\n",
       "      <td>15</td>\n",
       "      <td>9,279,442,000.00</td>\n",
       "      <td>8,514,773,963.00</td>\n",
       "    </tr>\n",
       "    <tr>\n",
       "      <th>33,667,163,239.00</th>\n",
       "      <td>13</td>\n",
       "      <td>8,744,922,020.00</td>\n",
       "      <td>5,618,394,054.00</td>\n",
       "    </tr>\n",
       "    <tr>\n",
       "      <th>33,604,515,716.00</th>\n",
       "      <td>12</td>\n",
       "      <td>5,207,995,411.00</td>\n",
       "      <td>5,487,855,293.00</td>\n",
       "    </tr>\n",
       "    <tr>\n",
       "      <th>33,760,413,819.00</th>\n",
       "      <td>12</td>\n",
       "      <td>5,321,673,794.00</td>\n",
       "      <td>7,132,370,514.00</td>\n",
       "    </tr>\n",
       "  </tbody>\n",
       "</table>\n",
       "</div>"
      ],
      "text/plain": [
       "                   Bearer Id       Dur. (ms).1              Total\n",
       "MSISDN/Number                                                    \n",
       "33,663,706,799.00       1067 72,656,111,817.00 531,963,557,516.50\n",
       "33,626,320,676.00         18  8,791,936,680.00   7,971,167,261.00\n",
       "33,614,892,860.00         17  9,966,905,758.00   8,846,226,494.00\n",
       "33,625,779,332.00         17 18,553,763,486.00   8,499,620,722.00\n",
       "33,659,725,664.00         16  4,035,436,251.00   7,705,862,783.00\n",
       "33,675,877,202.00         15  4,865,953,827.00   7,891,110,608.00\n",
       "33,760,536,639.00         15  9,279,442,000.00   8,514,773,963.00\n",
       "33,667,163,239.00         13  8,744,922,020.00   5,618,394,054.00\n",
       "33,604,515,716.00         12  5,207,995,411.00   5,487,855,293.00\n",
       "33,760,413,819.00         12  5,321,673,794.00   7,132,370,514.00"
      ]
     },
     "execution_count": 61,
     "metadata": {},
     "output_type": "execute_result"
    }
   ],
   "source": [
    "### Top 10 Beaerer id\n",
    "df_task2.sort_values(by='Bearer Id', ascending=False).head(10)"
   ]
  },
  {
   "cell_type": "code",
   "execution_count": 62,
   "id": "cea682fe",
   "metadata": {},
   "outputs": [
    {
     "data": {
      "text/html": [
       "<div>\n",
       "<style scoped>\n",
       "    .dataframe tbody tr th:only-of-type {\n",
       "        vertical-align: middle;\n",
       "    }\n",
       "\n",
       "    .dataframe tbody tr th {\n",
       "        vertical-align: top;\n",
       "    }\n",
       "\n",
       "    .dataframe thead th {\n",
       "        text-align: right;\n",
       "    }\n",
       "</style>\n",
       "<table border=\"1\" class=\"dataframe\">\n",
       "  <thead>\n",
       "    <tr style=\"text-align: right;\">\n",
       "      <th></th>\n",
       "      <th>Bearer Id</th>\n",
       "      <th>Dur. (ms).1</th>\n",
       "      <th>Total</th>\n",
       "    </tr>\n",
       "    <tr>\n",
       "      <th>MSISDN/Number</th>\n",
       "      <th></th>\n",
       "      <th></th>\n",
       "      <th></th>\n",
       "    </tr>\n",
       "  </thead>\n",
       "  <tbody>\n",
       "    <tr>\n",
       "      <th>33,663,706,799.00</th>\n",
       "      <td>1067</td>\n",
       "      <td>72,656,111,817.00</td>\n",
       "      <td>531,963,557,516.50</td>\n",
       "    </tr>\n",
       "    <tr>\n",
       "      <th>33,625,779,332.00</th>\n",
       "      <td>17</td>\n",
       "      <td>18,553,763,486.00</td>\n",
       "      <td>8,499,620,722.00</td>\n",
       "    </tr>\n",
       "    <tr>\n",
       "      <th>33,614,892,860.00</th>\n",
       "      <td>17</td>\n",
       "      <td>9,966,905,758.00</td>\n",
       "      <td>8,846,226,494.00</td>\n",
       "    </tr>\n",
       "    <tr>\n",
       "      <th>33,760,536,639.00</th>\n",
       "      <td>15</td>\n",
       "      <td>9,279,442,000.00</td>\n",
       "      <td>8,514,773,963.00</td>\n",
       "    </tr>\n",
       "    <tr>\n",
       "      <th>33,626,320,676.00</th>\n",
       "      <td>18</td>\n",
       "      <td>8,791,936,680.00</td>\n",
       "      <td>7,971,167,261.00</td>\n",
       "    </tr>\n",
       "    <tr>\n",
       "      <th>33,667,163,239.00</th>\n",
       "      <td>13</td>\n",
       "      <td>8,744,922,020.00</td>\n",
       "      <td>5,618,394,054.00</td>\n",
       "    </tr>\n",
       "    <tr>\n",
       "      <th>33,662,840,755.00</th>\n",
       "      <td>9</td>\n",
       "      <td>6,614,274,287.00</td>\n",
       "      <td>4,000,097,981.00</td>\n",
       "    </tr>\n",
       "    <tr>\n",
       "      <th>33,664,693,736.00</th>\n",
       "      <td>9</td>\n",
       "      <td>6,288,735,771.00</td>\n",
       "      <td>5,682,007,334.00</td>\n",
       "    </tr>\n",
       "    <tr>\n",
       "      <th>33,603,127,838.00</th>\n",
       "      <td>12</td>\n",
       "      <td>6,287,767,483.00</td>\n",
       "      <td>4,976,195,043.00</td>\n",
       "    </tr>\n",
       "    <tr>\n",
       "      <th>33,667,456,716.00</th>\n",
       "      <td>6</td>\n",
       "      <td>5,649,885,358.00</td>\n",
       "      <td>2,600,521,941.00</td>\n",
       "    </tr>\n",
       "  </tbody>\n",
       "</table>\n",
       "</div>"
      ],
      "text/plain": [
       "                   Bearer Id       Dur. (ms).1              Total\n",
       "MSISDN/Number                                                    \n",
       "33,663,706,799.00       1067 72,656,111,817.00 531,963,557,516.50\n",
       "33,625,779,332.00         17 18,553,763,486.00   8,499,620,722.00\n",
       "33,614,892,860.00         17  9,966,905,758.00   8,846,226,494.00\n",
       "33,760,536,639.00         15  9,279,442,000.00   8,514,773,963.00\n",
       "33,626,320,676.00         18  8,791,936,680.00   7,971,167,261.00\n",
       "33,667,163,239.00         13  8,744,922,020.00   5,618,394,054.00\n",
       "33,662,840,755.00          9  6,614,274,287.00   4,000,097,981.00\n",
       "33,664,693,736.00          9  6,288,735,771.00   5,682,007,334.00\n",
       "33,603,127,838.00         12  6,287,767,483.00   4,976,195,043.00\n",
       "33,667,456,716.00          6  5,649,885,358.00   2,600,521,941.00"
      ]
     },
     "execution_count": 62,
     "metadata": {},
     "output_type": "execute_result"
    }
   ],
   "source": [
    "### Top 10 Duration\n",
    "df_task2.sort_values(by='Dur. (ms).1', ascending=False).head(10)"
   ]
  },
  {
   "cell_type": "code",
   "execution_count": 63,
   "id": "2997b9cc",
   "metadata": {},
   "outputs": [
    {
     "data": {
      "text/html": [
       "<div>\n",
       "<style scoped>\n",
       "    .dataframe tbody tr th:only-of-type {\n",
       "        vertical-align: middle;\n",
       "    }\n",
       "\n",
       "    .dataframe tbody tr th {\n",
       "        vertical-align: top;\n",
       "    }\n",
       "\n",
       "    .dataframe thead th {\n",
       "        text-align: right;\n",
       "    }\n",
       "</style>\n",
       "<table border=\"1\" class=\"dataframe\">\n",
       "  <thead>\n",
       "    <tr style=\"text-align: right;\">\n",
       "      <th></th>\n",
       "      <th>Bearer Id</th>\n",
       "      <th>Dur. (ms).1</th>\n",
       "      <th>Total</th>\n",
       "    </tr>\n",
       "    <tr>\n",
       "      <th>MSISDN/Number</th>\n",
       "      <th></th>\n",
       "      <th></th>\n",
       "      <th></th>\n",
       "    </tr>\n",
       "  </thead>\n",
       "  <tbody>\n",
       "    <tr>\n",
       "      <th>33,663,706,799.00</th>\n",
       "      <td>1067</td>\n",
       "      <td>72,656,111,817.00</td>\n",
       "      <td>531,963,557,516.50</td>\n",
       "    </tr>\n",
       "    <tr>\n",
       "      <th>33,614,892,860.00</th>\n",
       "      <td>17</td>\n",
       "      <td>9,966,905,758.00</td>\n",
       "      <td>8,846,226,494.00</td>\n",
       "    </tr>\n",
       "    <tr>\n",
       "      <th>33,760,536,639.00</th>\n",
       "      <td>15</td>\n",
       "      <td>9,279,442,000.00</td>\n",
       "      <td>8,514,773,963.00</td>\n",
       "    </tr>\n",
       "    <tr>\n",
       "      <th>33,625,779,332.00</th>\n",
       "      <td>17</td>\n",
       "      <td>18,553,763,486.00</td>\n",
       "      <td>8,499,620,722.00</td>\n",
       "    </tr>\n",
       "    <tr>\n",
       "      <th>33,626,320,676.00</th>\n",
       "      <td>18</td>\n",
       "      <td>8,791,936,680.00</td>\n",
       "      <td>7,971,167,261.00</td>\n",
       "    </tr>\n",
       "    <tr>\n",
       "      <th>33,675,877,202.00</th>\n",
       "      <td>15</td>\n",
       "      <td>4,865,953,827.00</td>\n",
       "      <td>7,891,110,608.00</td>\n",
       "    </tr>\n",
       "    <tr>\n",
       "      <th>33,659,725,664.00</th>\n",
       "      <td>16</td>\n",
       "      <td>4,035,436,251.00</td>\n",
       "      <td>7,705,862,783.00</td>\n",
       "    </tr>\n",
       "    <tr>\n",
       "      <th>33,666,464,084.00</th>\n",
       "      <td>11</td>\n",
       "      <td>4,536,763,706.00</td>\n",
       "      <td>7,308,500,938.00</td>\n",
       "    </tr>\n",
       "    <tr>\n",
       "      <th>33,760,413,819.00</th>\n",
       "      <td>12</td>\n",
       "      <td>5,321,673,794.00</td>\n",
       "      <td>7,132,370,514.00</td>\n",
       "    </tr>\n",
       "    <tr>\n",
       "      <th>33,664,712,899.00</th>\n",
       "      <td>11</td>\n",
       "      <td>2,927,790,274.00</td>\n",
       "      <td>6,872,018,208.00</td>\n",
       "    </tr>\n",
       "  </tbody>\n",
       "</table>\n",
       "</div>"
      ],
      "text/plain": [
       "                   Bearer Id       Dur. (ms).1              Total\n",
       "MSISDN/Number                                                    \n",
       "33,663,706,799.00       1067 72,656,111,817.00 531,963,557,516.50\n",
       "33,614,892,860.00         17  9,966,905,758.00   8,846,226,494.00\n",
       "33,760,536,639.00         15  9,279,442,000.00   8,514,773,963.00\n",
       "33,625,779,332.00         17 18,553,763,486.00   8,499,620,722.00\n",
       "33,626,320,676.00         18  8,791,936,680.00   7,971,167,261.00\n",
       "33,675,877,202.00         15  4,865,953,827.00   7,891,110,608.00\n",
       "33,659,725,664.00         16  4,035,436,251.00   7,705,862,783.00\n",
       "33,666,464,084.00         11  4,536,763,706.00   7,308,500,938.00\n",
       "33,760,413,819.00         12  5,321,673,794.00   7,132,370,514.00\n",
       "33,664,712,899.00         11  2,927,790,274.00   6,872,018,208.00"
      ]
     },
     "execution_count": 63,
     "metadata": {},
     "output_type": "execute_result"
    }
   ],
   "source": [
    "df_task2.sort_values(by='Total', ascending=False).head(10)"
   ]
  },
  {
   "cell_type": "markdown",
   "id": "ba14515e",
   "metadata": {},
   "source": [
    "Normalize each engagement metric and run a k-means (k=3) to classify customers in three groups of engagement. "
   ]
  },
  {
   "cell_type": "code",
   "execution_count": 64,
   "id": "9b0c6099",
   "metadata": {},
   "outputs": [],
   "source": [
    "min_max_scaler = preprocessing.MinMaxScaler()\n",
    "df_values = df_task2.values\n",
    "\n",
    "scalled_values = min_max_scaler.fit_transform(df_values)\n",
    "df_normalized = pd.DataFrame(data=scalled_values, columns=df_task2.columns)\n",
    "\n",
    "\n",
    "kmeans = KMeans(n_clusters=3).fit(df_normalized)"
   ]
  },
  {
   "cell_type": "code",
   "execution_count": 65,
   "id": "c830b799",
   "metadata": {},
   "outputs": [
    {
     "name": "stdout",
     "output_type": "stream",
     "text": [
      "[[2.10925980e-03 7.29776505e-03 3.01963803e-03]\n",
      " [1.00000000e+00 1.00000000e+00 1.00000000e+00]\n",
      " [2.31501436e-04 1.48687335e-03 1.09512676e-03]]\n"
     ]
    }
   ],
   "source": [
    "print(kmeans.cluster_centers_)"
   ]
  },
  {
   "cell_type": "markdown",
   "id": "9420a537",
   "metadata": {},
   "source": [
    "Compute the minimum, maximum, average & total non- normalized metrics for each cluster. Interpret your results visually with accompanying text explaining your findings."
   ]
  },
  {
   "cell_type": "code",
   "execution_count": 67,
   "id": "ee7658ba",
   "metadata": {},
   "outputs": [],
   "source": [
    "cluster = kmeans.predict(df_normalized)\n",
    "engagement_df = df_task2.copy()\n",
    "engagement_df['cluster-engagement']  = cluster\n"
   ]
  },
  {
   "cell_type": "code",
   "execution_count": 68,
   "id": "de361396",
   "metadata": {},
   "outputs": [],
   "source": [
    "cluster_group_df = engagement_df.groupby('cluster-engagement')\n",
    "cluster_0 = cluster_group_df.get_group(0)\n",
    "cluster_1 = cluster_group_df.get_group(1)\n",
    "cluster_2 = cluster_group_df.get_group(2)"
   ]
  },
  {
   "cell_type": "code",
   "execution_count": 69,
   "id": "fd0781cf",
   "metadata": {},
   "outputs": [
    {
     "data": {
      "image/png": "[encoded data removed]",
      "text/plain": [
       "<Figure size 864x504 with 1 Axes>"
      ]
     },
     "metadata": {
      "needs_background": "light"
     },
     "output_type": "display_data"
    }
   ],
   "source": [
    "# Cluster 0\n",
    "plot_scatter(engagement_df,\"Bearer Id\", \"Total\",\"Clustering with Kmean\", \"cluster-engagement\", \"\")"
   ]
  },
  {
   "cell_type": "code",
   "execution_count": 70,
   "id": "7a52ddc6",
   "metadata": {},
   "outputs": [
    {
     "data": {
      "text/html": [
       "<div>\n",
       "<style scoped>\n",
       "    .dataframe tbody tr th:only-of-type {\n",
       "        vertical-align: middle;\n",
       "    }\n",
       "\n",
       "    .dataframe tbody tr th {\n",
       "        vertical-align: top;\n",
       "    }\n",
       "\n",
       "    .dataframe thead th {\n",
       "        text-align: right;\n",
       "    }\n",
       "</style>\n",
       "<table border=\"1\" class=\"dataframe\">\n",
       "  <thead>\n",
       "    <tr style=\"text-align: right;\">\n",
       "      <th></th>\n",
       "      <th>Bearer Id</th>\n",
       "      <th>Dur. (ms).1</th>\n",
       "      <th>Total</th>\n",
       "      <th>cluster-engagement</th>\n",
       "    </tr>\n",
       "  </thead>\n",
       "  <tbody>\n",
       "    <tr>\n",
       "      <th>count</th>\n",
       "      <td>7,794.00</td>\n",
       "      <td>7,794.00</td>\n",
       "      <td>7,794.00</td>\n",
       "      <td>7,794.00</td>\n",
       "    </tr>\n",
       "    <tr>\n",
       "      <th>mean</th>\n",
       "      <td>3.26</td>\n",
       "      <td>538,820,278.62</td>\n",
       "      <td>1,642,231,478.67</td>\n",
       "      <td>0.00</td>\n",
       "    </tr>\n",
       "    <tr>\n",
       "      <th>std</th>\n",
       "      <td>1.45</td>\n",
       "      <td>493,735,842.87</td>\n",
       "      <td>827,116,514.39</td>\n",
       "      <td>0.00</td>\n",
       "    </tr>\n",
       "    <tr>\n",
       "      <th>min</th>\n",
       "      <td>1.00</td>\n",
       "      <td>170,683,118.00</td>\n",
       "      <td>52,128,380.00</td>\n",
       "      <td>0.00</td>\n",
       "    </tr>\n",
       "    <tr>\n",
       "      <th>25%</th>\n",
       "      <td>2.00</td>\n",
       "      <td>351,712,234.75</td>\n",
       "      <td>1,059,444,677.25</td>\n",
       "      <td>0.00</td>\n",
       "    </tr>\n",
       "    <tr>\n",
       "      <th>50%</th>\n",
       "      <td>3.00</td>\n",
       "      <td>427,361,216.00</td>\n",
       "      <td>1,554,927,675.50</td>\n",
       "      <td>0.00</td>\n",
       "    </tr>\n",
       "    <tr>\n",
       "      <th>75%</th>\n",
       "      <td>4.00</td>\n",
       "      <td>529,600,252.25</td>\n",
       "      <td>2,117,009,851.00</td>\n",
       "      <td>0.00</td>\n",
       "    </tr>\n",
       "    <tr>\n",
       "      <th>max</th>\n",
       "      <td>18.00</td>\n",
       "      <td>18,553,763,486.00</td>\n",
       "      <td>8,846,226,494.00</td>\n",
       "      <td>0.00</td>\n",
       "    </tr>\n",
       "  </tbody>\n",
       "</table>\n",
       "</div>"
      ],
      "text/plain": [
       "       Bearer Id       Dur. (ms).1            Total  cluster-engagement\n",
       "count   7,794.00          7,794.00         7,794.00            7,794.00\n",
       "mean        3.26    538,820,278.62 1,642,231,478.67                0.00\n",
       "std         1.45    493,735,842.87   827,116,514.39                0.00\n",
       "min         1.00    170,683,118.00    52,128,380.00                0.00\n",
       "25%         2.00    351,712,234.75 1,059,444,677.25                0.00\n",
       "50%         3.00    427,361,216.00 1,554,927,675.50                0.00\n",
       "75%         4.00    529,600,252.25 2,117,009,851.00                0.00\n",
       "max        18.00 18,553,763,486.00 8,846,226,494.00                0.00"
      ]
     },
     "execution_count": 70,
     "metadata": {},
     "output_type": "execute_result"
    }
   ],
   "source": [
    "# cluster 0\n",
    "cluster_0.describe()"
   ]
  },
  {
   "cell_type": "code",
   "execution_count": 71,
   "id": "f6d8e626",
   "metadata": {},
   "outputs": [
    {
     "data": {
      "text/html": [
       "<div>\n",
       "<style scoped>\n",
       "    .dataframe tbody tr th:only-of-type {\n",
       "        vertical-align: middle;\n",
       "    }\n",
       "\n",
       "    .dataframe tbody tr th {\n",
       "        vertical-align: top;\n",
       "    }\n",
       "\n",
       "    .dataframe thead th {\n",
       "        text-align: right;\n",
       "    }\n",
       "</style>\n",
       "<table border=\"1\" class=\"dataframe\">\n",
       "  <thead>\n",
       "    <tr style=\"text-align: right;\">\n",
       "      <th></th>\n",
       "      <th>Bearer Id</th>\n",
       "      <th>Dur. (ms).1</th>\n",
       "      <th>Total</th>\n",
       "      <th>cluster-engagement</th>\n",
       "    </tr>\n",
       "  </thead>\n",
       "  <tbody>\n",
       "    <tr>\n",
       "      <th>count</th>\n",
       "      <td>1.00</td>\n",
       "      <td>1.00</td>\n",
       "      <td>1.00</td>\n",
       "      <td>1.00</td>\n",
       "    </tr>\n",
       "    <tr>\n",
       "      <th>mean</th>\n",
       "      <td>1,067.00</td>\n",
       "      <td>72,656,111,817.00</td>\n",
       "      <td>531,963,557,516.50</td>\n",
       "      <td>1.00</td>\n",
       "    </tr>\n",
       "    <tr>\n",
       "      <th>std</th>\n",
       "      <td>NaN</td>\n",
       "      <td>NaN</td>\n",
       "      <td>NaN</td>\n",
       "      <td>NaN</td>\n",
       "    </tr>\n",
       "    <tr>\n",
       "      <th>min</th>\n",
       "      <td>1,067.00</td>\n",
       "      <td>72,656,111,817.00</td>\n",
       "      <td>531,963,557,516.50</td>\n",
       "      <td>1.00</td>\n",
       "    </tr>\n",
       "    <tr>\n",
       "      <th>25%</th>\n",
       "      <td>1,067.00</td>\n",
       "      <td>72,656,111,817.00</td>\n",
       "      <td>531,963,557,516.50</td>\n",
       "      <td>1.00</td>\n",
       "    </tr>\n",
       "    <tr>\n",
       "      <th>50%</th>\n",
       "      <td>1,067.00</td>\n",
       "      <td>72,656,111,817.00</td>\n",
       "      <td>531,963,557,516.50</td>\n",
       "      <td>1.00</td>\n",
       "    </tr>\n",
       "    <tr>\n",
       "      <th>75%</th>\n",
       "      <td>1,067.00</td>\n",
       "      <td>72,656,111,817.00</td>\n",
       "      <td>531,963,557,516.50</td>\n",
       "      <td>1.00</td>\n",
       "    </tr>\n",
       "    <tr>\n",
       "      <th>max</th>\n",
       "      <td>1,067.00</td>\n",
       "      <td>72,656,111,817.00</td>\n",
       "      <td>531,963,557,516.50</td>\n",
       "      <td>1.00</td>\n",
       "    </tr>\n",
       "  </tbody>\n",
       "</table>\n",
       "</div>"
      ],
      "text/plain": [
       "       Bearer Id       Dur. (ms).1              Total  cluster-engagement\n",
       "count       1.00              1.00               1.00                1.00\n",
       "mean    1,067.00 72,656,111,817.00 531,963,557,516.50                1.00\n",
       "std          NaN               NaN                NaN                 NaN\n",
       "min     1,067.00 72,656,111,817.00 531,963,557,516.50                1.00\n",
       "25%     1,067.00 72,656,111,817.00 531,963,557,516.50                1.00\n",
       "50%     1,067.00 72,656,111,817.00 531,963,557,516.50                1.00\n",
       "75%     1,067.00 72,656,111,817.00 531,963,557,516.50                1.00\n",
       "max     1,067.00 72,656,111,817.00 531,963,557,516.50                1.00"
      ]
     },
     "execution_count": 71,
     "metadata": {},
     "output_type": "execute_result"
    }
   ],
   "source": [
    "# cluster 1\n",
    "cluster_1.describe()"
   ]
  },
  {
   "cell_type": "code",
   "execution_count": 72,
   "id": "8f74ced8",
   "metadata": {},
   "outputs": [
    {
     "data": {
      "text/html": [
       "<div>\n",
       "<style scoped>\n",
       "    .dataframe tbody tr th:only-of-type {\n",
       "        vertical-align: middle;\n",
       "    }\n",
       "\n",
       "    .dataframe tbody tr th {\n",
       "        vertical-align: top;\n",
       "    }\n",
       "\n",
       "    .dataframe thead th {\n",
       "        text-align: right;\n",
       "    }\n",
       "</style>\n",
       "<table border=\"1\" class=\"dataframe\">\n",
       "  <thead>\n",
       "    <tr style=\"text-align: right;\">\n",
       "      <th></th>\n",
       "      <th>Bearer Id</th>\n",
       "      <th>Dur. (ms).1</th>\n",
       "      <th>Total</th>\n",
       "      <th>cluster-engagement</th>\n",
       "    </tr>\n",
       "  </thead>\n",
       "  <tbody>\n",
       "    <tr>\n",
       "      <th>count</th>\n",
       "      <td>99,061.00</td>\n",
       "      <td>99,061.00</td>\n",
       "      <td>99,061.00</td>\n",
       "      <td>99,061.00</td>\n",
       "    </tr>\n",
       "    <tr>\n",
       "      <th>mean</th>\n",
       "      <td>1.25</td>\n",
       "      <td>115,274,738.48</td>\n",
       "      <td>616,122,154.41</td>\n",
       "      <td>2.00</td>\n",
       "    </tr>\n",
       "    <tr>\n",
       "      <th>std</th>\n",
       "      <td>0.49</td>\n",
       "      <td>72,110,775.90</td>\n",
       "      <td>359,846,819.28</td>\n",
       "      <td>0.00</td>\n",
       "    </tr>\n",
       "    <tr>\n",
       "      <th>min</th>\n",
       "      <td>1.00</td>\n",
       "      <td>7,142,988.00</td>\n",
       "      <td>33,249,009.00</td>\n",
       "      <td>2.00</td>\n",
       "    </tr>\n",
       "    <tr>\n",
       "      <th>25%</th>\n",
       "      <td>1.00</td>\n",
       "      <td>63,526,170.00</td>\n",
       "      <td>339,795,086.00</td>\n",
       "      <td>2.00</td>\n",
       "    </tr>\n",
       "    <tr>\n",
       "      <th>50%</th>\n",
       "      <td>1.00</td>\n",
       "      <td>95,606,262.00</td>\n",
       "      <td>586,924,329.00</td>\n",
       "      <td>2.00</td>\n",
       "    </tr>\n",
       "    <tr>\n",
       "      <th>75%</th>\n",
       "      <td>1.00</td>\n",
       "      <td>162,197,273.00</td>\n",
       "      <td>815,766,675.00</td>\n",
       "      <td>2.00</td>\n",
       "    </tr>\n",
       "    <tr>\n",
       "      <th>max</th>\n",
       "      <td>6.00</td>\n",
       "      <td>399,792,738.00</td>\n",
       "      <td>3,271,920,363.00</td>\n",
       "      <td>2.00</td>\n",
       "    </tr>\n",
       "  </tbody>\n",
       "</table>\n",
       "</div>"
      ],
      "text/plain": [
       "       Bearer Id    Dur. (ms).1            Total  cluster-engagement\n",
       "count  99,061.00      99,061.00        99,061.00           99,061.00\n",
       "mean        1.25 115,274,738.48   616,122,154.41                2.00\n",
       "std         0.49  72,110,775.90   359,846,819.28                0.00\n",
       "min         1.00   7,142,988.00    33,249,009.00                2.00\n",
       "25%         1.00  63,526,170.00   339,795,086.00                2.00\n",
       "50%         1.00  95,606,262.00   586,924,329.00                2.00\n",
       "75%         1.00 162,197,273.00   815,766,675.00                2.00\n",
       "max         6.00 399,792,738.00 3,271,920,363.00                2.00"
      ]
     },
     "execution_count": 72,
     "metadata": {},
     "output_type": "execute_result"
    }
   ],
   "source": [
    "# cluster 2\n",
    "cluster_2.describe()"
   ]
  },
  {
   "cell_type": "markdown",
   "id": "85ca078b",
   "metadata": {},
   "source": [
    "Aggregate user total traffic per application and derive the top 10 most engaged users per application"
   ]
  },
  {
   "cell_type": "code",
   "execution_count": 73,
   "id": "fc4ae3c7",
   "metadata": {},
   "outputs": [
    {
     "data": {
      "text/html": [
       "<div>\n",
       "<style scoped>\n",
       "    .dataframe tbody tr th:only-of-type {\n",
       "        vertical-align: middle;\n",
       "    }\n",
       "\n",
       "    .dataframe tbody tr th {\n",
       "        vertical-align: top;\n",
       "    }\n",
       "\n",
       "    .dataframe thead th {\n",
       "        text-align: right;\n",
       "    }\n",
       "</style>\n",
       "<table border=\"1\" class=\"dataframe\">\n",
       "  <thead>\n",
       "    <tr style=\"text-align: right;\">\n",
       "      <th></th>\n",
       "      <th>MSISDN/Number</th>\n",
       "      <th>Total Social Media</th>\n",
       "    </tr>\n",
       "  </thead>\n",
       "  <tbody>\n",
       "    <tr>\n",
       "      <th>53644</th>\n",
       "      <td>33,663,706,799.00</td>\n",
       "      <td>1,974,198,877.21</td>\n",
       "    </tr>\n",
       "    <tr>\n",
       "      <th>13526</th>\n",
       "      <td>33,626,320,676.00</td>\n",
       "      <td>43,374,779.00</td>\n",
       "    </tr>\n",
       "    <tr>\n",
       "      <th>92923</th>\n",
       "      <td>33,760,536,639.00</td>\n",
       "      <td>39,783,189.00</td>\n",
       "    </tr>\n",
       "    <tr>\n",
       "      <th>37052</th>\n",
       "      <td>33,659,725,664.00</td>\n",
       "      <td>35,412,358.00</td>\n",
       "    </tr>\n",
       "    <tr>\n",
       "      <th>6437</th>\n",
       "      <td>33,614,892,860.00</td>\n",
       "      <td>28,294,544.00</td>\n",
       "    </tr>\n",
       "  </tbody>\n",
       "</table>\n",
       "</div>"
      ],
      "text/plain": [
       "          MSISDN/Number  Total Social Media\n",
       "53644 33,663,706,799.00    1,974,198,877.21\n",
       "13526 33,626,320,676.00       43,374,779.00\n",
       "92923 33,760,536,639.00       39,783,189.00\n",
       "37052 33,659,725,664.00       35,412,358.00\n",
       "6437  33,614,892,860.00       28,294,544.00"
      ]
     },
     "execution_count": 73,
     "metadata": {},
     "output_type": "execute_result"
    }
   ],
   "source": [
    "# total trafic, Application, user -> top to users\n",
    "engagement = user_behaviour.reset_index().copy()\n",
    "\n",
    "# Social Media engagement\n",
    "engagement[['MSISDN/Number','Total Social Media']].sort_values(by='Total Social Media',ascending=False).head(5)"
   ]
  },
  {
   "cell_type": "code",
   "execution_count": 74,
   "id": "e94f90b6",
   "metadata": {},
   "outputs": [
    {
     "data": {
      "text/html": [
       "<div>\n",
       "<style scoped>\n",
       "    .dataframe tbody tr th:only-of-type {\n",
       "        vertical-align: middle;\n",
       "    }\n",
       "\n",
       "    .dataframe tbody tr th {\n",
       "        vertical-align: top;\n",
       "    }\n",
       "\n",
       "    .dataframe thead th {\n",
       "        text-align: right;\n",
       "    }\n",
       "</style>\n",
       "<table border=\"1\" class=\"dataframe\">\n",
       "  <thead>\n",
       "    <tr style=\"text-align: right;\">\n",
       "      <th></th>\n",
       "      <th>MSISDN/Number</th>\n",
       "      <th>Total Google</th>\n",
       "    </tr>\n",
       "  </thead>\n",
       "  <tbody>\n",
       "    <tr>\n",
       "      <th>53644</th>\n",
       "      <td>33,663,706,799.00</td>\n",
       "      <td>8,250,701,538.55</td>\n",
       "    </tr>\n",
       "    <tr>\n",
       "      <th>13526</th>\n",
       "      <td>33,626,320,676.00</td>\n",
       "      <td>152,191,852.00</td>\n",
       "    </tr>\n",
       "    <tr>\n",
       "      <th>13180</th>\n",
       "      <td>33,625,779,332.00</td>\n",
       "      <td>142,307,915.00</td>\n",
       "    </tr>\n",
       "    <tr>\n",
       "      <th>6437</th>\n",
       "      <td>33,614,892,860.00</td>\n",
       "      <td>127,973,787.00</td>\n",
       "    </tr>\n",
       "    <tr>\n",
       "      <th>92923</th>\n",
       "      <td>33,760,536,639.00</td>\n",
       "      <td>123,223,099.00</td>\n",
       "    </tr>\n",
       "  </tbody>\n",
       "</table>\n",
       "</div>"
      ],
      "text/plain": [
       "          MSISDN/Number     Total Google\n",
       "53644 33,663,706,799.00 8,250,701,538.55\n",
       "13526 33,626,320,676.00   152,191,852.00\n",
       "13180 33,625,779,332.00   142,307,915.00\n",
       "6437  33,614,892,860.00   127,973,787.00\n",
       "92923 33,760,536,639.00   123,223,099.00"
      ]
     },
     "execution_count": 74,
     "metadata": {},
     "output_type": "execute_result"
    }
   ],
   "source": [
    "# Google Engagement\n",
    "engagement[['MSISDN/Number','Total Google']].sort_values(by='Total Google',ascending=False).head(5)"
   ]
  },
  {
   "cell_type": "code",
   "execution_count": 75,
   "id": "91a63849",
   "metadata": {},
   "outputs": [
    {
     "data": {
      "text/html": [
       "<div>\n",
       "<style scoped>\n",
       "    .dataframe tbody tr th:only-of-type {\n",
       "        vertical-align: middle;\n",
       "    }\n",
       "\n",
       "    .dataframe tbody tr th {\n",
       "        vertical-align: top;\n",
       "    }\n",
       "\n",
       "    .dataframe thead th {\n",
       "        text-align: right;\n",
       "    }\n",
       "</style>\n",
       "<table border=\"1\" class=\"dataframe\">\n",
       "  <thead>\n",
       "    <tr style=\"text-align: right;\">\n",
       "      <th></th>\n",
       "      <th>MSISDN/Number</th>\n",
       "      <th>Total Gaming</th>\n",
       "    </tr>\n",
       "  </thead>\n",
       "  <tbody>\n",
       "    <tr>\n",
       "      <th>53644</th>\n",
       "      <td>33,663,706,799.00</td>\n",
       "      <td>461,634,610,932.71</td>\n",
       "    </tr>\n",
       "    <tr>\n",
       "      <th>6437</th>\n",
       "      <td>33,614,892,860.00</td>\n",
       "      <td>7,749,432,234.00</td>\n",
       "    </tr>\n",
       "    <tr>\n",
       "      <th>92923</th>\n",
       "      <td>33,760,536,639.00</td>\n",
       "      <td>7,461,045,228.00</td>\n",
       "    </tr>\n",
       "    <tr>\n",
       "      <th>13180</th>\n",
       "      <td>33,625,779,332.00</td>\n",
       "      <td>7,326,673,487.00</td>\n",
       "    </tr>\n",
       "    <tr>\n",
       "      <th>76363</th>\n",
       "      <td>33,675,877,202.00</td>\n",
       "      <td>6,970,567,597.00</td>\n",
       "    </tr>\n",
       "  </tbody>\n",
       "</table>\n",
       "</div>"
      ],
      "text/plain": [
       "          MSISDN/Number       Total Gaming\n",
       "53644 33,663,706,799.00 461,634,610,932.71\n",
       "6437  33,614,892,860.00   7,749,432,234.00\n",
       "92923 33,760,536,639.00   7,461,045,228.00\n",
       "13180 33,625,779,332.00   7,326,673,487.00\n",
       "76363 33,675,877,202.00   6,970,567,597.00"
      ]
     },
     "execution_count": 75,
     "metadata": {},
     "output_type": "execute_result"
    }
   ],
   "source": [
    "engagement[['MSISDN/Number','Total Gaming']].sort_values(by='Total Gaming',ascending=False).head(5)"
   ]
  },
  {
   "cell_type": "markdown",
   "id": "6561f27a",
   "metadata": {},
   "source": [
    "Plot the top 3 most used applications using appropriate charts.  "
   ]
  },
  {
   "cell_type": "code",
   "execution_count": 76,
   "id": "beb49d9c",
   "metadata": {},
   "outputs": [
    {
     "data": {
      "text/html": [
       "<div>\n",
       "<style scoped>\n",
       "    .dataframe tbody tr th:only-of-type {\n",
       "        vertical-align: middle;\n",
       "    }\n",
       "\n",
       "    .dataframe tbody tr th {\n",
       "        vertical-align: top;\n",
       "    }\n",
       "\n",
       "    .dataframe thead th {\n",
       "        text-align: right;\n",
       "    }\n",
       "</style>\n",
       "<table border=\"1\" class=\"dataframe\">\n",
       "  <thead>\n",
       "    <tr style=\"text-align: right;\">\n",
       "      <th></th>\n",
       "      <th>Application</th>\n",
       "      <th>counts</th>\n",
       "    </tr>\n",
       "  </thead>\n",
       "  <tbody>\n",
       "    <tr>\n",
       "      <th>3</th>\n",
       "      <td>Total Gaming</td>\n",
       "      <td>64,550,395,439,016.70</td>\n",
       "    </tr>\n",
       "    <tr>\n",
       "      <th>4</th>\n",
       "      <td>Total Other</td>\n",
       "      <td>64,405,230,908,181.62</td>\n",
       "    </tr>\n",
       "    <tr>\n",
       "      <th>1</th>\n",
       "      <td>Total Youtube</td>\n",
       "      <td>3,396,545,039,272.64</td>\n",
       "    </tr>\n",
       "  </tbody>\n",
       "</table>\n",
       "</div>"
      ],
      "text/plain": [
       "     Application                counts\n",
       "3   Total Gaming 64,550,395,439,016.70\n",
       "4    Total Other 64,405,230,908,181.62\n",
       "1  Total Youtube  3,396,545,039,272.64"
      ]
     },
     "execution_count": 76,
     "metadata": {},
     "output_type": "execute_result"
    }
   ],
   "source": [
    "data = []\n",
    "\n",
    "# Remove 'MSISDN/Number' and 'Total' from columns list\n",
    "columns = user_behaviour.columns.tolist()[1:-1]\n",
    "\n",
    "for column in columns:\n",
    "    data.append(user_behaviour[column].sum())\n",
    "\n",
    "data_df = pd.DataFrame({\"Application\": columns, \"counts\":data})\n",
    "\n",
    "data_df.sort_values(by='counts', ascending=False)[:3]"
   ]
  },
  {
   "cell_type": "code",
   "execution_count": 77,
   "id": "7165d2ea",
   "metadata": {},
   "outputs": [
    {
     "data": {
      "image/png": "[encoded data removed]",
      "text/plain": [
       "<Figure size 864x504 with 1 Axes>"
      ]
     },
     "metadata": {
      "needs_background": "light"
     },
     "output_type": "display_data"
    }
   ],
   "source": [
    "plot_bar(data_df,data_df['Application'], data_df['counts'], \"Applications Data usage\", \"App Name\", \"Data\")"
   ]
  },
  {
   "cell_type": "markdown",
   "id": "10ac5f81",
   "metadata": {},
   "source": [
    "Using k-means clustering algorithm, group users in k engagement clusters based on the engagement metrics: \n",
    "1. What is the optimized value of k (use elbow method for this)?  \n",
    "2. Interpret your findings.\n"
   ]
  },
  {
   "cell_type": "code",
   "execution_count": 78,
   "id": "47779703",
   "metadata": {},
   "outputs": [],
   "source": [
    "distortions = []\n",
    "K = range(1,10)\n",
    "for k in K:\n",
    "    kmeanModel = KMeans(n_clusters=k)\n",
    "    kmeanModel.fit(df_normalized)\n",
    "    distortions.append(kmeanModel.inertia_)"
   ]
  },
  {
   "cell_type": "code",
   "execution_count": 79,
   "id": "c976c984",
   "metadata": {},
   "outputs": [
    {
     "data": {
      "image/png": "[encoded data removed]",
      "text/plain": [
       "<Figure size 1152x576 with 1 Axes>"
      ]
     },
     "metadata": {
      "needs_background": "light"
     },
     "output_type": "display_data"
    }
   ],
   "source": [
    "plt.figure(figsize=(16,8))\n",
    "plt.plot(K, distortions, 'bx-')\n",
    "plt.xlabel('k')\n",
    "plt.ylabel('Distortion')\n",
    "plt.title('The Elbow Method showing the optimal k')\n",
    "plt.show()"
   ]
  },
  {
   "cell_type": "code",
   "execution_count": 80,
   "id": "cf1d3572",
   "metadata": {},
   "outputs": [
    {
     "data": {
      "text/plain": [
       "MSISDN/Number\n",
       "33,601,001,722.00         0\n",
       "33,601,001,754.00         0\n",
       "33,601,002,511.00         0\n",
       "33,601,007,832.00         0\n",
       "33,601,008,617.00         0\n",
       "                         ..\n",
       "33,789,996,170.00         0\n",
       "33,789,997,247.00         0\n",
       "3,197,020,876,596.00      2\n",
       "337,000,037,000,919.00    0\n",
       "882,397,108,489,451.00    2\n",
       "Name: cluster, Length: 106856, dtype: int32"
      ]
     },
     "execution_count": 80,
     "metadata": {},
     "output_type": "execute_result"
    }
   ],
   "source": [
    "### so Number 3 is the optimum, and we should run with 3 cluster\n",
    "kmeans = KMeans(n_clusters=3)\n",
    "kmeans.fit(df_normalized)\n",
    "\n",
    "cluster = kmeans.predict(df_normalized)\n",
    "cluster_df = df_task2.copy()\n",
    "cluster_df['cluster']  = cluster\n",
    "cluster_df['cluster']"
   ]
  },
  {
   "cell_type": "markdown",
   "id": "d84bb3d1",
   "metadata": {},
   "source": [
    "# Task 3 - Experience Analytics"
   ]
  },
  {
   "cell_type": "markdown",
   "id": "2a24eb56",
   "metadata": {},
   "source": [
    "### Task 3. 1 - Aggregate, per customer, the following information (treat missing & outliers by replacing by the mean or the mode of the corresponding variable):\n"
   ]
  },
  {
   "cell_type": "markdown",
   "id": "d42e408f",
   "metadata": {},
   "source": [
    "1. Average TCP retransmission\n",
    "2. Average RTT\n",
    "3. Handset type\n",
    "4. Average throughput\n"
   ]
  },
  {
   "cell_type": "markdown",
   "id": "0fb88a38",
   "metadata": {},
   "source": [
    "### How much of the data is Null ? "
   ]
  },
  {
   "cell_type": "code",
   "execution_count": 81,
   "id": "3653dd18",
   "metadata": {},
   "outputs": [],
   "source": [
    "def null_percentage(df):\n",
    "    number_of_rows, number_of_columns = df.shape\n",
    "    df_size = number_of_rows * number_of_columns\n",
    "    \n",
    "    null_size = (df.isnull().sum()).sum()\n",
    "    percentage = round((null_size / df_size) * 100, 2)\n",
    "    print(f\"Data Fraame contain null values of { percentage }%\")"
   ]
  },
  {
   "cell_type": "code",
   "execution_count": 89,
   "id": "024003ef",
   "metadata": {
    "scrolled": true
   },
   "outputs": [
    {
     "name": "stdout",
     "output_type": "stream",
     "text": [
      "Data Fraame contain null values of 20.92%\n"
     ]
    },
    {
     "data": {
      "text/plain": [
       "MSISDN/Number                   1066\n",
       "TCP DL Retrans. Vol (Bytes)    88146\n",
       "TCP UL Retrans. Vol (Bytes)    96649\n",
       "Avg RTT DL (ms)                27829\n",
       "Avg RTT UL (ms)                27812\n",
       "Handset Type                    9559\n",
       "Avg Bearer TP DL (kbps)            1\n",
       "Avg Bearer TP UL (kbps)            1\n",
       "dtype: int64"
      ]
     },
     "execution_count": 89,
     "metadata": {},
     "output_type": "execute_result"
    }
   ],
   "source": [
    "'''\n",
    "TCP DL Retrans. Vol (Bytes)\n",
    "TCP UL Retrans. Vol (Bytes)\n",
    "\n",
    "Avg RTT DL (ms)\n",
    "Avg RTT UL (ms)\n",
    "\n",
    "Handset type\n",
    "\n",
    "Avg Bearer TP DL (kbps)\n",
    "Avg Bearer TP UL (kbps)\n",
    "\n",
    "'''\n",
    "#Read the cleaned csv file and store it on data\n",
    "file_name = 'tele-data.csv'\n",
    "df_task_3 = file_read.read_csv(file_name)\n",
    "new_netwok_df = df_task_3[['MSISDN/Number','TCP DL Retrans. Vol (Bytes)', 'TCP UL Retrans. Vol (Bytes)',\n",
    "                         'Avg RTT DL (ms)', 'Avg RTT UL (ms)','Handset Type','Avg Bearer TP DL (kbps)', 'Avg Bearer TP UL (kbps)']]\n",
    "\n",
    "\n",
    "null_percentage(new_netwok_df)\n",
    "new_netwok_df.isnull().sum()\n",
    "#new_netwok_df = data.copy()\n",
    "#new_netwok_df.info()\n",
    "#new_netwok_df['Total TCP Retrans'] = new_netwok_df['TCP DL Retrans. Vol (Bytes)'] +new_netwok_df['TCP UL Retrans. Vol (Bytes)']\n",
    "#new_netwok_df['Total Throughput'] = new_netwok_df['Avg Bearer TP DL (kbps)'] + new_netwok_df['Avg Bearer TP DL (kbps)']\n",
    "\n",
    "#new_netwok_df['Total RTT'] = new_netwok_df['Avg RTT DL (ms)'] + new_netwok_df['Avg RTT UL (ms)']\n",
    "\n",
    "#new_netwok_df.head()"
   ]
  },
  {
   "cell_type": "code",
   "execution_count": 90,
   "id": "3d8d8a81",
   "metadata": {},
   "outputs": [],
   "source": [
    "## Fill Mising Values\n",
    "for col in new_netwok_df.columns:\n",
    "    if(new_netwok_df[col].isnull().sum()):\n",
    "        new_netwok_df[col] = new_netwok_df[col].fillna(new_netwok_df[col].mode()[0])"
   ]
  },
  {
   "cell_type": "code",
   "execution_count": 91,
   "id": "4da177ac",
   "metadata": {},
   "outputs": [
    {
     "name": "stdout",
     "output_type": "stream",
     "text": [
      "Data Fraame contain null values of 0.0%\n"
     ]
    },
    {
     "data": {
      "text/plain": [
       "MSISDN/Number                  0\n",
       "TCP DL Retrans. Vol (Bytes)    0\n",
       "TCP UL Retrans. Vol (Bytes)    0\n",
       "Avg RTT DL (ms)                0\n",
       "Avg RTT UL (ms)                0\n",
       "Handset Type                   0\n",
       "Avg Bearer TP DL (kbps)        0\n",
       "Avg Bearer TP UL (kbps)        0\n",
       "dtype: int64"
      ]
     },
     "execution_count": 91,
     "metadata": {},
     "output_type": "execute_result"
    }
   ],
   "source": [
    "null_percentage(new_netwok_df)\n",
    "new_netwok_df.isnull().sum()"
   ]
  },
  {
   "cell_type": "code",
   "execution_count": 92,
   "id": "a57f6523",
   "metadata": {},
   "outputs": [
    {
     "data": {
      "text/html": [
       "<div>\n",
       "<style scoped>\n",
       "    .dataframe tbody tr th:only-of-type {\n",
       "        vertical-align: middle;\n",
       "    }\n",
       "\n",
       "    .dataframe tbody tr th {\n",
       "        vertical-align: top;\n",
       "    }\n",
       "\n",
       "    .dataframe thead th {\n",
       "        text-align: right;\n",
       "    }\n",
       "</style>\n",
       "<table border=\"1\" class=\"dataframe\">\n",
       "  <thead>\n",
       "    <tr style=\"text-align: right;\">\n",
       "      <th></th>\n",
       "      <th>MSISDN/Number</th>\n",
       "      <th>TCP DL Retrans. Vol (Bytes)</th>\n",
       "      <th>TCP UL Retrans. Vol (Bytes)</th>\n",
       "      <th>Avg RTT DL (ms)</th>\n",
       "      <th>Avg RTT UL (ms)</th>\n",
       "      <th>Handset Type</th>\n",
       "      <th>Avg Bearer TP DL (kbps)</th>\n",
       "      <th>Avg Bearer TP UL (kbps)</th>\n",
       "      <th>Total TCP Retrans</th>\n",
       "      <th>Total Throughput</th>\n",
       "      <th>Total RTT</th>\n",
       "    </tr>\n",
       "  </thead>\n",
       "  <tbody>\n",
       "    <tr>\n",
       "      <th>0</th>\n",
       "      <td>33,664,962,239.00</td>\n",
       "      <td>1,330.00</td>\n",
       "      <td>1,330.00</td>\n",
       "      <td>42.00</td>\n",
       "      <td>5.00</td>\n",
       "      <td>Samsung Galaxy A5 Sm-A520F</td>\n",
       "      <td>23.00</td>\n",
       "      <td>44.00</td>\n",
       "      <td>2,660.00</td>\n",
       "      <td>46.00</td>\n",
       "      <td>47.00</td>\n",
       "    </tr>\n",
       "    <tr>\n",
       "      <th>1</th>\n",
       "      <td>33,681,854,413.00</td>\n",
       "      <td>1,330.00</td>\n",
       "      <td>1,330.00</td>\n",
       "      <td>65.00</td>\n",
       "      <td>5.00</td>\n",
       "      <td>Samsung Galaxy J5 (Sm-J530)</td>\n",
       "      <td>16.00</td>\n",
       "      <td>26.00</td>\n",
       "      <td>2,660.00</td>\n",
       "      <td>32.00</td>\n",
       "      <td>70.00</td>\n",
       "    </tr>\n",
       "    <tr>\n",
       "      <th>2</th>\n",
       "      <td>33,760,627,129.00</td>\n",
       "      <td>1,330.00</td>\n",
       "      <td>1,330.00</td>\n",
       "      <td>28.00</td>\n",
       "      <td>5.00</td>\n",
       "      <td>Samsung Galaxy A8 (2018)</td>\n",
       "      <td>6.00</td>\n",
       "      <td>9.00</td>\n",
       "      <td>2,660.00</td>\n",
       "      <td>12.00</td>\n",
       "      <td>33.00</td>\n",
       "    </tr>\n",
       "    <tr>\n",
       "      <th>3</th>\n",
       "      <td>33,750,343,200.00</td>\n",
       "      <td>1,330.00</td>\n",
       "      <td>1,330.00</td>\n",
       "      <td>28.00</td>\n",
       "      <td>5.00</td>\n",
       "      <td>Huawei B528S-23A</td>\n",
       "      <td>44.00</td>\n",
       "      <td>44.00</td>\n",
       "      <td>2,660.00</td>\n",
       "      <td>88.00</td>\n",
       "      <td>33.00</td>\n",
       "    </tr>\n",
       "    <tr>\n",
       "      <th>4</th>\n",
       "      <td>33,699,795,932.00</td>\n",
       "      <td>1,330.00</td>\n",
       "      <td>1,330.00</td>\n",
       "      <td>28.00</td>\n",
       "      <td>5.00</td>\n",
       "      <td>Samsung Sm-G390F</td>\n",
       "      <td>6.00</td>\n",
       "      <td>9.00</td>\n",
       "      <td>2,660.00</td>\n",
       "      <td>12.00</td>\n",
       "      <td>33.00</td>\n",
       "    </tr>\n",
       "  </tbody>\n",
       "</table>\n",
       "</div>"
      ],
      "text/plain": [
       "      MSISDN/Number  TCP DL Retrans. Vol (Bytes)  TCP UL Retrans. Vol (Bytes)  \\\n",
       "0 33,664,962,239.00                     1,330.00                     1,330.00   \n",
       "1 33,681,854,413.00                     1,330.00                     1,330.00   \n",
       "2 33,760,627,129.00                     1,330.00                     1,330.00   \n",
       "3 33,750,343,200.00                     1,330.00                     1,330.00   \n",
       "4 33,699,795,932.00                     1,330.00                     1,330.00   \n",
       "\n",
       "   Avg RTT DL (ms)  Avg RTT UL (ms)                 Handset Type  \\\n",
       "0            42.00             5.00   Samsung Galaxy A5 Sm-A520F   \n",
       "1            65.00             5.00  Samsung Galaxy J5 (Sm-J530)   \n",
       "2            28.00             5.00     Samsung Galaxy A8 (2018)   \n",
       "3            28.00             5.00             Huawei B528S-23A   \n",
       "4            28.00             5.00             Samsung Sm-G390F   \n",
       "\n",
       "   Avg Bearer TP DL (kbps)  Avg Bearer TP UL (kbps)  Total TCP Retrans  \\\n",
       "0                    23.00                    44.00           2,660.00   \n",
       "1                    16.00                    26.00           2,660.00   \n",
       "2                     6.00                     9.00           2,660.00   \n",
       "3                    44.00                    44.00           2,660.00   \n",
       "4                     6.00                     9.00           2,660.00   \n",
       "\n",
       "   Total Throughput  Total RTT  \n",
       "0             46.00      47.00  \n",
       "1             32.00      70.00  \n",
       "2             12.00      33.00  \n",
       "3             88.00      33.00  \n",
       "4             12.00      33.00  "
      ]
     },
     "execution_count": 92,
     "metadata": {},
     "output_type": "execute_result"
    }
   ],
   "source": [
    "new_netwok_df['Total TCP Retrans'] = new_netwok_df['TCP DL Retrans. Vol (Bytes)'] +\\\n",
    "    new_netwok_df['TCP UL Retrans. Vol (Bytes)']\n",
    "new_netwok_df['Total Throughput'] = new_netwok_df['Avg Bearer TP DL (kbps)'] +\\\n",
    "    new_netwok_df['Avg Bearer TP DL (kbps)']\n",
    "\n",
    "new_netwok_df['Total RTT'] = new_netwok_df['Avg RTT DL (ms)'] + new_netwok_df['Avg RTT UL (ms)']\n",
    "\n",
    "new_netwok_df.head()\n"
   ]
  },
  {
   "cell_type": "code",
   "execution_count": 94,
   "id": "7d00c4d6",
   "metadata": {},
   "outputs": [
    {
     "data": {
      "text/html": [
       "<div>\n",
       "<style scoped>\n",
       "    .dataframe tbody tr th:only-of-type {\n",
       "        vertical-align: middle;\n",
       "    }\n",
       "\n",
       "    .dataframe tbody tr th {\n",
       "        vertical-align: top;\n",
       "    }\n",
       "\n",
       "    .dataframe thead th {\n",
       "        text-align: right;\n",
       "    }\n",
       "</style>\n",
       "<table border=\"1\" class=\"dataframe\">\n",
       "  <thead>\n",
       "    <tr style=\"text-align: right;\">\n",
       "      <th></th>\n",
       "      <th>MSISDN/Number</th>\n",
       "      <th>Handset Type</th>\n",
       "      <th>Total TCP Retrans</th>\n",
       "      <th>Total Throughput</th>\n",
       "      <th>Total RTT</th>\n",
       "    </tr>\n",
       "  </thead>\n",
       "  <tbody>\n",
       "    <tr>\n",
       "      <th>0</th>\n",
       "      <td>33,601,001,722.00</td>\n",
       "      <td>Huawei P20 Lite Huawei Nova 3E</td>\n",
       "      <td>2,660.00</td>\n",
       "      <td>74.00</td>\n",
       "      <td>46.00</td>\n",
       "    </tr>\n",
       "    <tr>\n",
       "      <th>1</th>\n",
       "      <td>33,601,001,754.00</td>\n",
       "      <td>Apple iPhone 7 (A1778)</td>\n",
       "      <td>2,660.00</td>\n",
       "      <td>96.00</td>\n",
       "      <td>31.00</td>\n",
       "    </tr>\n",
       "    <tr>\n",
       "      <th>2</th>\n",
       "      <td>33,601,002,511.00</td>\n",
       "      <td>Huawei B528S-23A</td>\n",
       "      <td>2,660.00</td>\n",
       "      <td>96.00</td>\n",
       "      <td>33.00</td>\n",
       "    </tr>\n",
       "    <tr>\n",
       "      <th>3</th>\n",
       "      <td>33,601,007,832.00</td>\n",
       "      <td>Apple iPhone 5S (A1457)</td>\n",
       "      <td>2,396.00</td>\n",
       "      <td>408.00</td>\n",
       "      <td>84.00</td>\n",
       "    </tr>\n",
       "    <tr>\n",
       "      <th>4</th>\n",
       "      <td>33,601,008,617.00</td>\n",
       "      <td>Apple iPhone Se (A1723)</td>\n",
       "      <td>9,373,492.00</td>\n",
       "      <td>80,790.00</td>\n",
       "      <td>119.00</td>\n",
       "    </tr>\n",
       "  </tbody>\n",
       "</table>\n",
       "</div>"
      ],
      "text/plain": [
       "      MSISDN/Number                    Handset Type  Total TCP Retrans  \\\n",
       "0 33,601,001,722.00  Huawei P20 Lite Huawei Nova 3E           2,660.00   \n",
       "1 33,601,001,754.00          Apple iPhone 7 (A1778)           2,660.00   \n",
       "2 33,601,002,511.00                Huawei B528S-23A           2,660.00   \n",
       "3 33,601,007,832.00         Apple iPhone 5S (A1457)           2,396.00   \n",
       "4 33,601,008,617.00         Apple iPhone Se (A1723)       9,373,492.00   \n",
       "\n",
       "   Total Throughput  Total RTT  \n",
       "0             74.00      46.00  \n",
       "1             96.00      31.00  \n",
       "2             96.00      33.00  \n",
       "3            408.00      84.00  \n",
       "4         80,790.00     119.00  "
      ]
     },
     "execution_count": 94,
     "metadata": {},
     "output_type": "execute_result"
    }
   ],
   "source": [
    "aggregate = {'Handset Type':'first','Total TCP Retrans':'sum', 'Total Throughput':'sum', 'Total RTT':'sum'}\n",
    "columns = ['MSISDN/Number','Bearer Id','Handset Type', 'Total TCP Retrans', 'Total Throughput', 'Total RTT']\n",
    "network_per_user_df = new_netwok_df.groupby('MSISDN/Number').agg(aggregate).reset_index()\n",
    "network_per_user_df.head()"
   ]
  },
  {
   "cell_type": "markdown",
   "id": "c38c916e",
   "metadata": {},
   "source": [
    "### Task 3.2 - Compute & list 10 of the top, bottom and most frequent:"
   ]
  },
  {
   "cell_type": "markdown",
   "id": "ffe1d22e",
   "metadata": {},
   "source": [
    "1. TCP values in the dataset. \n",
    "2. RTT values in the dataset.\n",
    "3. Throughput values in the dataset."
   ]
  },
  {
   "cell_type": "code",
   "execution_count": 95,
   "id": "0346e6d1",
   "metadata": {},
   "outputs": [
    {
     "data": {
      "text/html": [
       "<div>\n",
       "<style scoped>\n",
       "    .dataframe tbody tr th:only-of-type {\n",
       "        vertical-align: middle;\n",
       "    }\n",
       "\n",
       "    .dataframe tbody tr th {\n",
       "        vertical-align: top;\n",
       "    }\n",
       "\n",
       "    .dataframe thead th {\n",
       "        text-align: right;\n",
       "    }\n",
       "</style>\n",
       "<table border=\"1\" class=\"dataframe\">\n",
       "  <thead>\n",
       "    <tr style=\"text-align: right;\">\n",
       "      <th></th>\n",
       "      <th>MSISDN/Number</th>\n",
       "      <th>Handset Type</th>\n",
       "      <th>Total TCP Retrans</th>\n",
       "      <th>Total Throughput</th>\n",
       "      <th>Total RTT</th>\n",
       "    </tr>\n",
       "  </thead>\n",
       "  <tbody>\n",
       "    <tr>\n",
       "      <th>4</th>\n",
       "      <td>33,601,008,617.00</td>\n",
       "      <td>Apple iPhone Se (A1723)</td>\n",
       "      <td>9,373,492.00</td>\n",
       "      <td>80,790.00</td>\n",
       "      <td>119.00</td>\n",
       "    </tr>\n",
       "    <tr>\n",
       "      <th>6</th>\n",
       "      <td>33,601,011,634.00</td>\n",
       "      <td>Huawei Mate 10 Pro Porsche Design Huawei Mate 10</td>\n",
       "      <td>112,892.00</td>\n",
       "      <td>81,942.00</td>\n",
       "      <td>53.00</td>\n",
       "    </tr>\n",
       "    <tr>\n",
       "      <th>5</th>\n",
       "      <td>33,601,010,682.00</td>\n",
       "      <td>Samsung Galaxy A8 (2018)</td>\n",
       "      <td>6,750.00</td>\n",
       "      <td>15,044.00</td>\n",
       "      <td>57.00</td>\n",
       "    </tr>\n",
       "    <tr>\n",
       "      <th>8</th>\n",
       "      <td>33,601,014,694.00</td>\n",
       "      <td>Huawei B528S-23A</td>\n",
       "      <td>5,320.00</td>\n",
       "      <td>154.00</td>\n",
       "      <td>66.00</td>\n",
       "    </tr>\n",
       "    <tr>\n",
       "      <th>0</th>\n",
       "      <td>33,601,001,722.00</td>\n",
       "      <td>Huawei P20 Lite Huawei Nova 3E</td>\n",
       "      <td>2,660.00</td>\n",
       "      <td>74.00</td>\n",
       "      <td>46.00</td>\n",
       "    </tr>\n",
       "    <tr>\n",
       "      <th>1</th>\n",
       "      <td>33,601,001,754.00</td>\n",
       "      <td>Apple iPhone 7 (A1778)</td>\n",
       "      <td>2,660.00</td>\n",
       "      <td>96.00</td>\n",
       "      <td>31.00</td>\n",
       "    </tr>\n",
       "    <tr>\n",
       "      <th>2</th>\n",
       "      <td>33,601,002,511.00</td>\n",
       "      <td>Huawei B528S-23A</td>\n",
       "      <td>2,660.00</td>\n",
       "      <td>96.00</td>\n",
       "      <td>33.00</td>\n",
       "    </tr>\n",
       "    <tr>\n",
       "      <th>9</th>\n",
       "      <td>33,601,020,306.00</td>\n",
       "      <td>Apple iPhone X (A1865)</td>\n",
       "      <td>2,624.00</td>\n",
       "      <td>150.00</td>\n",
       "      <td>62.00</td>\n",
       "    </tr>\n",
       "    <tr>\n",
       "      <th>3</th>\n",
       "      <td>33,601,007,832.00</td>\n",
       "      <td>Apple iPhone 5S (A1457)</td>\n",
       "      <td>2,396.00</td>\n",
       "      <td>408.00</td>\n",
       "      <td>84.00</td>\n",
       "    </tr>\n",
       "    <tr>\n",
       "      <th>7</th>\n",
       "      <td>33,601,011,959.00</td>\n",
       "      <td>Samsung Galaxy S8 Plus (Sm-G955F)</td>\n",
       "      <td>1,608.00</td>\n",
       "      <td>1,494.00</td>\n",
       "      <td>52.00</td>\n",
       "    </tr>\n",
       "  </tbody>\n",
       "</table>\n",
       "</div>"
      ],
      "text/plain": [
       "      MSISDN/Number                                      Handset Type  \\\n",
       "4 33,601,008,617.00                           Apple iPhone Se (A1723)   \n",
       "6 33,601,011,634.00  Huawei Mate 10 Pro Porsche Design Huawei Mate 10   \n",
       "5 33,601,010,682.00                          Samsung Galaxy A8 (2018)   \n",
       "8 33,601,014,694.00                                  Huawei B528S-23A   \n",
       "0 33,601,001,722.00                    Huawei P20 Lite Huawei Nova 3E   \n",
       "1 33,601,001,754.00                            Apple iPhone 7 (A1778)   \n",
       "2 33,601,002,511.00                                  Huawei B528S-23A   \n",
       "9 33,601,020,306.00                            Apple iPhone X (A1865)   \n",
       "3 33,601,007,832.00                           Apple iPhone 5S (A1457)   \n",
       "7 33,601,011,959.00                 Samsung Galaxy S8 Plus (Sm-G955F)   \n",
       "\n",
       "   Total TCP Retrans  Total Throughput  Total RTT  \n",
       "4       9,373,492.00         80,790.00     119.00  \n",
       "6         112,892.00         81,942.00      53.00  \n",
       "5           6,750.00         15,044.00      57.00  \n",
       "8           5,320.00            154.00      66.00  \n",
       "0           2,660.00             74.00      46.00  \n",
       "1           2,660.00             96.00      31.00  \n",
       "2           2,660.00             96.00      33.00  \n",
       "9           2,624.00            150.00      62.00  \n",
       "3           2,396.00            408.00      84.00  \n",
       "7           1,608.00          1,494.00      52.00  "
      ]
     },
     "execution_count": 95,
     "metadata": {},
     "output_type": "execute_result"
    }
   ],
   "source": [
    "network_per_user_df.head(10).sort_values(by='Total TCP Retrans', ascending=False)"
   ]
  },
  {
   "cell_type": "code",
   "execution_count": 96,
   "id": "fa7f254e",
   "metadata": {},
   "outputs": [
    {
     "data": {
      "image/png": "[encoded data removed]",
      "text/plain": [
       "<Figure size 864x504 with 1 Axes>"
      ]
     },
     "metadata": {
      "needs_background": "light"
     },
     "output_type": "display_data"
    }
   ],
   "source": [
    "# Top five \n",
    "result = network_per_user_df.sort_values(by='Total TCP Retrans', ascending=False)[:100]\n",
    "plot_bar(result, result['Handset Type'], result['Total TCP Retrans'], 'Highest Total TCP Retrans Handsets','','')"
   ]
  },
  {
   "cell_type": "code",
   "execution_count": 97,
   "id": "16e60428",
   "metadata": {},
   "outputs": [
    {
     "data": {
      "text/html": [
       "<div>\n",
       "<style scoped>\n",
       "    .dataframe tbody tr th:only-of-type {\n",
       "        vertical-align: middle;\n",
       "    }\n",
       "\n",
       "    .dataframe tbody tr th {\n",
       "        vertical-align: top;\n",
       "    }\n",
       "\n",
       "    .dataframe thead th {\n",
       "        text-align: right;\n",
       "    }\n",
       "</style>\n",
       "<table border=\"1\" class=\"dataframe\">\n",
       "  <thead>\n",
       "    <tr style=\"text-align: right;\">\n",
       "      <th></th>\n",
       "      <th>MSISDN/Number</th>\n",
       "      <th>Handset Type</th>\n",
       "      <th>Total TCP Retrans</th>\n",
       "      <th>Total Throughput</th>\n",
       "      <th>Total RTT</th>\n",
       "    </tr>\n",
       "  </thead>\n",
       "  <tbody>\n",
       "    <tr>\n",
       "      <th>23472</th>\n",
       "      <td>33,650,128,412.00</td>\n",
       "      <td>Apple iPhone 5S (A1457)</td>\n",
       "      <td>97.00</td>\n",
       "      <td>60,460.00</td>\n",
       "      <td>48.00</td>\n",
       "    </tr>\n",
       "    <tr>\n",
       "      <th>6359</th>\n",
       "      <td>33,614,777,138.00</td>\n",
       "      <td>Huawei Ascend Mate7</td>\n",
       "      <td>128.00</td>\n",
       "      <td>16,996.00</td>\n",
       "      <td>64.00</td>\n",
       "    </tr>\n",
       "    <tr>\n",
       "      <th>96977</th>\n",
       "      <td>33,762,062,356.00</td>\n",
       "      <td>Apple iPhone 8 (A1905)</td>\n",
       "      <td>129.00</td>\n",
       "      <td>63,080.00</td>\n",
       "      <td>41.00</td>\n",
       "    </tr>\n",
       "    <tr>\n",
       "      <th>13546</th>\n",
       "      <td>33,626,357,513.00</td>\n",
       "      <td>Apple iPhone 7 (A1778)</td>\n",
       "      <td>134.00</td>\n",
       "      <td>20,256.00</td>\n",
       "      <td>40.00</td>\n",
       "    </tr>\n",
       "    <tr>\n",
       "      <th>2177</th>\n",
       "      <td>33,607,833,304.00</td>\n",
       "      <td>Apple iPhone 5C (A1529)</td>\n",
       "      <td>143.00</td>\n",
       "      <td>32,484.00</td>\n",
       "      <td>32.00</td>\n",
       "    </tr>\n",
       "  </tbody>\n",
       "</table>\n",
       "</div>"
      ],
      "text/plain": [
       "          MSISDN/Number             Handset Type  Total TCP Retrans  \\\n",
       "23472 33,650,128,412.00  Apple iPhone 5S (A1457)              97.00   \n",
       "6359  33,614,777,138.00      Huawei Ascend Mate7             128.00   \n",
       "96977 33,762,062,356.00   Apple iPhone 8 (A1905)             129.00   \n",
       "13546 33,626,357,513.00   Apple iPhone 7 (A1778)             134.00   \n",
       "2177  33,607,833,304.00  Apple iPhone 5C (A1529)             143.00   \n",
       "\n",
       "       Total Throughput  Total RTT  \n",
       "23472         60,460.00      48.00  \n",
       "6359          16,996.00      64.00  \n",
       "96977         63,080.00      41.00  \n",
       "13546         20,256.00      40.00  \n",
       "2177          32,484.00      32.00  "
      ]
     },
     "execution_count": 97,
     "metadata": {},
     "output_type": "execute_result"
    }
   ],
   "source": [
    "# Bottom 5\n",
    "network_per_user_df.sort_values(by='Total TCP Retrans', ascending=True)[:5]"
   ]
  },
  {
   "cell_type": "code",
   "execution_count": 98,
   "id": "fe47ca14",
   "metadata": {},
   "outputs": [
    {
     "data": {
      "text/plain": [
       "2,660.00    47449\n",
       "5,320.00     7662\n",
       "7,980.00     1108\n",
       "Name: Total TCP Retrans, dtype: int64"
      ]
     },
     "execution_count": 98,
     "metadata": {},
     "output_type": "execute_result"
    }
   ],
   "source": [
    "# most frequent\n",
    "network_per_user_df['Total TCP Retrans'].value_counts().head(3)"
   ]
  },
  {
   "cell_type": "markdown",
   "id": "66140624",
   "metadata": {},
   "source": [
    "## Task 3.3 - Compute & report:"
   ]
  },
  {
   "cell_type": "markdown",
   "id": "b5defa37",
   "metadata": {},
   "source": [
    "1. The distribution of the average throughput  per handset type and provide interpretation for your findings.\n",
    "2. The average TCP retransmission view per handset type and provide interpretation for your findings."
   ]
  },
  {
   "cell_type": "code",
   "execution_count": 99,
   "id": "d2d3e438",
   "metadata": {},
   "outputs": [
    {
     "data": {
      "text/html": [
       "<div>\n",
       "<style scoped>\n",
       "    .dataframe tbody tr th:only-of-type {\n",
       "        vertical-align: middle;\n",
       "    }\n",
       "\n",
       "    .dataframe tbody tr th {\n",
       "        vertical-align: top;\n",
       "    }\n",
       "\n",
       "    .dataframe thead th {\n",
       "        text-align: right;\n",
       "    }\n",
       "</style>\n",
       "<table border=\"1\" class=\"dataframe\">\n",
       "  <thead>\n",
       "    <tr style=\"text-align: right;\">\n",
       "      <th></th>\n",
       "      <th>Handset Type</th>\n",
       "      <th>Total Throughput</th>\n",
       "    </tr>\n",
       "  </thead>\n",
       "  <tbody>\n",
       "    <tr>\n",
       "      <th>316</th>\n",
       "      <td>Huawei B528S-23A</td>\n",
       "      <td>1,635,829,034.00</td>\n",
       "    </tr>\n",
       "    <tr>\n",
       "      <th>59</th>\n",
       "      <td>Apple iPhone 7 (A1778)</td>\n",
       "      <td>135,674,378.00</td>\n",
       "    </tr>\n",
       "    <tr>\n",
       "      <th>53</th>\n",
       "      <td>Apple iPhone 6S (A1688)</td>\n",
       "      <td>130,004,954.00</td>\n",
       "    </tr>\n",
       "    <tr>\n",
       "      <th>49</th>\n",
       "      <td>Apple iPhone 6 (A1586)</td>\n",
       "      <td>118,531,110.00</td>\n",
       "    </tr>\n",
       "    <tr>\n",
       "      <th>953</th>\n",
       "      <td>Samsung Galaxy S8 (Sm-G950F)</td>\n",
       "      <td>113,334,542.00</td>\n",
       "    </tr>\n",
       "  </tbody>\n",
       "</table>\n",
       "</div>"
      ],
      "text/plain": [
       "                     Handset Type  Total Throughput\n",
       "316              Huawei B528S-23A  1,635,829,034.00\n",
       "59         Apple iPhone 7 (A1778)    135,674,378.00\n",
       "53        Apple iPhone 6S (A1688)    130,004,954.00\n",
       "49         Apple iPhone 6 (A1586)    118,531,110.00\n",
       "953  Samsung Galaxy S8 (Sm-G950F)    113,334,542.00"
      ]
     },
     "execution_count": 99,
     "metadata": {},
     "output_type": "execute_result"
    }
   ],
   "source": [
    "handset_ave_throughput = network_per_user_df.groupby('Handset Type').agg({'Total Throughput': 'sum'}).reset_index()\n",
    "handset_ave_throughput.sort_values(by='Total Throughput', ascending=False).head(5)"
   ]
  },
  {
   "cell_type": "code",
   "execution_count": 100,
   "id": "40c1f1a7",
   "metadata": {},
   "outputs": [
    {
     "data": {
      "text/html": [
       "<div>\n",
       "<style scoped>\n",
       "    .dataframe tbody tr th:only-of-type {\n",
       "        vertical-align: middle;\n",
       "    }\n",
       "\n",
       "    .dataframe tbody tr th {\n",
       "        vertical-align: top;\n",
       "    }\n",
       "\n",
       "    .dataframe thead th {\n",
       "        text-align: right;\n",
       "    }\n",
       "</style>\n",
       "<table border=\"1\" class=\"dataframe\">\n",
       "  <thead>\n",
       "    <tr style=\"text-align: right;\">\n",
       "      <th></th>\n",
       "      <th>Handset Type</th>\n",
       "      <th>Total TCP Retrans</th>\n",
       "    </tr>\n",
       "  </thead>\n",
       "  <tbody>\n",
       "    <tr>\n",
       "      <th>316</th>\n",
       "      <td>Huawei B528S-23A</td>\n",
       "      <td>1,074,982,451,791.00</td>\n",
       "    </tr>\n",
       "    <tr>\n",
       "      <th>337</th>\n",
       "      <td>Huawei E5180</td>\n",
       "      <td>63,325,502,400.00</td>\n",
       "    </tr>\n",
       "    <tr>\n",
       "      <th>341</th>\n",
       "      <td>Huawei E5573</td>\n",
       "      <td>15,958,608,654.00</td>\n",
       "    </tr>\n",
       "    <tr>\n",
       "      <th>53</th>\n",
       "      <td>Apple iPhone 6S (A1688)</td>\n",
       "      <td>11,730,194,438.00</td>\n",
       "    </tr>\n",
       "    <tr>\n",
       "      <th>49</th>\n",
       "      <td>Apple iPhone 6 (A1586)</td>\n",
       "      <td>11,144,207,475.00</td>\n",
       "    </tr>\n",
       "  </tbody>\n",
       "</table>\n",
       "</div>"
      ],
      "text/plain": [
       "                Handset Type    Total TCP Retrans\n",
       "316         Huawei B528S-23A 1,074,982,451,791.00\n",
       "337             Huawei E5180    63,325,502,400.00\n",
       "341             Huawei E5573    15,958,608,654.00\n",
       "53   Apple iPhone 6S (A1688)    11,730,194,438.00\n",
       "49    Apple iPhone 6 (A1586)    11,144,207,475.00"
      ]
     },
     "execution_count": 100,
     "metadata": {},
     "output_type": "execute_result"
    }
   ],
   "source": [
    "handset_rtt = network_per_user_df.groupby('Handset Type').agg({'Total TCP Retrans': 'sum'}).reset_index()\n",
    "handset_rtt.sort_values(by='Total TCP Retrans', ascending=False).head(5)\n",
    "### HUawei is leading but apple is following a lot"
   ]
  },
  {
   "cell_type": "markdown",
   "id": "051553b5",
   "metadata": {},
   "source": [
    "### Task 3.4 - Using the experience metrics above, perform a k-means clustering (where k = 3) to segment users into groups of experiences and provide a brief description of each cluster"
   ]
  },
  {
   "cell_type": "code",
   "execution_count": 101,
   "id": "eee3d189",
   "metadata": {},
   "outputs": [
    {
     "data": {
      "text/html": [
       "<div>\n",
       "<style scoped>\n",
       "    .dataframe tbody tr th:only-of-type {\n",
       "        vertical-align: middle;\n",
       "    }\n",
       "\n",
       "    .dataframe tbody tr th {\n",
       "        vertical-align: top;\n",
       "    }\n",
       "\n",
       "    .dataframe thead th {\n",
       "        text-align: right;\n",
       "    }\n",
       "</style>\n",
       "<table border=\"1\" class=\"dataframe\">\n",
       "  <thead>\n",
       "    <tr style=\"text-align: right;\">\n",
       "      <th></th>\n",
       "      <th>Total TCP Retrans</th>\n",
       "      <th>Total Throughput</th>\n",
       "      <th>Total RTT</th>\n",
       "    </tr>\n",
       "    <tr>\n",
       "      <th>MSISDN/Number</th>\n",
       "      <th></th>\n",
       "      <th></th>\n",
       "      <th></th>\n",
       "    </tr>\n",
       "  </thead>\n",
       "  <tbody>\n",
       "    <tr>\n",
       "      <th>33,601,001,722.00</th>\n",
       "      <td>2,660.00</td>\n",
       "      <td>74.00</td>\n",
       "      <td>46.00</td>\n",
       "    </tr>\n",
       "    <tr>\n",
       "      <th>33,601,001,754.00</th>\n",
       "      <td>2,660.00</td>\n",
       "      <td>96.00</td>\n",
       "      <td>31.00</td>\n",
       "    </tr>\n",
       "    <tr>\n",
       "      <th>33,601,002,511.00</th>\n",
       "      <td>2,660.00</td>\n",
       "      <td>96.00</td>\n",
       "      <td>33.00</td>\n",
       "    </tr>\n",
       "    <tr>\n",
       "      <th>33,601,007,832.00</th>\n",
       "      <td>2,396.00</td>\n",
       "      <td>408.00</td>\n",
       "      <td>84.00</td>\n",
       "    </tr>\n",
       "    <tr>\n",
       "      <th>33,601,008,617.00</th>\n",
       "      <td>9,373,492.00</td>\n",
       "      <td>80,790.00</td>\n",
       "      <td>119.00</td>\n",
       "    </tr>\n",
       "  </tbody>\n",
       "</table>\n",
       "</div>"
      ],
      "text/plain": [
       "                   Total TCP Retrans  Total Throughput  Total RTT\n",
       "MSISDN/Number                                                    \n",
       "33,601,001,722.00           2,660.00             74.00      46.00\n",
       "33,601,001,754.00           2,660.00             96.00      31.00\n",
       "33,601,002,511.00           2,660.00             96.00      33.00\n",
       "33,601,007,832.00           2,396.00            408.00      84.00\n",
       "33,601,008,617.00       9,373,492.00         80,790.00     119.00"
      ]
     },
     "execution_count": 101,
     "metadata": {},
     "output_type": "execute_result"
    }
   ],
   "source": [
    "handset= network_per_user_df['Handset Type'].unique()\n",
    "\n",
    "net_cluster_df = network_per_user_df.copy()\n",
    "net_cluster_df.drop('Handset Type', axis=1, inplace=True)\n",
    "net_cluster_df = net_cluster_df.set_index('MSISDN/Number')\n",
    "\n",
    "net_cluster_df.head()\n"
   ]
  },
  {
   "cell_type": "code",
   "execution_count": 102,
   "id": "cb2a9e4f",
   "metadata": {},
   "outputs": [],
   "source": [
    "## First normalize, Then Cluster\n",
    "min_max_scaler = preprocessing.MinMaxScaler()\n",
    "network_values = net_cluster_df.values\n",
    "\n",
    "scalled_values = min_max_scaler.fit_transform(network_values)\n",
    "df_network_normalized = pd.DataFrame(data=scalled_values, columns=df_task2.columns)\n",
    "\n",
    "\n",
    "kmeans = KMeans(n_clusters=3).fit(df_normalized)"
   ]
  },
  {
   "cell_type": "code",
   "execution_count": 104,
   "id": "561eff32",
   "metadata": {},
   "outputs": [
    {
     "data": {
      "text/html": [
       "<div>\n",
       "<style scoped>\n",
       "    .dataframe tbody tr th:only-of-type {\n",
       "        vertical-align: middle;\n",
       "    }\n",
       "\n",
       "    .dataframe tbody tr th {\n",
       "        vertical-align: top;\n",
       "    }\n",
       "\n",
       "    .dataframe thead th {\n",
       "        text-align: right;\n",
       "    }\n",
       "</style>\n",
       "<table border=\"1\" class=\"dataframe\">\n",
       "  <thead>\n",
       "    <tr style=\"text-align: right;\">\n",
       "      <th></th>\n",
       "      <th>Handset Type</th>\n",
       "      <th>Total TCP Retrans</th>\n",
       "      <th>Total Throughput</th>\n",
       "      <th>Total RTT</th>\n",
       "      <th>cluster-experiance</th>\n",
       "    </tr>\n",
       "    <tr>\n",
       "      <th>MSISDN/Number</th>\n",
       "      <th></th>\n",
       "      <th></th>\n",
       "      <th></th>\n",
       "      <th></th>\n",
       "      <th></th>\n",
       "    </tr>\n",
       "  </thead>\n",
       "  <tbody>\n",
       "    <tr>\n",
       "      <th>33,601,001,722.00</th>\n",
       "      <td>Huawei P20 Lite Huawei Nova 3E</td>\n",
       "      <td>2,660.00</td>\n",
       "      <td>74.00</td>\n",
       "      <td>46.00</td>\n",
       "      <td>1</td>\n",
       "    </tr>\n",
       "    <tr>\n",
       "      <th>33,601,001,754.00</th>\n",
       "      <td>Apple iPhone 7 (A1778)</td>\n",
       "      <td>2,660.00</td>\n",
       "      <td>96.00</td>\n",
       "      <td>31.00</td>\n",
       "      <td>1</td>\n",
       "    </tr>\n",
       "    <tr>\n",
       "      <th>33,601,002,511.00</th>\n",
       "      <td>Huawei B528S-23A</td>\n",
       "      <td>2,660.00</td>\n",
       "      <td>96.00</td>\n",
       "      <td>33.00</td>\n",
       "      <td>1</td>\n",
       "    </tr>\n",
       "    <tr>\n",
       "      <th>33,601,007,832.00</th>\n",
       "      <td>Apple iPhone 5S (A1457)</td>\n",
       "      <td>2,396.00</td>\n",
       "      <td>408.00</td>\n",
       "      <td>84.00</td>\n",
       "      <td>1</td>\n",
       "    </tr>\n",
       "    <tr>\n",
       "      <th>33,601,008,617.00</th>\n",
       "      <td>Apple iPhone Se (A1723)</td>\n",
       "      <td>9,373,492.00</td>\n",
       "      <td>80,790.00</td>\n",
       "      <td>119.00</td>\n",
       "      <td>1</td>\n",
       "    </tr>\n",
       "  </tbody>\n",
       "</table>\n",
       "</div>"
      ],
      "text/plain": [
       "                                     Handset Type  Total TCP Retrans  \\\n",
       "MSISDN/Number                                                          \n",
       "33,601,001,722.00  Huawei P20 Lite Huawei Nova 3E           2,660.00   \n",
       "33,601,001,754.00          Apple iPhone 7 (A1778)           2,660.00   \n",
       "33,601,002,511.00                Huawei B528S-23A           2,660.00   \n",
       "33,601,007,832.00         Apple iPhone 5S (A1457)           2,396.00   \n",
       "33,601,008,617.00         Apple iPhone Se (A1723)       9,373,492.00   \n",
       "\n",
       "                   Total Throughput  Total RTT  cluster-experiance  \n",
       "MSISDN/Number                                                       \n",
       "33,601,001,722.00             74.00      46.00                   1  \n",
       "33,601,001,754.00             96.00      31.00                   1  \n",
       "33,601,002,511.00             96.00      33.00                   1  \n",
       "33,601,007,832.00            408.00      84.00                   1  \n",
       "33,601,008,617.00         80,790.00     119.00                   1  "
      ]
     },
     "execution_count": 104,
     "metadata": {},
     "output_type": "execute_result"
    }
   ],
   "source": [
    "cluster = kmeans.predict(df_network_normalized)\n",
    "experiance_df = network_per_user_df.copy()\n",
    "experiance_df['cluster-experiance']  = cluster\n",
    "experiance_df = experiance_df.set_index('MSISDN/Number')\n",
    "experiance_df.head()"
   ]
  },
  {
   "cell_type": "code",
   "execution_count": 105,
   "id": "327ed92c",
   "metadata": {},
   "outputs": [
    {
     "data": {
      "image/png": "[encoded data removed]",
      "text/plain": [
       "<Figure size 864x504 with 1 Axes>"
      ]
     },
     "metadata": {
      "needs_background": "light"
     },
     "output_type": "display_data"
    }
   ],
   "source": [
    "plot_scatter(experiance_df,\"Total Throughput\", \"Total RTT\",\"Clustering with Kmean\", \"cluster-experiance\", \"\")"
   ]
  },
  {
   "cell_type": "code",
   "execution_count": 106,
   "id": "75268aac",
   "metadata": {},
   "outputs": [
    {
     "data": {
      "text/plain": [
       "1    99884\n",
       "0     6971\n",
       "2        1\n",
       "Name: cluster-experiance, dtype: int64"
      ]
     },
     "execution_count": 106,
     "metadata": {},
     "output_type": "execute_result"
    }
   ],
   "source": [
    "experiance_df['cluster-experiance'].value_counts()\n",
    "## dont' know what kind of description am gonna provide for this "
   ]
  },
  {
   "cell_type": "markdown",
   "id": "bf58fcd8",
   "metadata": {},
   "source": [
    "## Task 4 - Satisfaction Analysis"
   ]
  },
  {
   "cell_type": "markdown",
   "id": "3fd1d70e",
   "metadata": {},
   "source": [
    "1. engagement score to each user. Consider the engagement score as the Euclidean distance between the user data point & the less engaged cluster (use the first clustering for this) \n",
    "\n",
    "2. experience score to each user. Consider the experience score as the Euclidean distance between the user data point & the worst experience’s cluster."
   ]
  },
  {
   "cell_type": "code",
   "execution_count": 107,
   "id": "fe04bdd5",
   "metadata": {},
   "outputs": [
    {
     "data": {
      "text/plain": [
       "Bearer Id                        3.26\n",
       "Dur. (ms).1            538,820,278.62\n",
       "Total                1,642,231,478.67\n",
       "cluster-engagement               0.00\n",
       "dtype: float64"
      ]
     },
     "execution_count": 107,
     "metadata": {},
     "output_type": "execute_result"
    }
   ],
   "source": [
    "## Engagement Score\n",
    "lowest_engagement = engagement_df.groupby('cluster-engagement').get_group(0).mean()\n",
    "lowest_engagement"
   ]
  },
  {
   "cell_type": "code",
   "execution_count": 108,
   "id": "67470264",
   "metadata": {},
   "outputs": [
    {
     "data": {
      "text/html": [
       "<div>\n",
       "<style scoped>\n",
       "    .dataframe tbody tr th:only-of-type {\n",
       "        vertical-align: middle;\n",
       "    }\n",
       "\n",
       "    .dataframe tbody tr th {\n",
       "        vertical-align: top;\n",
       "    }\n",
       "\n",
       "    .dataframe thead th {\n",
       "        text-align: right;\n",
       "    }\n",
       "</style>\n",
       "<table border=\"1\" class=\"dataframe\">\n",
       "  <thead>\n",
       "    <tr style=\"text-align: right;\">\n",
       "      <th></th>\n",
       "      <th>Bearer Id</th>\n",
       "      <th>Dur. (ms).1</th>\n",
       "      <th>Total</th>\n",
       "      <th>cluster-engagement</th>\n",
       "      <th>engagement score</th>\n",
       "    </tr>\n",
       "    <tr>\n",
       "      <th>MSISDN/Number</th>\n",
       "      <th></th>\n",
       "      <th></th>\n",
       "      <th></th>\n",
       "      <th></th>\n",
       "      <th></th>\n",
       "    </tr>\n",
       "  </thead>\n",
       "  <tbody>\n",
       "    <tr>\n",
       "      <th>33,601,001,722.00</th>\n",
       "      <td>1</td>\n",
       "      <td>116,720,140.00</td>\n",
       "      <td>878,690,574.00</td>\n",
       "      <td>2</td>\n",
       "      <td>872,446,697.59</td>\n",
       "    </tr>\n",
       "    <tr>\n",
       "      <th>33,601,001,754.00</th>\n",
       "      <td>1</td>\n",
       "      <td>181,230,963.00</td>\n",
       "      <td>156,859,643.00</td>\n",
       "      <td>2</td>\n",
       "      <td>1,527,808,760.56</td>\n",
       "    </tr>\n",
       "    <tr>\n",
       "      <th>33,601,002,511.00</th>\n",
       "      <td>1</td>\n",
       "      <td>134,969,374.00</td>\n",
       "      <td>595,966,483.00</td>\n",
       "      <td>2</td>\n",
       "      <td>1,121,501,669.34</td>\n",
       "    </tr>\n",
       "    <tr>\n",
       "      <th>33,601,007,832.00</th>\n",
       "      <td>1</td>\n",
       "      <td>49,878,024.00</td>\n",
       "      <td>422,320,698.00</td>\n",
       "      <td>2</td>\n",
       "      <td>1,314,247,633.12</td>\n",
       "    </tr>\n",
       "    <tr>\n",
       "      <th>33,601,008,617.00</th>\n",
       "      <td>2</td>\n",
       "      <td>37,104,453.00</td>\n",
       "      <td>1,457,410,944.00</td>\n",
       "      <td>2</td>\n",
       "      <td>534,675,041.23</td>\n",
       "    </tr>\n",
       "  </tbody>\n",
       "</table>\n",
       "</div>"
      ],
      "text/plain": [
       "                   Bearer Id    Dur. (ms).1            Total  \\\n",
       "MSISDN/Number                                                  \n",
       "33,601,001,722.00          1 116,720,140.00   878,690,574.00   \n",
       "33,601,001,754.00          1 181,230,963.00   156,859,643.00   \n",
       "33,601,002,511.00          1 134,969,374.00   595,966,483.00   \n",
       "33,601,007,832.00          1  49,878,024.00   422,320,698.00   \n",
       "33,601,008,617.00          2  37,104,453.00 1,457,410,944.00   \n",
       "\n",
       "                   cluster-engagement  engagement score  \n",
       "MSISDN/Number                                            \n",
       "33,601,001,722.00                   2    872,446,697.59  \n",
       "33,601,001,754.00                   2  1,527,808,760.56  \n",
       "33,601,002,511.00                   2  1,121,501,669.34  \n",
       "33,601,007,832.00                   2  1,314,247,633.12  \n",
       "33,601,008,617.00                   2    534,675,041.23  "
      ]
     },
     "execution_count": 108,
     "metadata": {},
     "output_type": "execute_result"
    }
   ],
   "source": [
    "def get_engagement_score(df, lowest):\n",
    "    x = float(lowest['Bearer Id'])\n",
    "    y = float(lowest['Dur. (ms).1'])\n",
    "    z = float(lowest['Total'])\n",
    "    new_df = df.copy()\n",
    "    new_df['engagement score'] = ((df['Bearer Id'] - x)**2 + (df['Dur. (ms).1'] - y)**2 + (df['Total'] - z)**2)**0.5\n",
    "    return new_df\n",
    "engagement_scored_df = get_engagement_score(engagement_df, lowest_engagement)\n",
    "engagement_scored_df.head()"
   ]
  },
  {
   "cell_type": "code",
   "execution_count": 109,
   "id": "701459b6",
   "metadata": {},
   "outputs": [
    {
     "data": {
      "text/plain": [
       "Total TCP Retrans    166,328,308.41\n",
       "Total Throughput         245,795.44\n",
       "Total RTT                    603.99\n",
       "cluster-experiance             0.00\n",
       "dtype: float64"
      ]
     },
     "execution_count": 109,
     "metadata": {},
     "output_type": "execute_result"
    }
   ],
   "source": [
    "lowest_experiance = experiance_df.groupby('cluster-experiance').get_group(0).mean()\n",
    "lowest_experiance"
   ]
  },
  {
   "cell_type": "code",
   "execution_count": 110,
   "id": "bb56e6fc",
   "metadata": {},
   "outputs": [
    {
     "data": {
      "text/html": [
       "<div>\n",
       "<style scoped>\n",
       "    .dataframe tbody tr th:only-of-type {\n",
       "        vertical-align: middle;\n",
       "    }\n",
       "\n",
       "    .dataframe tbody tr th {\n",
       "        vertical-align: top;\n",
       "    }\n",
       "\n",
       "    .dataframe thead th {\n",
       "        text-align: right;\n",
       "    }\n",
       "</style>\n",
       "<table border=\"1\" class=\"dataframe\">\n",
       "  <thead>\n",
       "    <tr style=\"text-align: right;\">\n",
       "      <th></th>\n",
       "      <th>Handset Type</th>\n",
       "      <th>Total TCP Retrans</th>\n",
       "      <th>Total Throughput</th>\n",
       "      <th>Total RTT</th>\n",
       "      <th>cluster-experiance</th>\n",
       "      <th>experience score</th>\n",
       "    </tr>\n",
       "    <tr>\n",
       "      <th>MSISDN/Number</th>\n",
       "      <th></th>\n",
       "      <th></th>\n",
       "      <th></th>\n",
       "      <th></th>\n",
       "      <th></th>\n",
       "      <th></th>\n",
       "    </tr>\n",
       "  </thead>\n",
       "  <tbody>\n",
       "    <tr>\n",
       "      <th>33,601,001,722.00</th>\n",
       "      <td>Huawei P20 Lite Huawei Nova 3E</td>\n",
       "      <td>2,660.00</td>\n",
       "      <td>74.00</td>\n",
       "      <td>46.00</td>\n",
       "      <td>1</td>\n",
       "      <td>166,325,829.92</td>\n",
       "    </tr>\n",
       "    <tr>\n",
       "      <th>33,601,001,754.00</th>\n",
       "      <td>Apple iPhone 7 (A1778)</td>\n",
       "      <td>2,660.00</td>\n",
       "      <td>96.00</td>\n",
       "      <td>31.00</td>\n",
       "      <td>1</td>\n",
       "      <td>166,325,829.88</td>\n",
       "    </tr>\n",
       "    <tr>\n",
       "      <th>33,601,002,511.00</th>\n",
       "      <td>Huawei B528S-23A</td>\n",
       "      <td>2,660.00</td>\n",
       "      <td>96.00</td>\n",
       "      <td>33.00</td>\n",
       "      <td>1</td>\n",
       "      <td>166,325,829.88</td>\n",
       "    </tr>\n",
       "    <tr>\n",
       "      <th>33,601,007,832.00</th>\n",
       "      <td>Apple iPhone 5S (A1457)</td>\n",
       "      <td>2,396.00</td>\n",
       "      <td>408.00</td>\n",
       "      <td>84.00</td>\n",
       "      <td>1</td>\n",
       "      <td>166,326,093.42</td>\n",
       "    </tr>\n",
       "    <tr>\n",
       "      <th>33,601,008,617.00</th>\n",
       "      <td>Apple iPhone Se (A1723)</td>\n",
       "      <td>9,373,492.00</td>\n",
       "      <td>80,790.00</td>\n",
       "      <td>119.00</td>\n",
       "      <td>1</td>\n",
       "      <td>156,954,903.14</td>\n",
       "    </tr>\n",
       "  </tbody>\n",
       "</table>\n",
       "</div>"
      ],
      "text/plain": [
       "                                     Handset Type  Total TCP Retrans  \\\n",
       "MSISDN/Number                                                          \n",
       "33,601,001,722.00  Huawei P20 Lite Huawei Nova 3E           2,660.00   \n",
       "33,601,001,754.00          Apple iPhone 7 (A1778)           2,660.00   \n",
       "33,601,002,511.00                Huawei B528S-23A           2,660.00   \n",
       "33,601,007,832.00         Apple iPhone 5S (A1457)           2,396.00   \n",
       "33,601,008,617.00         Apple iPhone Se (A1723)       9,373,492.00   \n",
       "\n",
       "                   Total Throughput  Total RTT  cluster-experiance  \\\n",
       "MSISDN/Number                                                        \n",
       "33,601,001,722.00             74.00      46.00                   1   \n",
       "33,601,001,754.00             96.00      31.00                   1   \n",
       "33,601,002,511.00             96.00      33.00                   1   \n",
       "33,601,007,832.00            408.00      84.00                   1   \n",
       "33,601,008,617.00         80,790.00     119.00                   1   \n",
       "\n",
       "                   experience score  \n",
       "MSISDN/Number                        \n",
       "33,601,001,722.00    166,325,829.92  \n",
       "33,601,001,754.00    166,325,829.88  \n",
       "33,601,002,511.00    166,325,829.88  \n",
       "33,601,007,832.00    166,326,093.42  \n",
       "33,601,008,617.00    156,954,903.14  "
      ]
     },
     "execution_count": 110,
     "metadata": {},
     "output_type": "execute_result"
    }
   ],
   "source": [
    "def get_experiance_score(df, low):\n",
    "    x = float(low['Total RTT'])\n",
    "    y = float(low['Total TCP Retrans'])\n",
    "    z = float(low['Total Throughput'])\n",
    "    new_df = df.copy()\n",
    "    new_df['experience score'] = ((df['Total RTT'] - x)**2 + (df['Total TCP Retrans'] - y)**2 \\\n",
    "                              + (df['Total Throughput'] - z)**2 )**0.5\n",
    "    return new_df\n",
    "experiance_scored_df = get_experiance_score(experiance_df, lowest_experiance)\n",
    "experiance_scored_df.head()"
   ]
  },
  {
   "cell_type": "markdown",
   "id": "c2fda581",
   "metadata": {},
   "source": [
    "### Task 4.2 - Consider the average of both engagement & experience scores as  the satisfaction score & report the top 10 satisfied customer "
   ]
  },
  {
   "cell_type": "code",
   "execution_count": 111,
   "id": "9838cc82",
   "metadata": {},
   "outputs": [],
   "source": [
    "satisfaction_df = pd.merge(engagement_scored_df[\"engagement score\"], experiance_scored_df['experience score'], on='MSISDN/Number')\n",
    "satisfaction_df['satisfaction score'] = (satisfaction_df['engagement score'] + satisfaction_df['experience score']) / 2\n"
   ]
  },
  {
   "cell_type": "code",
   "execution_count": 112,
   "id": "b3bef56e",
   "metadata": {},
   "outputs": [
    {
     "data": {
      "text/html": [
       "<div>\n",
       "<style scoped>\n",
       "    .dataframe tbody tr th:only-of-type {\n",
       "        vertical-align: middle;\n",
       "    }\n",
       "\n",
       "    .dataframe tbody tr th {\n",
       "        vertical-align: top;\n",
       "    }\n",
       "\n",
       "    .dataframe thead th {\n",
       "        text-align: right;\n",
       "    }\n",
       "</style>\n",
       "<table border=\"1\" class=\"dataframe\">\n",
       "  <thead>\n",
       "    <tr style=\"text-align: right;\">\n",
       "      <th></th>\n",
       "      <th>engagement score</th>\n",
       "      <th>experience score</th>\n",
       "      <th>satisfaction score</th>\n",
       "    </tr>\n",
       "    <tr>\n",
       "      <th>MSISDN/Number</th>\n",
       "      <th></th>\n",
       "      <th></th>\n",
       "      <th></th>\n",
       "    </tr>\n",
       "  </thead>\n",
       "  <tbody>\n",
       "    <tr>\n",
       "      <th>33,663,706,799.00</th>\n",
       "      <td>535,202,403,385.25</td>\n",
       "      <td>166,326,826.01</td>\n",
       "      <td>267,684,365,105.63</td>\n",
       "    </tr>\n",
       "    <tr>\n",
       "      <th>33,626,320,676.00</th>\n",
       "      <td>10,400,449,916.79</td>\n",
       "      <td>10,309,451,664.60</td>\n",
       "      <td>10,354,950,790.69</td>\n",
       "    </tr>\n",
       "    <tr>\n",
       "      <th>33,625,779,332.00</th>\n",
       "      <td>19,275,942,674.73</td>\n",
       "      <td>165,981,747.24</td>\n",
       "      <td>9,720,962,210.99</td>\n",
       "    </tr>\n",
       "    <tr>\n",
       "      <th>33,614,892,860.00</th>\n",
       "      <td>11,865,341,966.73</td>\n",
       "      <td>162,829,728.84</td>\n",
       "      <td>6,014,085,847.79</td>\n",
       "    </tr>\n",
       "    <tr>\n",
       "      <th>33,760,536,639.00</th>\n",
       "      <td>11,118,916,686.22</td>\n",
       "      <td>131,790,760.23</td>\n",
       "      <td>5,625,353,723.23</td>\n",
       "    </tr>\n",
       "    <tr>\n",
       "      <th>33,667,163,239.00</th>\n",
       "      <td>9,118,660,790.67</td>\n",
       "      <td>163,675,107.37</td>\n",
       "      <td>4,641,167,949.02</td>\n",
       "    </tr>\n",
       "    <tr>\n",
       "      <th>33,667,725,464.00</th>\n",
       "      <td>573,295,006.23</td>\n",
       "      <td>8,187,880,805.36</td>\n",
       "      <td>4,380,587,905.79</td>\n",
       "    </tr>\n",
       "    <tr>\n",
       "      <th>33,659,084,281.00</th>\n",
       "      <td>279,821,272.21</td>\n",
       "      <td>7,775,531,994.04</td>\n",
       "      <td>4,027,676,633.12</td>\n",
       "    </tr>\n",
       "    <tr>\n",
       "      <th>33,660,977,522.00</th>\n",
       "      <td>543,305,060.25</td>\n",
       "      <td>7,207,812,083.61</td>\n",
       "      <td>3,875,558,571.93</td>\n",
       "    </tr>\n",
       "    <tr>\n",
       "      <th>33,675,877,202.00</th>\n",
       "      <td>7,600,827,265.40</td>\n",
       "      <td>128,376,752.12</td>\n",
       "      <td>3,864,602,008.76</td>\n",
       "    </tr>\n",
       "  </tbody>\n",
       "</table>\n",
       "</div>"
      ],
      "text/plain": [
       "                    engagement score  experience score  satisfaction score\n",
       "MSISDN/Number                                                             \n",
       "33,663,706,799.00 535,202,403,385.25    166,326,826.01  267,684,365,105.63\n",
       "33,626,320,676.00  10,400,449,916.79 10,309,451,664.60   10,354,950,790.69\n",
       "33,625,779,332.00  19,275,942,674.73    165,981,747.24    9,720,962,210.99\n",
       "33,614,892,860.00  11,865,341,966.73    162,829,728.84    6,014,085,847.79\n",
       "33,760,536,639.00  11,118,916,686.22    131,790,760.23    5,625,353,723.23\n",
       "33,667,163,239.00   9,118,660,790.67    163,675,107.37    4,641,167,949.02\n",
       "33,667,725,464.00     573,295,006.23  8,187,880,805.36    4,380,587,905.79\n",
       "33,659,084,281.00     279,821,272.21  7,775,531,994.04    4,027,676,633.12\n",
       "33,660,977,522.00     543,305,060.25  7,207,812,083.61    3,875,558,571.93\n",
       "33,675,877,202.00   7,600,827,265.40    128,376,752.12    3,864,602,008.76"
      ]
     },
     "execution_count": 112,
     "metadata": {},
     "output_type": "execute_result"
    }
   ],
   "source": [
    "satisfaction_df.sort_values(by='satisfaction score', ascending=False).head(10)"
   ]
  },
  {
   "cell_type": "markdown",
   "id": "90505557",
   "metadata": {},
   "source": [
    "### Task 4.3 - Build a regression model of your choice to predict the satisfaction score of a customer. "
   ]
  },
  {
   "cell_type": "code",
   "execution_count": 113,
   "id": "b584b9cf",
   "metadata": {},
   "outputs": [
    {
     "data": {
      "text/html": [
       "<div>\n",
       "<style scoped>\n",
       "    .dataframe tbody tr th:only-of-type {\n",
       "        vertical-align: middle;\n",
       "    }\n",
       "\n",
       "    .dataframe tbody tr th {\n",
       "        vertical-align: top;\n",
       "    }\n",
       "\n",
       "    .dataframe thead th {\n",
       "        text-align: right;\n",
       "    }\n",
       "</style>\n",
       "<table border=\"1\" class=\"dataframe\">\n",
       "  <thead>\n",
       "    <tr style=\"text-align: right;\">\n",
       "      <th></th>\n",
       "      <th>Bearer Id</th>\n",
       "      <th>Dur. (ms).1</th>\n",
       "      <th>Total</th>\n",
       "      <th>Total RTT</th>\n",
       "      <th>Total TCP Retrans</th>\n",
       "      <th>Total Throughput</th>\n",
       "      <th>satisfaction score</th>\n",
       "    </tr>\n",
       "    <tr>\n",
       "      <th>MSISDN/Number</th>\n",
       "      <th></th>\n",
       "      <th></th>\n",
       "      <th></th>\n",
       "      <th></th>\n",
       "      <th></th>\n",
       "      <th></th>\n",
       "      <th></th>\n",
       "    </tr>\n",
       "  </thead>\n",
       "  <tbody>\n",
       "    <tr>\n",
       "      <th>33,601,001,722.00</th>\n",
       "      <td>1</td>\n",
       "      <td>116,720,140.00</td>\n",
       "      <td>878,690,574.00</td>\n",
       "      <td>46.00</td>\n",
       "      <td>2,660.00</td>\n",
       "      <td>74.00</td>\n",
       "      <td>519,386,263.75</td>\n",
       "    </tr>\n",
       "    <tr>\n",
       "      <th>33,601,001,754.00</th>\n",
       "      <td>1</td>\n",
       "      <td>181,230,963.00</td>\n",
       "      <td>156,859,643.00</td>\n",
       "      <td>31.00</td>\n",
       "      <td>2,660.00</td>\n",
       "      <td>96.00</td>\n",
       "      <td>847,067,295.22</td>\n",
       "    </tr>\n",
       "    <tr>\n",
       "      <th>33,601,002,511.00</th>\n",
       "      <td>1</td>\n",
       "      <td>134,969,374.00</td>\n",
       "      <td>595,966,483.00</td>\n",
       "      <td>33.00</td>\n",
       "      <td>2,660.00</td>\n",
       "      <td>96.00</td>\n",
       "      <td>643,913,749.61</td>\n",
       "    </tr>\n",
       "    <tr>\n",
       "      <th>33,601,007,832.00</th>\n",
       "      <td>1</td>\n",
       "      <td>49,878,024.00</td>\n",
       "      <td>422,320,698.00</td>\n",
       "      <td>84.00</td>\n",
       "      <td>2,396.00</td>\n",
       "      <td>408.00</td>\n",
       "      <td>740,286,863.27</td>\n",
       "    </tr>\n",
       "    <tr>\n",
       "      <th>33,601,008,617.00</th>\n",
       "      <td>2</td>\n",
       "      <td>37,104,453.00</td>\n",
       "      <td>1,457,410,944.00</td>\n",
       "      <td>119.00</td>\n",
       "      <td>9,373,492.00</td>\n",
       "      <td>80,790.00</td>\n",
       "      <td>345,814,972.19</td>\n",
       "    </tr>\n",
       "  </tbody>\n",
       "</table>\n",
       "</div>"
      ],
      "text/plain": [
       "                   Bearer Id    Dur. (ms).1            Total  Total RTT  \\\n",
       "MSISDN/Number                                                             \n",
       "33,601,001,722.00          1 116,720,140.00   878,690,574.00      46.00   \n",
       "33,601,001,754.00          1 181,230,963.00   156,859,643.00      31.00   \n",
       "33,601,002,511.00          1 134,969,374.00   595,966,483.00      33.00   \n",
       "33,601,007,832.00          1  49,878,024.00   422,320,698.00      84.00   \n",
       "33,601,008,617.00          2  37,104,453.00 1,457,410,944.00     119.00   \n",
       "\n",
       "                   Total TCP Retrans  Total Throughput  satisfaction score  \n",
       "MSISDN/Number                                                               \n",
       "33,601,001,722.00           2,660.00             74.00      519,386,263.75  \n",
       "33,601,001,754.00           2,660.00             96.00      847,067,295.22  \n",
       "33,601,002,511.00           2,660.00             96.00      643,913,749.61  \n",
       "33,601,007,832.00           2,396.00            408.00      740,286,863.27  \n",
       "33,601,008,617.00       9,373,492.00         80,790.00      345,814,972.19  "
      ]
     },
     "execution_count": 113,
     "metadata": {},
     "output_type": "execute_result"
    }
   ],
   "source": [
    "    \n",
    "df_regression = pd.merge(engagement_df[['Bearer Id', 'Dur. (ms).1', 'Total']],\\\n",
    "                        experiance_df[['Total RTT','Total TCP Retrans', 'Total Throughput']],\\\n",
    "                       on='MSISDN/Number')\n",
    "df_regression = pd.merge(df_regression,satisfaction_df['satisfaction score'], on='MSISDN/Number' )\n",
    "df_regression.head()"
   ]
  },
  {
   "cell_type": "code",
   "execution_count": 114,
   "id": "ea14f774",
   "metadata": {},
   "outputs": [
    {
     "data": {
      "text/plain": [
       "(106856, 6)"
      ]
     },
     "execution_count": 114,
     "metadata": {},
     "output_type": "execute_result"
    }
   ],
   "source": [
    "# scaling and fiting\n",
    "X = df_regression[['Bearer Id', 'Dur. (ms).1', 'Total','Total RTT','Total TCP Retrans', 'Total Throughput']].values\n",
    "X = StandardScaler().fit_transform(X)\n",
    "X.shape"
   ]
  },
  {
   "cell_type": "code",
   "execution_count": 115,
   "id": "a2ec80ee",
   "metadata": {},
   "outputs": [
    {
     "data": {
      "text/plain": [
       "(106856, 1)"
      ]
     },
     "execution_count": 115,
     "metadata": {},
     "output_type": "execute_result"
    }
   ],
   "source": [
    "y = df_regression[['satisfaction score']].values\n",
    "y = StandardScaler().fit_transform(y)\n",
    "y.shape"
   ]
  },
  {
   "cell_type": "code",
   "execution_count": 116,
   "id": "1e0f6274",
   "metadata": {},
   "outputs": [
    {
     "data": {
      "text/plain": [
       "0.8856043772209212"
      ]
     },
     "execution_count": 116,
     "metadata": {},
     "output_type": "execute_result"
    }
   ],
   "source": [
    "model = LinearRegression().fit(X, y)\n",
    "model.score(X, y)"
   ]
  },
  {
   "cell_type": "code",
   "execution_count": 117,
   "id": "0cb79c26",
   "metadata": {},
   "outputs": [],
   "source": [
    "pickle.dump(model, open('../models/model.pkl', 'wb'))"
   ]
  },
  {
   "cell_type": "markdown",
   "id": "5bab1a2c",
   "metadata": {},
   "source": [
    "### Task 4.4 - Run a k-means (k=2) on the engagement & the experience score ."
   ]
  },
  {
   "cell_type": "code",
   "execution_count": 118,
   "id": "59818970",
   "metadata": {},
   "outputs": [],
   "source": [
    "eng_exp_df = satisfaction_df[['engagement score', 'experience score']]"
   ]
  },
  {
   "cell_type": "code",
   "execution_count": 119,
   "id": "a7f11268",
   "metadata": {},
   "outputs": [],
   "source": [
    "min_max_scaler = preprocessing.MinMaxScaler()\n",
    "eng_exp_values = eng_exp_df.values\n",
    "\n",
    "scalled_values = min_max_scaler.fit_transform(eng_exp_values)\n",
    "eng_exp_normalized = pd.DataFrame(data=scalled_values, columns=eng_exp_df.columns)\n",
    "\n",
    "\n",
    "kmeans = KMeans(n_clusters=2).fit(eng_exp_normalized)"
   ]
  },
  {
   "cell_type": "markdown",
   "id": "eab12dde",
   "metadata": {},
   "source": [
    "### Task 4.5 - Aggregate the average satisfaction & experience score per cluster. "
   ]
  },
  {
   "cell_type": "code",
   "execution_count": 120,
   "id": "2bf697a5",
   "metadata": {},
   "outputs": [
    {
     "data": {
      "text/plain": [
       "0    106652\n",
       "1       204\n",
       "Name: clusters, dtype: int64"
      ]
     },
     "execution_count": 120,
     "metadata": {},
     "output_type": "execute_result"
    }
   ],
   "source": [
    "eng_exp_df['clusters'] = kmeans.labels_\n",
    "eng_exp_df['clusters'].value_counts()"
   ]
  },
  {
   "cell_type": "code",
   "execution_count": 121,
   "id": "249475c5",
   "metadata": {},
   "outputs": [
    {
     "data": {
      "text/html": [
       "<div>\n",
       "<style scoped>\n",
       "    .dataframe tbody tr th:only-of-type {\n",
       "        vertical-align: middle;\n",
       "    }\n",
       "\n",
       "    .dataframe tbody tr th {\n",
       "        vertical-align: top;\n",
       "    }\n",
       "\n",
       "    .dataframe thead th {\n",
       "        text-align: right;\n",
       "    }\n",
       "</style>\n",
       "<table border=\"1\" class=\"dataframe\">\n",
       "  <thead>\n",
       "    <tr style=\"text-align: right;\">\n",
       "      <th></th>\n",
       "      <th>engagement score</th>\n",
       "      <th>experience score</th>\n",
       "    </tr>\n",
       "    <tr>\n",
       "      <th>clusters</th>\n",
       "      <th></th>\n",
       "      <th></th>\n",
       "    </tr>\n",
       "  </thead>\n",
       "  <tbody>\n",
       "    <tr>\n",
       "      <th>0</th>\n",
       "      <td>1,101,863,229.05</td>\n",
       "      <td>164,694,110.25</td>\n",
       "    </tr>\n",
       "    <tr>\n",
       "      <th>1</th>\n",
       "      <td>990,365,693.41</td>\n",
       "      <td>2,995,945,458.16</td>\n",
       "    </tr>\n",
       "  </tbody>\n",
       "</table>\n",
       "</div>"
      ],
      "text/plain": [
       "          engagement score  experience score\n",
       "clusters                                    \n",
       "0         1,101,863,229.05    164,694,110.25\n",
       "1           990,365,693.41  2,995,945,458.16"
      ]
     },
     "execution_count": 121,
     "metadata": {},
     "output_type": "execute_result"
    }
   ],
   "source": [
    "result = eng_exp_df.groupby('clusters').mean()\n",
    "result"
   ]
  },
  {
   "cell_type": "markdown",
   "id": "330ac80d",
   "metadata": {},
   "source": [
    "Task 4.6 - Export your final table containing all user id + engagement, experience & satisfaction scores in your local MySQL database. Report a screenshot of a select query output on the exported table. "
   ]
  },
  {
   "cell_type": "code",
   "execution_count": 122,
   "id": "fbe770ce",
   "metadata": {},
   "outputs": [],
   "source": [
    "satisfaction_df = satisfaction_df.reset_index()\n",
    "satisfaction_df.head()\n",
    "satisfaction_df.to_csv('../data/satisfaction.csv')"
   ]
  },
  {
   "cell_type": "code",
   "execution_count": null,
   "id": "bcbd7da3",
   "metadata": {},
   "outputs": [],
   "source": []
  },
  {
   "cell_type": "code",
   "execution_count": null,
   "id": "a9315809",
   "metadata": {},
   "outputs": [],
   "source": []
  }
 ],
 "metadata": {
  "kernelspec": {
   "display_name": "Python 3 (ipykernel)",
   "language": "python",
   "name": "python3"
  },
  "language_info": {
   "codemirror_mode": {
    "name": "ipython",
    "version": 3
   },
   "file_extension": ".py",
   "mimetype": "text/x-python",
   "name": "python",
   "nbconvert_exporter": "python",
   "pygments_lexer": "ipython3",
   "version": "3.9.7"
  }
 },
 "nbformat": 4,
 "nbformat_minor": 5
}
