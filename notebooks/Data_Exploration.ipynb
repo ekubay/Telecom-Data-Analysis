{
 "cells": [
  {
   "cell_type": "markdown",
   "id": "aa4ed27a",
   "metadata": {
    "id": "aa4ed27a"
   },
   "source": [
    "Data Cleaning is one of the essential step towards making real meaning of any dataset. It makes the data ready for modelling and analysis.\n",
    "\n",
    "Here you will be learning how to do data cleaning."
   ]
  },
  {
   "cell_type": "code",
   "execution_count": 54,
   "id": "9cc22661",
   "metadata": {},
   "outputs": [],
   "source": [
    "# This is Dta Exploration code\n",
    "#System Modules\n",
    "import os\n",
    "import sys\n",
    "sys.path.append(os.path.abspath(os.path.join('..')))\n",
    "\n",
    "import warnings\n",
    "warnings.filterwarnings('ignore')"
   ]
  },
  {
   "cell_type": "code",
   "execution_count": 62,
   "id": "ee45d041",
   "metadata": {
    "id": "ee45d041"
   },
   "outputs": [],
   "source": [
    "# imports libraries\n",
    "import pandas as pd\n",
    "import numpy as np\n",
    "import seaborn as sns\n",
    "import matplotlib.pyplot as plt\n",
    "%matplotlib inline"
   ]
  },
  {
   "cell_type": "code",
   "execution_count": 3,
   "id": "3c9e827d",
   "metadata": {},
   "outputs": [],
   "source": [
    "# helper module \n",
    "#from scripts import file\n",
    "from script.info_df import DataFrame_Info"
   ]
  },
  {
   "cell_type": "code",
   "execution_count": 53,
   "id": "f1d57c38",
   "metadata": {
    "colab": {
     "base_uri": "https://localhost:8080/",
     "height": 296
    },
    "executionInfo": {
     "elapsed": 2081,
     "status": "ok",
     "timestamp": 1626169589203,
     "user": {
      "displayName": "Kevin Karobia",
      "photoUrl": "",
      "userId": "11620910033834049837"
     },
     "user_tz": -180
    },
    "id": "f1d57c38",
    "outputId": "cd07542f-cbd6-487d-b4c8-f7374122b80b",
    "scrolled": true
   },
   "outputs": [],
   "source": [
    "# loading the file \n",
    "df = pd.read_csv('../data/tele-data.csv', na_values=['?', None])\n",
    "#df.head()"
   ]
  },
  {
   "cell_type": "markdown",
   "id": "d216565a",
   "metadata": {},
   "source": [
    "### Information Related to the Dataset"
   ]
  },
  {
   "cell_type": "code",
   "execution_count": 5,
   "id": "7439b6be",
   "metadata": {},
   "outputs": [
    {
     "name": "stdout",
     "output_type": "stream",
     "text": [
      "Dataframe contains 150001 rows and 55 columns\n"
     ]
    }
   ],
   "source": [
    "# shows the sahpe of the dataframe \n",
    "df_info = DataFrame_Info(df)\n",
    "df_info.shape_info()"
   ]
  },
  {
   "cell_type": "code",
   "execution_count": 6,
   "id": "03366bf2",
   "metadata": {
    "scrolled": true
   },
   "outputs": [
    {
     "name": "stdout",
     "output_type": "stream",
     "text": [
      "<class 'pandas.core.frame.DataFrame'>\n",
      "RangeIndex: 150001 entries, 0 to 150000\n",
      "Data columns (total 55 columns):\n",
      " #   Column                                    Non-Null Count   Dtype  \n",
      "---  ------                                    --------------   -----  \n",
      " 0   Bearer Id                                 149010 non-null  float64\n",
      " 1   Start                                     150000 non-null  object \n",
      " 2   Start ms                                  150000 non-null  float64\n",
      " 3   End                                       150000 non-null  object \n",
      " 4   End ms                                    150000 non-null  float64\n",
      " 5   Dur. (ms)                                 150000 non-null  float64\n",
      " 6   IMSI                                      149431 non-null  float64\n",
      " 7   MSISDN/Number                             148935 non-null  float64\n",
      " 8   IMEI                                      149429 non-null  float64\n",
      " 9   Last Location Name                        148848 non-null  object \n",
      " 10  Avg RTT DL (ms)                           122172 non-null  float64\n",
      " 11  Avg RTT UL (ms)                           122189 non-null  float64\n",
      " 12  Avg Bearer TP DL (kbps)                   150000 non-null  float64\n",
      " 13  Avg Bearer TP UL (kbps)                   150000 non-null  float64\n",
      " 14  TCP DL Retrans. Vol (Bytes)               61855 non-null   float64\n",
      " 15  TCP UL Retrans. Vol (Bytes)               53352 non-null   float64\n",
      " 16  DL TP < 50 Kbps (%)                       149247 non-null  float64\n",
      " 17  50 Kbps < DL TP < 250 Kbps (%)            149247 non-null  float64\n",
      " 18  250 Kbps < DL TP < 1 Mbps (%)             149247 non-null  float64\n",
      " 19  DL TP > 1 Mbps (%)                        149247 non-null  float64\n",
      " 20  UL TP < 10 Kbps (%)                       149209 non-null  float64\n",
      " 21  10 Kbps < UL TP < 50 Kbps (%)             149209 non-null  float64\n",
      " 22  50 Kbps < UL TP < 300 Kbps (%)            149209 non-null  float64\n",
      " 23  UL TP > 300 Kbps (%)                      149209 non-null  float64\n",
      " 24  HTTP DL (Bytes)                           68527 non-null   float64\n",
      " 25  HTTP UL (Bytes)                           68191 non-null   float64\n",
      " 26  Activity Duration DL (ms)                 150000 non-null  float64\n",
      " 27  Activity Duration UL (ms)                 150000 non-null  float64\n",
      " 28  Dur. (ms).1                               150000 non-null  float64\n",
      " 29  Handset Manufacturer                      149429 non-null  object \n",
      " 30  Handset Type                              149429 non-null  object \n",
      " 31  Nb of sec with 125000B < Vol DL           52463 non-null   float64\n",
      " 32  Nb of sec with 1250B < Vol UL < 6250B     57107 non-null   float64\n",
      " 33  Nb of sec with 31250B < Vol DL < 125000B  56415 non-null   float64\n",
      " 34  Nb of sec with 37500B < Vol UL            19747 non-null   float64\n",
      " 35  Nb of sec with 6250B < Vol DL < 31250B    61684 non-null   float64\n",
      " 36  Nb of sec with 6250B < Vol UL < 37500B    38158 non-null   float64\n",
      " 37  Nb of sec with Vol DL < 6250B             149246 non-null  float64\n",
      " 38  Nb of sec with Vol UL < 1250B             149208 non-null  float64\n",
      " 39  Social Media DL (Bytes)                   150001 non-null  float64\n",
      " 40  Social Media UL (Bytes)                   150001 non-null  float64\n",
      " 41  Google DL (Bytes)                         150001 non-null  float64\n",
      " 42  Google UL (Bytes)                         150001 non-null  float64\n",
      " 43  Email DL (Bytes)                          150001 non-null  float64\n",
      " 44  Email UL (Bytes)                          150001 non-null  float64\n",
      " 45  Youtube DL (Bytes)                        150001 non-null  float64\n",
      " 46  Youtube UL (Bytes)                        150001 non-null  float64\n",
      " 47  Netflix DL (Bytes)                        150001 non-null  float64\n",
      " 48  Netflix UL (Bytes)                        150001 non-null  float64\n",
      " 49  Gaming DL (Bytes)                         150001 non-null  float64\n",
      " 50  Gaming UL (Bytes)                         150001 non-null  float64\n",
      " 51  Other DL (Bytes)                          150001 non-null  float64\n",
      " 52  Other UL (Bytes)                          150001 non-null  float64\n",
      " 53  Total UL (Bytes)                          150000 non-null  float64\n",
      " 54  Total DL (Bytes)                          150000 non-null  float64\n",
      "dtypes: float64(50), object(5)\n",
      "memory usage: 62.9+ MB\n",
      "None\n"
     ]
    }
   ],
   "source": [
    "# checking information using \n",
    "df_info.detail_info()"
   ]
  },
  {
   "cell_type": "code",
   "execution_count": 12,
   "id": "2d8afe5a",
   "metadata": {
    "scrolled": false
   },
   "outputs": [
    {
     "name": "stdout",
     "output_type": "stream",
     "text": [
      "          Bearer Id       Start ms         End ms     Dur. (ms)          IMSI  \\\n",
      "count  1.490100e+05  150000.000000  150000.000000  1.500000e+05  1.494310e+05   \n",
      "mean   1.013887e+19     499.188200     498.800880  1.046086e+05  2.082016e+14   \n",
      "std    2.893173e+18     288.611834     288.097653  8.103762e+04  2.148809e+10   \n",
      "min    6.917538e+18       0.000000       0.000000  7.142000e+03  2.040471e+14   \n",
      "25%    7.349883e+18     250.000000     251.000000  5.744050e+04  2.082014e+14   \n",
      "50%    7.349883e+18     499.000000     500.000000  8.639900e+04  2.082015e+14   \n",
      "75%    1.304243e+19     749.000000     750.000000  1.324302e+05  2.082018e+14   \n",
      "max    1.318654e+19     999.000000     999.000000  1.859336e+06  2.140743e+14   \n",
      "\n",
      "       MSISDN/Number          IMEI  Avg RTT DL (ms)  Avg RTT UL (ms)  \\\n",
      "count   1.489350e+05  1.494290e+05    122172.000000    122189.000000   \n",
      "mean    4.188282e+10  4.847455e+13       109.795706        17.662883   \n",
      "std     2.447443e+12  2.241637e+13       619.782739        84.793524   \n",
      "min     3.360100e+10  4.400152e+11         0.000000         0.000000   \n",
      "25%     3.365130e+10  3.546071e+13        32.000000         2.000000   \n",
      "50%     3.366371e+10  3.572201e+13        45.000000         5.000000   \n",
      "75%     3.368349e+10  8.611970e+13        70.000000        15.000000   \n",
      "max     8.823971e+14  9.900120e+13     96923.000000      7120.000000   \n",
      "\n",
      "       Avg Bearer TP DL (kbps)  ...  Youtube DL (Bytes)  Youtube UL (Bytes)  \\\n",
      "count            150000.000000  ...        1.500010e+05        1.500010e+05   \n",
      "mean              13300.045927  ...        1.163407e+07        1.100941e+07   \n",
      "std               23971.878541  ...        6.710569e+06        6.345423e+06   \n",
      "min                   0.000000  ...        5.300000e+01        1.050000e+02   \n",
      "25%                  43.000000  ...        5.833501e+06        5.517965e+06   \n",
      "50%                  63.000000  ...        1.161602e+07        1.101345e+07   \n",
      "75%               19710.750000  ...        1.744852e+07        1.651556e+07   \n",
      "max              378160.000000  ...        2.325910e+07        2.201196e+07   \n",
      "\n",
      "       Netflix DL (Bytes)  Netflix UL (Bytes)  Gaming DL (Bytes)  \\\n",
      "count        1.500010e+05        1.500010e+05       1.500010e+05   \n",
      "mean         1.162685e+07        1.100175e+07       4.220447e+08   \n",
      "std          6.725218e+06        6.359490e+06       2.439675e+08   \n",
      "min          4.200000e+01        3.500000e+01       2.516000e+03   \n",
      "25%          5.777156e+06        5.475981e+06       2.104733e+08   \n",
      "50%          1.164222e+07        1.099638e+07       4.234081e+08   \n",
      "75%          1.747048e+07        1.650727e+07       6.331742e+08   \n",
      "max          2.325919e+07        2.201196e+07       8.434419e+08   \n",
      "\n",
      "       Gaming UL (Bytes)  Other DL (Bytes)  Other UL (Bytes)  \\\n",
      "count       1.500010e+05      1.500010e+05      1.500010e+05   \n",
      "mean        8.288398e+06      4.211005e+08      8.264799e+06   \n",
      "std         4.782700e+06      2.432050e+08      4.769004e+06   \n",
      "min         5.900000e+01      3.290000e+03      1.480000e+02   \n",
      "25%         4.128476e+06      2.101869e+08      4.145943e+06   \n",
      "50%         8.291208e+06      4.218030e+08      8.267071e+06   \n",
      "75%         1.243162e+07      6.316918e+08      1.238415e+07   \n",
      "max         1.655879e+07      8.434425e+08      1.655882e+07   \n",
      "\n",
      "       Total UL (Bytes)  Total DL (Bytes)  \n",
      "count      1.500000e+05      1.500000e+05  \n",
      "mean       4.112121e+07      4.546434e+08  \n",
      "std        1.127639e+07      2.441429e+08  \n",
      "min        2.866892e+06      7.114041e+06  \n",
      "25%        3.322201e+07      2.431068e+08  \n",
      "50%        4.114331e+07      4.558411e+08  \n",
      "75%        4.903424e+07      6.657055e+08  \n",
      "max        7.833131e+07      9.029696e+08  \n",
      "\n",
      "[8 rows x 50 columns]\n"
     ]
    }
   ],
   "source": [
    "# statistical description\n",
    "df_info.describe_stat()"
   ]
  },
  {
   "cell_type": "markdown",
   "id": "b49cbfed",
   "metadata": {},
   "source": [
    "### information about Null value"
   ]
  },
  {
   "cell_type": "code",
   "execution_count": 8,
   "id": "e51124f8",
   "metadata": {},
   "outputs": [
    {
     "name": "stdout",
     "output_type": "stream",
     "text": [
      "Dataframe contains null values of 12.5% out of the given dataset\n"
     ]
    }
   ],
   "source": [
    "# checking null percentage aon the given overall data\n",
    "df_info.null_percentage()"
   ]
  },
  {
   "cell_type": "code",
   "execution_count": null,
   "id": "7a0bcbb6",
   "metadata": {},
   "outputs": [],
   "source": []
  },
  {
   "cell_type": "markdown",
   "id": "3c8c2554",
   "metadata": {},
   "source": [
    "### skewness of the data on the dataframe"
   ]
  },
  {
   "cell_type": "code",
   "execution_count": 9,
   "id": "47d81b32",
   "metadata": {
    "scrolled": true
   },
   "outputs": [
    {
     "name": "stdout",
     "output_type": "stream",
     "text": [
      "Bearer Id                                     0.026666\n",
      "Start ms                                      0.000968\n",
      "End ms                                       -0.001163\n",
      "Dur. (ms)                                     3.952609\n",
      "IMSI                                         41.045956\n",
      "MSISDN/Number                               332.155856\n",
      "IMEI                                          1.071470\n",
      "Avg RTT DL (ms)                              62.907828\n",
      "Avg RTT UL (ms)                              28.457415\n",
      "Avg Bearer TP DL (kbps)                       2.589437\n",
      "Avg Bearer TP UL (kbps)                       4.503413\n",
      "TCP DL Retrans. Vol (Bytes)                  15.951809\n",
      "TCP UL Retrans. Vol (Bytes)                  84.113393\n",
      "DL TP < 50 Kbps (%)                          -2.297803\n",
      "50 Kbps < DL TP < 250 Kbps (%)                3.271453\n",
      "250 Kbps < DL TP < 1 Mbps (%)                 4.566158\n",
      "DL TP > 1 Mbps (%)                            5.370351\n",
      "UL TP < 10 Kbps (%)                          -8.985016\n",
      "10 Kbps < UL TP < 50 Kbps (%)                10.943888\n",
      "50 Kbps < UL TP < 300 Kbps (%)               21.878495\n",
      "UL TP > 300 Kbps (%)                         36.174053\n",
      "HTTP DL (Bytes)                              38.944710\n",
      "HTTP UL (Bytes)                              32.474970\n",
      "Activity Duration DL (ms)                     5.872256\n",
      "Activity Duration UL (ms)                     7.382557\n",
      "Dur. (ms).1                                   3.952609\n",
      "Nb of sec with 125000B < Vol DL               6.592502\n",
      "Nb of sec with 1250B < Vol UL < 6250B        22.035745\n",
      "Nb of sec with 31250B < Vol DL < 125000B      6.610541\n",
      "Nb of sec with 37500B < Vol UL               21.560028\n",
      "Nb of sec with 6250B < Vol DL < 31250B        6.896050\n",
      "Nb of sec with 6250B < Vol UL < 37500B       19.642752\n",
      "Nb of sec with Vol DL < 6250B                 9.042166\n",
      "Nb of sec with Vol UL < 1250B                 7.495176\n",
      "Social Media DL (Bytes)                      -0.002136\n",
      "Social Media UL (Bytes)                      -0.000359\n",
      "Google DL (Bytes)                            -0.008092\n",
      "Google UL (Bytes)                             0.002216\n",
      "Email DL (Bytes)                             -0.002463\n",
      "Email UL (Bytes)                              0.007358\n",
      "Youtube DL (Bytes)                            0.000231\n",
      "Youtube UL (Bytes)                           -0.001142\n",
      "Netflix DL (Bytes)                           -0.002442\n",
      "Netflix UL (Bytes)                           -0.000113\n",
      "Gaming DL (Bytes)                            -0.003460\n",
      "Gaming UL (Bytes)                            -0.001840\n",
      "Other DL (Bytes)                              0.001400\n",
      "Other UL (Bytes)                              0.001392\n",
      "Total UL (Bytes)                             -0.002456\n",
      "Total DL (Bytes)                             -0.003153\n",
      "dtype: float64\n"
     ]
    }
   ],
   "source": [
    "df_info.skewness()"
   ]
  },
  {
   "cell_type": "code",
   "execution_count": 10,
   "id": "2e2a3297",
   "metadata": {
    "scrolled": true
   },
   "outputs": [
    {
     "data": {
      "text/plain": [
       "['Bearer Id',\n",
       " 'Start',\n",
       " 'Start ms',\n",
       " 'End',\n",
       " 'End ms',\n",
       " 'Dur. (ms)',\n",
       " 'IMSI',\n",
       " 'MSISDN/Number',\n",
       " 'IMEI',\n",
       " 'Last Location Name',\n",
       " 'Avg RTT DL (ms)',\n",
       " 'Avg RTT UL (ms)',\n",
       " 'Avg Bearer TP DL (kbps)',\n",
       " 'Avg Bearer TP UL (kbps)',\n",
       " 'TCP DL Retrans. Vol (Bytes)',\n",
       " 'TCP UL Retrans. Vol (Bytes)',\n",
       " 'DL TP < 50 Kbps (%)',\n",
       " '50 Kbps < DL TP < 250 Kbps (%)',\n",
       " '250 Kbps < DL TP < 1 Mbps (%)',\n",
       " 'DL TP > 1 Mbps (%)',\n",
       " 'UL TP < 10 Kbps (%)',\n",
       " '10 Kbps < UL TP < 50 Kbps (%)',\n",
       " '50 Kbps < UL TP < 300 Kbps (%)',\n",
       " 'UL TP > 300 Kbps (%)',\n",
       " 'HTTP DL (Bytes)',\n",
       " 'HTTP UL (Bytes)',\n",
       " 'Activity Duration DL (ms)',\n",
       " 'Activity Duration UL (ms)',\n",
       " 'Dur. (ms).1',\n",
       " 'Handset Manufacturer',\n",
       " 'Handset Type',\n",
       " 'Nb of sec with 125000B < Vol DL',\n",
       " 'Nb of sec with 1250B < Vol UL < 6250B',\n",
       " 'Nb of sec with 31250B < Vol DL < 125000B',\n",
       " 'Nb of sec with 37500B < Vol UL',\n",
       " 'Nb of sec with 6250B < Vol DL < 31250B',\n",
       " 'Nb of sec with 6250B < Vol UL < 37500B',\n",
       " 'Nb of sec with Vol DL < 6250B',\n",
       " 'Nb of sec with Vol UL < 1250B',\n",
       " 'Social Media DL (Bytes)',\n",
       " 'Social Media UL (Bytes)',\n",
       " 'Google DL (Bytes)',\n",
       " 'Google UL (Bytes)',\n",
       " 'Email DL (Bytes)',\n",
       " 'Email UL (Bytes)',\n",
       " 'Youtube DL (Bytes)',\n",
       " 'Youtube UL (Bytes)',\n",
       " 'Netflix DL (Bytes)',\n",
       " 'Netflix UL (Bytes)',\n",
       " 'Gaming DL (Bytes)',\n",
       " 'Gaming UL (Bytes)',\n",
       " 'Other DL (Bytes)',\n",
       " 'Other UL (Bytes)',\n",
       " 'Total UL (Bytes)',\n",
       " 'Total DL (Bytes)']"
      ]
     },
     "execution_count": 10,
     "metadata": {},
     "output_type": "execute_result"
    }
   ],
   "source": [
    "# columns to list\n",
    "df.columns.tolist()"
   ]
  },
  {
   "cell_type": "code",
   "execution_count": 16,
   "id": "4770f845",
   "metadata": {
    "scrolled": true
   },
   "outputs": [
    {
     "name": "stdout",
     "output_type": "stream",
     "text": [
      "<bound method NDFrame._add_numeric_operations.<locals>.sum of         Bearer Id  Start  Start ms    End  End ms  Dur. (ms)   IMSI  \\\n",
      "0           False  False     False  False   False      False  False   \n",
      "1           False  False     False  False   False      False  False   \n",
      "2           False  False     False  False   False      False  False   \n",
      "3           False  False     False  False   False      False  False   \n",
      "4           False  False     False  False   False      False  False   \n",
      "...           ...    ...       ...    ...     ...        ...    ...   \n",
      "149996      False  False     False  False   False      False  False   \n",
      "149997      False  False     False  False   False      False  False   \n",
      "149998      False  False     False  False   False      False  False   \n",
      "149999      False  False     False  False   False      False  False   \n",
      "150000       True   True      True   True    True       True   True   \n",
      "\n",
      "        MSISDN/Number   IMEI  Last Location Name  ...  Youtube DL (Bytes)  \\\n",
      "0               False  False               False  ...               False   \n",
      "1               False  False               False  ...               False   \n",
      "2               False  False               False  ...               False   \n",
      "3               False  False               False  ...               False   \n",
      "4               False  False               False  ...               False   \n",
      "...               ...    ...                 ...  ...                 ...   \n",
      "149996          False  False               False  ...               False   \n",
      "149997          False  False               False  ...               False   \n",
      "149998          False  False               False  ...               False   \n",
      "149999          False  False               False  ...               False   \n",
      "150000           True   True                True  ...               False   \n",
      "\n",
      "        Youtube UL (Bytes)  Netflix DL (Bytes)  Netflix UL (Bytes)  \\\n",
      "0                    False               False               False   \n",
      "1                    False               False               False   \n",
      "2                    False               False               False   \n",
      "3                    False               False               False   \n",
      "4                    False               False               False   \n",
      "...                    ...                 ...                 ...   \n",
      "149996               False               False               False   \n",
      "149997               False               False               False   \n",
      "149998               False               False               False   \n",
      "149999               False               False               False   \n",
      "150000               False               False               False   \n",
      "\n",
      "        Gaming DL (Bytes)  Gaming UL (Bytes)  Other DL (Bytes)  \\\n",
      "0                   False              False             False   \n",
      "1                   False              False             False   \n",
      "2                   False              False             False   \n",
      "3                   False              False             False   \n",
      "4                   False              False             False   \n",
      "...                   ...                ...               ...   \n",
      "149996              False              False             False   \n",
      "149997              False              False             False   \n",
      "149998              False              False             False   \n",
      "149999              False              False             False   \n",
      "150000              False              False             False   \n",
      "\n",
      "        Other UL (Bytes)  Total UL (Bytes)  Total DL (Bytes)  \n",
      "0                  False             False             False  \n",
      "1                  False             False             False  \n",
      "2                  False             False             False  \n",
      "3                  False             False             False  \n",
      "4                  False             False             False  \n",
      "...                  ...               ...               ...  \n",
      "149996             False             False             False  \n",
      "149997             False             False             False  \n",
      "149998             False             False             False  \n",
      "149999             False             False             False  \n",
      "150000             False              True              True  \n",
      "\n",
      "[150001 rows x 55 columns]>\n"
     ]
    }
   ],
   "source": [
    "#checking null\n",
    "df_info.get_null_counts()"
   ]
  },
  {
   "cell_type": "code",
   "execution_count": 62,
   "id": "297d00d3",
   "metadata": {
    "scrolled": false
   },
   "outputs": [
    {
     "data": {
      "text/plain": [
       "Bearer Id                                      991\n",
       "Start                                            1\n",
       "Start ms                                         1\n",
       "End                                              1\n",
       "End ms                                           1\n",
       "Dur. (ms)                                        1\n",
       "IMSI                                           570\n",
       "MSISDN/Number                                 1066\n",
       "IMEI                                           572\n",
       "Last Location Name                            1153\n",
       "Avg RTT DL (ms)                              27829\n",
       "Avg RTT UL (ms)                              27812\n",
       "Avg Bearer TP DL (kbps)                          1\n",
       "Avg Bearer TP UL (kbps)                          1\n",
       "TCP DL Retrans. Vol (Bytes)                  88146\n",
       "TCP UL Retrans. Vol (Bytes)                  96649\n",
       "DL TP < 50 Kbps (%)                            754\n",
       "50 Kbps < DL TP < 250 Kbps (%)                 754\n",
       "250 Kbps < DL TP < 1 Mbps (%)                  754\n",
       "DL TP > 1 Mbps (%)                             754\n",
       "UL TP < 10 Kbps (%)                            792\n",
       "10 Kbps < UL TP < 50 Kbps (%)                  792\n",
       "50 Kbps < UL TP < 300 Kbps (%)                 792\n",
       "UL TP > 300 Kbps (%)                           792\n",
       "HTTP DL (Bytes)                              81474\n",
       "HTTP UL (Bytes)                              81810\n",
       "Activity Duration DL (ms)                        1\n",
       "Activity Duration UL (ms)                        1\n",
       "Dur. (ms).1                                      1\n",
       "Handset Manufacturer                           572\n",
       "Handset Type                                   572\n",
       "Nb of sec with 125000B < Vol DL              97538\n",
       "Nb of sec with 1250B < Vol UL < 6250B        92894\n",
       "Nb of sec with 31250B < Vol DL < 125000B     93586\n",
       "Nb of sec with 37500B < Vol UL              130254\n",
       "Nb of sec with 6250B < Vol DL < 31250B       88317\n",
       "Nb of sec with 6250B < Vol UL < 37500B      111843\n",
       "Nb of sec with Vol DL < 6250B                  755\n",
       "Nb of sec with Vol UL < 1250B                  793\n",
       "Social Media DL (Bytes)                          0\n",
       "Social Media UL (Bytes)                          0\n",
       "Google DL (Bytes)                                0\n",
       "Google UL (Bytes)                                0\n",
       "Email DL (Bytes)                                 0\n",
       "Email UL (Bytes)                                 0\n",
       "Youtube DL (Bytes)                               0\n",
       "Youtube UL (Bytes)                               0\n",
       "Netflix DL (Bytes)                               0\n",
       "Netflix UL (Bytes)                               0\n",
       "Gaming DL (Bytes)                                0\n",
       "Gaming UL (Bytes)                                0\n",
       "Other DL (Bytes)                                 0\n",
       "Other UL (Bytes)                                 0\n",
       "Total UL (Bytes)                                 1\n",
       "Total DL (Bytes)                                 1\n",
       "dtype: int64"
      ]
     },
     "execution_count": 62,
     "metadata": {},
     "output_type": "execute_result"
    }
   ],
   "source": [
    " # information about null value in each column\n",
    "df.isnull().sum()"
   ]
  },
  {
   "cell_type": "markdown",
   "id": "2ece6b5d",
   "metadata": {},
   "source": [
    "## cleaning dataset"
   ]
  },
  {
   "cell_type": "code",
   "execution_count": 23,
   "id": "2292fbfd",
   "metadata": {},
   "outputs": [],
   "source": [
    "from script.data_cleaning import CleaningDataset"
   ]
  },
  {
   "cell_type": "code",
   "execution_count": 24,
   "id": "2beadf34",
   "metadata": {},
   "outputs": [],
   "source": [
    "clean_df = CleaningDataset(df)"
   ]
  },
  {
   "cell_type": "code",
   "execution_count": 25,
   "id": "b24c596f",
   "metadata": {},
   "outputs": [
    {
     "name": "stdout",
     "output_type": "stream",
     "text": [
      "List Of Columns with More than 50% Null Values are  10\n",
      "['TCP DL Retrans. Vol (Bytes)', 'TCP UL Retrans. Vol (Bytes)', 'HTTP DL (Bytes)', 'HTTP UL (Bytes)', 'Nb of sec with 125000B < Vol DL', 'Nb of sec with 1250B < Vol UL < 6250B', 'Nb of sec with 31250B < Vol DL < 125000B', 'Nb of sec with 37500B < Vol UL', 'Nb of sec with 6250B < Vol DL < 31250B', 'Nb of sec with 6250B < Vol UL < 37500B']\n"
     ]
    }
   ],
   "source": [
    "# checking against the insignificant column\n",
    "insiginificant_col = clean_df.get_column_with_many_null()\n",
    "print(\"List Of Columns with More than 50% Null Values are \", len(insiginificant_col))\n",
    "print(insiginificant_col)"
   ]
  },
  {
   "cell_type": "code",
   "execution_count": 26,
   "id": "5234e507",
   "metadata": {},
   "outputs": [],
   "source": [
    "# droping columns\n",
    "clean_df.drop_columns(insiginificant_col)"
   ]
  },
  {
   "cell_type": "code",
   "execution_count": 27,
   "id": "fdededb1",
   "metadata": {},
   "outputs": [
    {
     "name": "stdout",
     "output_type": "stream",
     "text": [
      "List Of Columns with More than 50% Null Values are  0\n"
     ]
    }
   ],
   "source": [
    "# Testing \n",
    "insiginificant_col = clean_df.get_column_with_many_null()\n",
    "print(\"List Of Columns with More than 50% Null Values are \", len(insiginificant_col))"
   ]
  },
  {
   "cell_type": "code",
   "execution_count": 105,
   "id": "dfb627ce",
   "metadata": {},
   "outputs": [],
   "source": [
    "#clean_df.fill_missing_numeric(clean_df)"
   ]
  },
  {
   "cell_type": "code",
   "execution_count": 28,
   "id": "f5191e4c",
   "metadata": {},
   "outputs": [],
   "source": [
    "## filling object types \n",
    "object_type = ['Last Location Name', 'Handset Manufacturer', 'Handset Type']\n",
    "clean_df.fill_catagorical_columns(object_type)"
   ]
  },
  {
   "cell_type": "code",
   "execution_count": 55,
   "id": "1ff774af",
   "metadata": {
    "scrolled": true
   },
   "outputs": [],
   "source": [
    "#all_columns = clean_df.columns\n",
    "#clean_df.fill_catagorical_columns(all_columns)"
   ]
  },
  {
   "cell_type": "code",
   "execution_count": 33,
   "id": "a9ca16ad",
   "metadata": {},
   "outputs": [],
   "source": [
    "# fixing ouliers\n",
    "clean_df.fix_outliers('Dur. (ms)')"
   ]
  },
  {
   "cell_type": "markdown",
   "id": "4428adf1",
   "metadata": {
    "id": "4428adf1"
   },
   "source": [
    "Before Cleaning a dataset, you need to explore what has been stored in it. The column names, how many data points,\n",
    "number of colum etc. All these questions needs to be answered"
   ]
  },
  {
   "cell_type": "markdown",
   "id": "9ee8e8f3",
   "metadata": {
    "id": "9ee8e8f3"
   },
   "source": [
    "For better understanding of the columns, Exploring the data description [here](https://docs.google.com/spreadsheets/d/1pcNqeUeIph6xAQzlI54KCvi8HM91SUNeeDbdOq3rvbE/edit#gid=784155610) will help"
   ]
  },
  {
   "cell_type": "markdown",
   "id": "2f58547a",
   "metadata": {
    "id": "2f58547a"
   },
   "source": [
    "## Handling Missing Values"
   ]
  },
  {
   "cell_type": "code",
   "execution_count": null,
   "id": "67977677",
   "metadata": {
    "colab": {
     "base_uri": "https://localhost:8080/"
    },
    "executionInfo": {
     "elapsed": 25,
     "status": "ok",
     "timestamp": 1626169593507,
     "user": {
      "displayName": "Kevin Karobia",
      "photoUrl": "",
      "userId": "11620910033834049837"
     },
     "user_tz": -180
    },
    "id": "67977677",
    "outputId": "8e9d562f-04d4-48a7-bcd0-97f742c5922a"
   },
   "outputs": [],
   "source": [
    "# how many missing values exist or better still what is the % of missing values in the dataset?\n",
    "def percent_missing(df):\n",
    "\n",
    "    # Calculate total number of cells in dataframe\n",
    "    totalCells = np.product(df.shape)\n",
    "\n",
    "    # Count number of missing values per column\n",
    "    missingCount = df.isnull().sum()\n",
    "\n",
    "    # Calculate total number of missing values\n",
    "    totalMissing = missingCount.sum()\n",
    "\n",
    "    # Calculate percentage of missing values\n",
    "    print(\"The Diabetes dataset contains\", round(((totalMissing/totalCells) * 100), 2), \"%\", \"missing values.\")\n",
    "\n",
    "percent_missing(db)"
   ]
  },
  {
   "cell_type": "code",
   "execution_count": null,
   "id": "33dae472",
   "metadata": {
    "colab": {
     "base_uri": "https://localhost:8080/"
    },
    "executionInfo": {
     "elapsed": 12,
     "status": "ok",
     "timestamp": 1626169593901,
     "user": {
      "displayName": "Kevin Karobia",
      "photoUrl": "",
      "userId": "11620910033834049837"
     },
     "user_tz": -180
    },
    "id": "33dae472",
    "outputId": "3dd5dfb5-77f5-4a3a-945a-72f034180199",
    "scrolled": true
   },
   "outputs": [],
   "source": [
    "# Now which column(s) has missing values\n",
    "db.isna().sum()"
   ]
  },
  {
   "cell_type": "markdown",
   "id": "82322398",
   "metadata": {
    "id": "82322398"
   },
   "source": [
    "Well, Looks like some columns has alot of missing values.\n",
    "\n",
    "Up Next How to fix missing values"
   ]
  },
  {
   "cell_type": "markdown",
   "id": "c83faeff",
   "metadata": {
    "id": "c83faeff"
   },
   "source": [
    "Fixing Missing values is a crucial part of any data science/ML project because you might be making the data better by your method or otherwise. So your decision has to be perfect or close enough.\n",
    "\n",
    "The rule of thumb is for all object datatype kind of column/features use the mode method to fill the missing datapoints and for number kind of features use the mean/median method.\n",
    "\n",
    "The question now is how to choose which method to fill a number feature with. Well the simple answer is check if it is skewed. Now what is skew?\n",
    "\n",
    "Back to the rule of thumb, if the data is not skewed, filling with either mean or median will work well. But if it is indeed skew, then fill with Median. The idea is ...."
   ]
  },
  {
   "cell_type": "markdown",
   "id": "d8d4d436",
   "metadata": {
    "id": "d8d4d436"
   },
   "source": [
    "Other method of dealing with missing values exists like fill-forward,backward-fill etc"
   ]
  },
  {
   "cell_type": "markdown",
   "id": "280fa475",
   "metadata": {
    "id": "280fa475"
   },
   "source": [
    "You also need to consider what the column represent before you fill missing values for example:  ...\n",
    "\n",
    "Another easy way to do this is to just drop all misisng rows and moving on with analysis if you have data left atleast."
   ]
  },
  {
   "cell_type": "code",
   "execution_count": null,
   "id": "6711f019",
   "metadata": {
    "colab": {
     "base_uri": "https://localhost:8080/"
    },
    "executionInfo": {
     "elapsed": 13,
     "status": "ok",
     "timestamp": 1626169597395,
     "user": {
      "displayName": "Kevin Karobia",
      "photoUrl": "",
      "userId": "11620910033834049837"
     },
     "user_tz": -180
    },
    "id": "6711f019",
    "outputId": "e4819797-f7c6-47b0-a7eb-74481d05f6bb"
   },
   "outputs": [],
   "source": [
    "# drop columns with more than 30% missing values\n",
    "df_clean = db.drop(['weight', 'payer_code', 'medical_specialty', 'max_glu_serum', 'A1Cresult'], axis=1)\n",
    "df_clean.shape"
   ]
  },
  {
   "cell_type": "code",
   "execution_count": null,
   "id": "85f2e55b",
   "metadata": {
    "id": "85f2e55b"
   },
   "outputs": [],
   "source": [
    "# fill missing with ffill method for columns (diag_1, diag_2, diag_3)\n",
    "\n",
    "def fix_missing_ffill(df, col):\n",
    "    df[col] = df[col].fillna(method='ffill')\n",
    "    return df[col]\n",
    "\n",
    "\n",
    "def fix_missing_bfill(df, col):\n",
    "    df[col] = df[col].fillna(method='bfill')\n",
    "    return df[col]\n",
    "\n",
    "df_clean['diag_1'] = fix_missing_ffill(df_clean, 'diag_1')\n",
    "df_clean['diag_2'] = fix_missing_ffill(df_clean, 'diag_2')\n",
    "df_clean['diag_3'] = fix_missing_ffill(df_clean, 'diag_3')\n",
    "\n",
    "# fill 'race' column with mode \n",
    "df_clean['race'] = df_clean['race'].fillna(df_clean['race'].mode()[0])"
   ]
  },
  {
   "cell_type": "markdown",
   "id": "202923f1",
   "metadata": {
    "id": "202923f1"
   },
   "source": [
    "Other missing columns can be fixed based on your understanding, you can decide to drop or fill using appropriate methods. Whichever you decide, explain your reasons  "
   ]
  },
  {
   "cell_type": "markdown",
   "id": "2f92e917",
   "metadata": {
    "id": "2f92e917"
   },
   "source": [
    "## Transforming Data\n",
    "\n",
    "**Scaling and Normalization**"
   ]
  },
  {
   "cell_type": "markdown",
   "id": "31af9f33",
   "metadata": {
    "id": "31af9f33"
   },
   "source": [
    "Scaling vs. Normalization: What's the difference?\n",
    "\n",
    "One of the reasons that it's easy to get confused between scaling and normalization is because the terms are sometimes used interchangeably and, to make it even more confusing, they are very similar! In both cases, you're transforming the values of numeric variables so that the transformed data points have specific helpful properties. The difference is that:\n",
    "\n",
    "    - in scaling, you're changing the range of your data, while\n",
    "    - in normalization, you're changing the shape of the distribution of your data.\n",
    "\n",
    "Scaling\n",
    "\n",
    "This means that you're transforming your data so that it fits within a specific scale, like 0-100 or 0-1. You want to scale data when you're using methods based on measures of how far apart data points are, like support vector machines (SVM) or k-nearest neighbors (KNN). With these algorithms, a change of \"1\" in any numeric feature is given the same importance.\n",
    "\n",
    "For example, you might be looking at the prices of some products in both Yen and US Dollars. One US Dollar is worth about 100 Yen, but if you don't scale your prices, methods like SVM or KNN will consider a difference in price of 1 Yen as important as a difference of 1 US Dollar! This clearly doesn't fit with our intuitions of the world. With currency, you can convert between currencies. But what about if you're looking at something like height and weight? It's not entirely clear how many pounds should equal one inch (or how many kilograms should equal one meter).\n",
    "\n",
    "\n"
   ]
  },
  {
   "cell_type": "code",
   "execution_count": null,
   "id": "4db69c6f",
   "metadata": {
    "colab": {
     "base_uri": "https://localhost:8080/",
     "height": 206
    },
    "executionInfo": {
     "elapsed": 33,
     "status": "ok",
     "timestamp": 1626169602345,
     "user": {
      "displayName": "Kevin Karobia",
      "photoUrl": "",
      "userId": "11620910033834049837"
     },
     "user_tz": -180
    },
    "id": "4db69c6f",
    "outputId": "492c9061-e9b3-49ee-8499-23259cd863e6"
   },
   "outputs": [],
   "source": [
    "from sklearn.preprocessing import MinMaxScaler\n",
    "\n",
    "minmax_scaler = MinMaxScaler()\n",
    "\n",
    "# generate 1000 data points randomly drawn from an exponential distribution\n",
    "original_data = pd.DataFrame(np.random.exponential(200, size=2000))\n",
    "\n",
    "original_data.sample(5)"
   ]
  },
  {
   "cell_type": "code",
   "execution_count": null,
   "id": "887126c7",
   "metadata": {
    "colab": {
     "base_uri": "https://localhost:8080/"
    },
    "executionInfo": {
     "elapsed": 31,
     "status": "ok",
     "timestamp": 1626169602347,
     "user": {
      "displayName": "Kevin Karobia",
      "photoUrl": "",
      "userId": "11620910033834049837"
     },
     "user_tz": -180
    },
    "id": "887126c7",
    "outputId": "2b065ca4-2508-47b7-a915-dafdb4f0a385"
   },
   "outputs": [],
   "source": [
    "original_data[0].min(), original_data[0].max()"
   ]
  },
  {
   "cell_type": "code",
   "execution_count": null,
   "id": "2c7ac099",
   "metadata": {
    "colab": {
     "base_uri": "https://localhost:8080/",
     "height": 265
    },
    "executionInfo": {
     "elapsed": 47646,
     "status": "ok",
     "timestamp": 1626169651337,
     "user": {
      "displayName": "Kevin Karobia",
      "photoUrl": "",
      "userId": "11620910033834049837"
     },
     "user_tz": -180
    },
    "id": "2c7ac099",
    "outputId": "7174aa3f-5c28-4462-bdb9-0df8653a6d17"
   },
   "outputs": [],
   "source": [
    "count, bins, ignored = plt.hist(original_data, 14)\n",
    "plt.show()"
   ]
  },
  {
   "cell_type": "code",
   "execution_count": null,
   "id": "f72facb7",
   "metadata": {
    "colab": {
     "base_uri": "https://localhost:8080/",
     "height": 390
    },
    "executionInfo": {
     "elapsed": 1252,
     "status": "ok",
     "timestamp": 1626169653704,
     "user": {
      "displayName": "Kevin Karobia",
      "photoUrl": "",
      "userId": "11620910033834049837"
     },
     "user_tz": -180
    },
    "id": "f72facb7",
    "outputId": "0a9f07df-862f-4aa4-99bf-9d822f043557"
   },
   "outputs": [],
   "source": [
    "# mix-max scale the data between 0 and 1\n",
    "def scaler(df):\n",
    "    scaled_data = minmax_scaler.fit_transform(df)\n",
    "\n",
    "    # plot both together to compare\n",
    "    fig, ax = plt.subplots(1,2, figsize=(10, 6))\n",
    "    sns.histplot(original_data, ax=ax[0])\n",
    "    ax[0].set_title(\"Original Data\")\n",
    "    sns.histplot(scaled_data, ax=ax[1])\n",
    "    ax[1].set_title(\"Scaled data\")\n",
    "    \n",
    "scaler(original_data)"
   ]
  },
  {
   "cell_type": "markdown",
   "id": "c3293805",
   "metadata": {
    "id": "c3293805"
   },
   "source": [
    "Normalization\n",
    "\n",
    "Scaling just changes the range of your data. Normalization is a more radical transformation. The point of normalization is to change your observations so that they can be described as a normal distribution.\n",
    "\n",
    "    Normal distribution: Also known as the \"bell curve\", this is a specific statistical distribution where a roughly equal observations fall above and below the mean, the mean and the median are the same, and there are more observations closer to the mean. The normal distribution is also known as the Gaussian distribution.\n",
    "\n",
    "In general, you'll normalize your data if you're going to be using a machine learning or statistics technique that assumes your data is normally distributed. Some examples of these include linear discriminant analysis (LDA) and Gaussian naive Bayes. (Pro tip: any method with \"Gaussian\" in the name probably assumes normality.)\n",
    "\n",
    "The method you will be using to normalize here is called the Normalizer method from sklearn. Let's take a quick peek at what normalizing some data looks like:"
   ]
  },
  {
   "cell_type": "code",
   "execution_count": null,
   "id": "168acc4d",
   "metadata": {
    "colab": {
     "base_uri": "https://localhost:8080/",
     "height": 390
    },
    "executionInfo": {
     "elapsed": 460,
     "status": "ok",
     "timestamp": 1626169654145,
     "user": {
      "displayName": "Kevin Karobia",
      "photoUrl": "",
      "userId": "11620910033834049837"
     },
     "user_tz": -180
    },
    "id": "168acc4d",
    "outputId": "498cf3f0-697e-4aab-f986-1f37c54c9df8"
   },
   "outputs": [],
   "source": [
    "from sklearn.preprocessing import Normalizer\n",
    "\n",
    "def normalizer(df):\n",
    "    norm = Normalizer()\n",
    "    # normalize the exponential data with boxcox\n",
    "    normalized_data = norm.fit_transform(df)\n",
    "\n",
    "    # plot both together to compare\n",
    "    fig, ax=plt.subplots(1,2, figsize=(10, 6))\n",
    "    sns.histplot(df, ax=ax[0])\n",
    "    ax[0].set_title(\"Original Data\")\n",
    "    sns.histplot(normalized_data[0], ax=ax[1])\n",
    "    ax[1].set_title(\"Normalized data\")\n",
    "\n",
    "normalizer(original_data)"
   ]
  },
  {
   "cell_type": "code",
   "execution_count": null,
   "id": "2943df05",
   "metadata": {
    "colab": {
     "base_uri": "https://localhost:8080/"
    },
    "executionInfo": {
     "elapsed": 29,
     "status": "ok",
     "timestamp": 1626169654147,
     "user": {
      "displayName": "Kevin Karobia",
      "photoUrl": "",
      "userId": "11620910033834049837"
     },
     "user_tz": -180
    },
    "id": "2943df05",
    "outputId": "f7192dec-fc2b-4036-f917-5a37ca952fde"
   },
   "outputs": [],
   "source": [
    "# check datatypes\n",
    "df_clean.info()"
   ]
  },
  {
   "cell_type": "code",
   "execution_count": null,
   "id": "9af79008",
   "metadata": {
    "id": "9af79008"
   },
   "outputs": [],
   "source": [
    "def fix_age(col):\n",
    "    weight = [x.replace( '[', '' ).replace( ')', '' ) for x in col.fillna('') ]\n",
    "    new_age = [ ( ( int(i.split('-')[0] ) + int( i.split('-')[1] ) ) / 2)  for i in weight]\n",
    "    return weight\n",
    "\n",
    "df_clean['fix_age'] = fix_age(df_clean['age'])"
   ]
  },
  {
   "cell_type": "code",
   "execution_count": null,
   "id": "476db42b",
   "metadata": {
    "id": "476db42b"
   },
   "outputs": [],
   "source": [
    "\n",
    "df_clean['diag_1'] = pd.to_numeric(df_clean['diag_1'], errors='coerce')\n",
    "df_clean['diag_2'] = pd.to_numeric(df_clean['diag_2'], errors='coerce')\n",
    "df_clean['diag_3'] = pd.to_numeric(df_clean['diag_3'], errors='coerce')\n"
   ]
  },
  {
   "cell_type": "code",
   "execution_count": null,
   "id": "bef899e2",
   "metadata": {
    "colab": {
     "base_uri": "https://localhost:8080/"
    },
    "executionInfo": {
     "elapsed": 493,
     "status": "ok",
     "timestamp": 1626169654973,
     "user": {
      "displayName": "Kevin Karobia",
      "photoUrl": "",
      "userId": "11620910033834049837"
     },
     "user_tz": -180
    },
    "id": "bef899e2",
    "outputId": "4b5e0d87-3f09-4dcf-82ff-674ce443f942"
   },
   "outputs": [],
   "source": [
    "df_clean.info()"
   ]
  },
  {
   "cell_type": "code",
   "execution_count": null,
   "id": "f02225e2",
   "metadata": {
    "colab": {
     "base_uri": "https://localhost:8080/"
    },
    "executionInfo": {
     "elapsed": 55,
     "status": "ok",
     "timestamp": 1626169654975,
     "user": {
      "displayName": "Kevin Karobia",
      "photoUrl": "",
      "userId": "11620910033834049837"
     },
     "user_tz": -180
    },
    "id": "f02225e2",
    "outputId": "b647cdd4-8a92-4d17-dae1-9ff27bc5a520"
   },
   "outputs": [],
   "source": [
    "df_clean['fix_age'].unique()"
   ]
  },
  {
   "cell_type": "code",
   "execution_count": null,
   "id": "a6b036ac",
   "metadata": {
    "id": "a6b036ac"
   },
   "outputs": [],
   "source": [
    "   df_clean['age'] = [ ((int(i.split('-')[0]) + int(i.split('-')[1])) / 2)  for i in df_clean['fix_age']]"
   ]
  },
  {
   "cell_type": "markdown",
   "id": "f640ccb4",
   "metadata": {
    "id": "f640ccb4"
   },
   "source": [
    "## Utility Functions"
   ]
  },
  {
   "cell_type": "code",
   "execution_count": 91,
   "id": "42f432b8",
   "metadata": {
    "id": "42f432b8"
   },
   "outputs": [],
   "source": [
    "# Function to calculate missing values by column\n",
    "def missing_values_table(df):\n",
    "    # Total missing values\n",
    "    mis_val = df.isnull().sum()\n",
    "\n",
    "    # Percentage of missing values\n",
    "    mis_val_percent = 100 * df.isnull().sum() / len(df)\n",
    "\n",
    "    # dtype of missing values\n",
    "    mis_val_dtype = df.dtypes\n",
    "\n",
    "    # Make a table with the results\n",
    "    mis_val_table = pd.concat([mis_val, mis_val_percent, mis_val_dtype], axis=1)\n",
    "\n",
    "    # Rename the columns\n",
    "    mis_val_table_ren_columns = mis_val_table.rename(\n",
    "    columns = {0 : 'Missing Values', 1 : '% of Total Values', 2: 'Dtype'})\n",
    "\n",
    "    # Sort the table by percentage of missing descending\n",
    "    mis_val_table_ren_columns = mis_val_table_ren_columns[\n",
    "        mis_val_table_ren_columns.iloc[:,1] != 0].sort_values(\n",
    "    '% of Total Values', ascending=False).round(1)\n",
    "\n",
    "    # Print some summary information\n",
    "    print (\"Your selected dataframe has \" + str(df.shape[1]) + \" columns.\\n\"      \n",
    "        \"There are \" + str(mis_val_table_ren_columns.shape[0]) +\n",
    "          \" columns that have missing values.\")\n",
    "\n",
    "    # Return the dataframe with missing information\n",
    "    return mis_val_table_ren_columns\n",
    "\n",
    "def format_float(value):\n",
    "    return f'{value:,.2f}'\n",
    "\n",
    "def find_agg(df:pd.DataFrame, agg_column:str, agg_metric:str, col_name:str, top:int, order=False )->pd.DataFrame:\n",
    "    \n",
    "    new_df = df.groupby(agg_column)[agg_column].agg(agg_metric).reset_index(name=col_name).\\\n",
    "                        sort_values(by=col_name, ascending=order)[:top]\n",
    "    \n",
    "    return new_df\n",
    "\n",
    "def convert_bytes_to_megabytes(df, bytes_data):\n",
    "    \"\"\"\n",
    "        This function takes the dataframe and the column which has the bytes values\n",
    "        returns the megabytesof that value\n",
    "        \n",
    "        Args:\n",
    "        -----\n",
    "        df: dataframe\n",
    "        bytes_data: column with bytes values\n",
    "        \n",
    "        Returns:\n",
    "        --------\n",
    "        A series\n",
    "    \"\"\"\n",
    "    \n",
    "    megabyte = 1*10e+5\n",
    "    df[bytes_data] = df[bytes_data] / megabyte\n",
    "    return df[bytes_data]\n",
    "\n",
    "def fix_outlier(df, column):\n",
    "    df[column] = np.where(df[column] > df[column].quantile(0.95), df[column].median(),df[column])\n",
    "    \n",
    "    return df[column]\n",
    "\n",
    "\n",
    "###################################PLOTTING FUNCTIONS###################################\n",
    "\n",
    "def plot_hist(df:pd.DataFrame, column:str, color:str)->None:\n",
    "    # plt.figure(figsize=(15, 10))\n",
    "    # fig, ax = plt.subplots(1, figsize=(12, 7))\n",
    "    sns.displot(data=df, x=column, color=color, kde=True, height=7, aspect=2)\n",
    "    plt.title(f'Distribution of {column}', size=20, fontweight='bold')\n",
    "    plt.show()\n",
    "\n",
    "def plot_count(df:pd.DataFrame, column:str) -> None:\n",
    "    plt.figure(figsize=(30, 15))\n",
    "    sns.countplot(data=df, x=column)\n",
    "    plt.title(f'Distribution of {column}', size=20, fontweight='bold')\n",
    "    plt.show()\n",
    "    \n",
    "def plot_bar(df:pd.DataFrame, x_col:str, y_col:str, title:str, xlabel:str, ylabel:str)->None:\n",
    "    plt.figure(figsize=(12, 7))\n",
    "    sns.barplot(data = df, x=x_col, y=y_col)\n",
    "    plt.title(title, size=20)\n",
    "    plt.xticks(rotation=75, fontsize=14)\n",
    "    plt.yticks( fontsize=14)\n",
    "    plt.xlabel(xlabel, fontsize=16)\n",
    "    plt.ylabel(ylabel, fontsize=16)\n",
    "    plt.show()\n",
    "\n",
    "def plot_heatmap(df:pd.DataFrame, title:str, cbar=False)->None:\n",
    "    plt.figure(figsize=(12, 7))\n",
    "    sns.heatmap(df, annot=True, cmap='viridis', vmin=0, vmax=1, fmt='.2f', linewidths=.7, cbar=cbar )\n",
    "    plt.title(title, size=18, fontweight='bold')\n",
    "    plt.show()\n",
    "\n",
    "def plot_box(df:pd.DataFrame, x_col:str, title:str) -> None:\n",
    "    plt.figure(figsize=(12, 7))\n",
    "    sns.boxplot(data = df, x=x_col)\n",
    "    plt.title(title, size=20)\n",
    "    plt.xticks(rotation=75, fontsize=14)\n",
    "    plt.show()\n",
    "\n",
    "def plot_box_multi(df:pd.DataFrame, x_col:str, y_col:str, title:str) -> None:\n",
    "    plt.figure(figsize=(12, 7))\n",
    "    sns.boxplot(data = df, x=x_col, y=y_col)\n",
    "    plt.title(title, size=20)\n",
    "    plt.xticks(rotation=75, fontsize=14)\n",
    "    plt.yticks( fontsize=14)\n",
    "    plt.show()\n",
    "\n",
    "def plot_scatter(df: pd.DataFrame, x_col: str, y_col: str, title: str, hue: str, style: str) -> None:\n",
    "    plt.figure(figsize=(12, 7))\n",
    "    sns.scatterplot(data = df, x=x_col, y=y_col, hue=hue, style=style)\n",
    "    plt.title(title, size=20)\n",
    "    plt.xticks(fontsize=14)\n",
    "    plt.yticks( fontsize=14)\n",
    "    plt.show()\n",
    "pd.options.display.float_format = format_float"
   ]
  },
  {
   "cell_type": "markdown",
   "id": "0646f25b",
   "metadata": {
    "id": "0646f25b"
   },
   "source": [
    "## Extracting Data"
   ]
  },
  {
   "cell_type": "code",
   "execution_count": null,
   "id": "7903d60c",
   "metadata": {
    "colab": {
     "base_uri": "https://localhost:8080/"
    },
    "executionInfo": {
     "elapsed": 38,
     "status": "ok",
     "timestamp": 1626169655383,
     "user": {
      "displayName": "Kevin Karobia",
      "photoUrl": "",
      "userId": "11620910033834049837"
     },
     "user_tz": -180
    },
    "id": "7903d60c",
    "outputId": "20b5f5b9-77ce-4569-f187-c05aea5c7fcf"
   },
   "outputs": [],
   "source": [
    "# should be null\n",
    "df_info = DataFrame_Info(df_clean.df)\n",
    "info.get_null_counts()"
   ]
  },
  {
   "cell_type": "markdown",
   "id": "AO5svY-OkM8x",
   "metadata": {
    "id": "AO5svY-OkM8x"
   },
   "source": [
    "## Exploration"
   ]
  },
  {
   "cell_type": "markdown",
   "id": "GsLiCqPI11Eg",
   "metadata": {
    "id": "GsLiCqPI11Eg"
   },
   "source": [
    "Data Exploration or Exploratory data analysis (EDA) is an approach to analyzing data sets to summarize their main characteristics which include:\n",
    "\n",
    "\n",
    "*   detection of mistakes, outliers or abnormalities\n",
    "*   determining relationships among the explanatory variables\n",
    "*   assessing the relationships between explanatory and outcome variables\n",
    "\n",
    "\n",
    "\n"
   ]
  },
  {
   "cell_type": "code",
   "execution_count": null,
   "id": "YZLcV1ospKJT",
   "metadata": {
    "colab": {
     "base_uri": "https://localhost:8080/",
     "height": 461
    },
    "executionInfo": {
     "elapsed": 636,
     "status": "ok",
     "timestamp": 1626169681818,
     "user": {
      "displayName": "Kevin Karobia",
      "photoUrl": "",
      "userId": "11620910033834049837"
     },
     "user_tz": -180
    },
    "id": "YZLcV1ospKJT",
    "outputId": "c950a840-1c7d-4f91-f954-2d3b77aaadd2"
   },
   "outputs": [],
   "source": [
    "# dfExp = df_clean.copy()\n",
    "# dfExp"
   ]
  },
  {
   "cell_type": "code",
   "execution_count": null,
   "id": "ea2723c4",
   "metadata": {},
   "outputs": [],
   "source": [
    "# I have already cleaned data here, i"
   ]
  },
  {
   "cell_type": "code",
   "execution_count": 64,
   "id": "1ec73d98",
   "metadata": {},
   "outputs": [],
   "source": [
    "df_clean = pd.read_csv('../data/clean_df_tel.csv')"
   ]
  },
  {
   "cell_type": "code",
   "execution_count": 65,
   "id": "3kpTKBZukKug",
   "metadata": {
    "colab": {
     "base_uri": "https://localhost:8080/"
    },
    "executionInfo": {
     "elapsed": 10,
     "status": "ok",
     "timestamp": 1626169682443,
     "user": {
      "displayName": "Kevin Karobia",
      "photoUrl": "",
      "userId": "11620910033834049837"
     },
     "user_tz": -180
    },
    "id": "3kpTKBZukKug",
    "outputId": "f1d6863c-a05c-4239-8b7e-ec2f2261ea76",
    "scrolled": false
   },
   "outputs": [
    {
     "data": {
      "text/plain": [
       "Bearer Id                         float64\n",
       "Start                              object\n",
       "Start ms                          float64\n",
       "End                                object\n",
       "End ms                            float64\n",
       "Dur. (ms)                         float64\n",
       "IMSI                              float64\n",
       "MSISDN/Number                     float64\n",
       "IMEI                              float64\n",
       "Last Location Name                 object\n",
       "Avg RTT DL (ms)                   float64\n",
       "Avg RTT UL (ms)                   float64\n",
       "Avg Bearer TP DL (kbps)           float64\n",
       "Avg Bearer TP UL (kbps)           float64\n",
       "DL TP < 50 Kbps (%)               float64\n",
       "50 Kbps < DL TP < 250 Kbps (%)    float64\n",
       "250 Kbps < DL TP < 1 Mbps (%)     float64\n",
       "DL TP > 1 Mbps (%)                float64\n",
       "UL TP < 10 Kbps (%)               float64\n",
       "10 Kbps < UL TP < 50 Kbps (%)     float64\n",
       "50 Kbps < UL TP < 300 Kbps (%)    float64\n",
       "UL TP > 300 Kbps (%)              float64\n",
       "Activity Duration DL (ms)         float64\n",
       "Activity Duration UL (ms)         float64\n",
       "Dur. (ms).1                       float64\n",
       "Handset Manufacturer               object\n",
       "Handset Type                       object\n",
       "Nb of sec with Vol DL < 6250B     float64\n",
       "Nb of sec with Vol UL < 1250B     float64\n",
       "Social Media DL (Bytes)           float64\n",
       "Social Media UL (Bytes)           float64\n",
       "Google DL (Bytes)                 float64\n",
       "Google UL (Bytes)                 float64\n",
       "Email DL (Bytes)                  float64\n",
       "Email UL (Bytes)                  float64\n",
       "Youtube DL (Bytes)                float64\n",
       "Youtube UL (Bytes)                float64\n",
       "Netflix DL (Bytes)                float64\n",
       "Netflix UL (Bytes)                float64\n",
       "Gaming DL (Bytes)                 float64\n",
       "Gaming UL (Bytes)                 float64\n",
       "Other DL (Bytes)                  float64\n",
       "Other UL (Bytes)                  float64\n",
       "Total UL (Bytes)                  float64\n",
       "Total DL (Bytes)                  float64\n",
       "dtype: object"
      ]
     },
     "execution_count": 65,
     "metadata": {},
     "output_type": "execute_result"
    }
   ],
   "source": [
    "df_clean.dtypes"
   ]
  },
  {
   "cell_type": "code",
   "execution_count": 66,
   "id": "ba82a0fc",
   "metadata": {
    "scrolled": false
   },
   "outputs": [
    {
     "data": {
      "text/plain": [
       "Bearer Id                         0\n",
       "Start                             0\n",
       "Start ms                          0\n",
       "End                               0\n",
       "End ms                            0\n",
       "Dur. (ms)                         0\n",
       "IMSI                              0\n",
       "MSISDN/Number                     0\n",
       "IMEI                              0\n",
       "Last Location Name                0\n",
       "Avg RTT DL (ms)                   0\n",
       "Avg RTT UL (ms)                   0\n",
       "Avg Bearer TP DL (kbps)           0\n",
       "Avg Bearer TP UL (kbps)           0\n",
       "DL TP < 50 Kbps (%)               0\n",
       "50 Kbps < DL TP < 250 Kbps (%)    0\n",
       "250 Kbps < DL TP < 1 Mbps (%)     0\n",
       "DL TP > 1 Mbps (%)                0\n",
       "UL TP < 10 Kbps (%)               0\n",
       "10 Kbps < UL TP < 50 Kbps (%)     0\n",
       "50 Kbps < UL TP < 300 Kbps (%)    0\n",
       "UL TP > 300 Kbps (%)              0\n",
       "Activity Duration DL (ms)         0\n",
       "Activity Duration UL (ms)         0\n",
       "Dur. (ms).1                       0\n",
       "Handset Manufacturer              0\n",
       "Handset Type                      0\n",
       "Nb of sec with Vol DL < 6250B     0\n",
       "Nb of sec with Vol UL < 1250B     0\n",
       "Social Media DL (Bytes)           0\n",
       "Social Media UL (Bytes)           0\n",
       "Google DL (Bytes)                 0\n",
       "Google UL (Bytes)                 0\n",
       "Email DL (Bytes)                  0\n",
       "Email UL (Bytes)                  0\n",
       "Youtube DL (Bytes)                0\n",
       "Youtube UL (Bytes)                0\n",
       "Netflix DL (Bytes)                0\n",
       "Netflix UL (Bytes)                0\n",
       "Gaming DL (Bytes)                 0\n",
       "Gaming UL (Bytes)                 0\n",
       "Other DL (Bytes)                  0\n",
       "Other UL (Bytes)                  0\n",
       "Total UL (Bytes)                  0\n",
       "Total DL (Bytes)                  0\n",
       "dtype: int64"
      ]
     },
     "execution_count": 66,
     "metadata": {},
     "output_type": "execute_result"
    }
   ],
   "source": [
    "df_clean.isnull().sum()"
   ]
  },
  {
   "cell_type": "code",
   "execution_count": 67,
   "id": "0878f05a",
   "metadata": {},
   "outputs": [
    {
     "data": {
      "text/plain": [
       "(150001, 45)"
      ]
     },
     "execution_count": 67,
     "metadata": {},
     "output_type": "execute_result"
    }
   ],
   "source": [
    "df_clean.shape"
   ]
  },
  {
   "cell_type": "markdown",
   "id": "fXiC8WLKppcL",
   "metadata": {
    "id": "fXiC8WLKppcL"
   },
   "source": [
    "### Univariate Analysis"
   ]
  },
  {
   "cell_type": "markdown",
   "id": "TcrHiYYs1I66",
   "metadata": {
    "id": "TcrHiYYs1I66"
   },
   "source": [
    "This is mainly analysis done on particular variable only i.e we search for the data charecteristics of a variable with disregard to all the other columns"
   ]
  },
  {
   "cell_type": "markdown",
   "id": "ei6KuNsrv0Ph",
   "metadata": {
    "id": "ei6KuNsrv0Ph"
   },
   "source": [
    "#### distributions"
   ]
  },
  {
   "cell_type": "code",
   "execution_count": 48,
   "id": "bl3Bf5h5w7sk",
   "metadata": {
    "colab": {
     "base_uri": "https://localhost:8080/",
     "height": 534
    },
    "executionInfo": {
     "elapsed": 1910,
     "status": "ok",
     "timestamp": 1626169691842,
     "user": {
      "displayName": "Kevin Karobia",
      "photoUrl": "",
      "userId": "11620910033834049837"
     },
     "user_tz": -180
    },
    "id": "bl3Bf5h5w7sk",
    "outputId": "02364d27-f0dc-45d6-ebe9-33911e88fff5",
    "scrolled": true
   },
   "outputs": [
    {
     "data": {
      "image/png": "[encoded data removed]",
      "text/plain": [
       "<Figure size 1008x504 with 1 Axes>"
      ]
     },
     "metadata": {
      "needs_background": "light"
     },
     "output_type": "display_data"
    }
   ],
   "source": [
    "plot_hist(df_clean, \"Youtube DL (Bytes)\", \"yellow\")"
   ]
  },
  {
   "cell_type": "code",
   "execution_count": 68,
   "id": "127cc8a5",
   "metadata": {},
   "outputs": [
    {
     "data": {
      "image/png": "[encoded data removed]",
      "text/plain": [
       "<Figure size 1008x504 with 1 Axes>"
      ]
     },
     "metadata": {
      "needs_background": "light"
     },
     "output_type": "display_data"
    }
   ],
   "source": [
    "plot_hist(df_clean, \"Youtube UL (Bytes)\", \"green\")"
   ]
  },
  {
   "cell_type": "code",
   "execution_count": 49,
   "id": "eOf1cAjzvsxO",
   "metadata": {
    "colab": {
     "base_uri": "https://localhost:8080/",
     "height": 534
    },
    "executionInfo": {
     "elapsed": 1461,
     "status": "ok",
     "timestamp": 1626169693284,
     "user": {
      "displayName": "Kevin Karobia",
      "photoUrl": "",
      "userId": "11620910033834049837"
     },
     "user_tz": -180
    },
    "id": "eOf1cAjzvsxO",
    "outputId": "c817124f-7b84-4bfa-d4ae-0d69bae38174",
    "scrolled": true
   },
   "outputs": [
    {
     "data": {
      "image/png": "[encoded data removed]",
      "text/plain": [
       "<Figure size 1008x504 with 1 Axes>"
      ]
     },
     "metadata": {
      "needs_background": "light"
     },
     "output_type": "display_data"
    }
   ],
   "source": [
    "plot_hist(df_clean, \"Activity Duration UL (ms)\", \"green\")"
   ]
  },
  {
   "cell_type": "code",
   "execution_count": 72,
   "id": "0fadd625",
   "metadata": {},
   "outputs": [
    {
     "data": {
      "image/png": "[encoded data removed]",
      "text/plain": [
       "<Figure size 864x504 with 1 Axes>"
      ]
     },
     "metadata": {
      "needs_background": "light"
     },
     "output_type": "display_data"
    }
   ],
   "source": [
    "plot_box(df_clean, \"Other DL (Bytes)\", \"blue\")"
   ]
  },
  {
   "cell_type": "code",
   "execution_count": 50,
   "id": "c996937c",
   "metadata": {
    "scrolled": true
   },
   "outputs": [
    {
     "data": {
      "image/png": "[encoded data removed]",
      "text/plain": [
       "<Figure size 864x504 with 1 Axes>"
      ]
     },
     "metadata": {
      "needs_background": "light"
     },
     "output_type": "display_data"
    }
   ],
   "source": [
    "plot_box(df_clean,'Google DL (Bytes)', 'green')"
   ]
  },
  {
   "cell_type": "code",
   "execution_count": null,
   "id": "d90321e8",
   "metadata": {},
   "outputs": [],
   "source": []
  },
  {
   "cell_type": "markdown",
   "id": "suhErKf2vvXd",
   "metadata": {
    "id": "suhErKf2vvXd"
   },
   "source": [
    "#### Outliers"
   ]
  },
  {
   "cell_type": "code",
   "execution_count": 74,
   "id": "Zy5DgTY_of6Q",
   "metadata": {
    "colab": {
     "base_uri": "https://localhost:8080/",
     "height": 484
    },
    "executionInfo": {
     "elapsed": 24,
     "status": "ok",
     "timestamp": 1626169698802,
     "user": {
      "displayName": "Kevin Karobia",
      "photoUrl": "",
      "userId": "11620910033834049837"
     },
     "user_tz": -180
    },
    "id": "Zy5DgTY_of6Q",
    "outputId": "2cb8fe22-69c9-4c1c-ffeb-e844f006acbb",
    "scrolled": true
   },
   "outputs": [
    {
     "data": {
      "image/png": "[encoded data removed]",
      "text/plain": [
       "<Figure size 864x504 with 1 Axes>"
      ]
     },
     "metadata": {
      "needs_background": "light"
     },
     "output_type": "display_data"
    }
   ],
   "source": [
    "plot_box(df_clean, \"Dur. (ms).1\", \"duration in ms\")"
   ]
  },
  {
   "cell_type": "code",
   "execution_count": 76,
   "id": "83975b0f",
   "metadata": {
    "scrolled": true
   },
   "outputs": [
    {
     "data": {
      "text/plain": [
       "<AxesSubplot:>"
      ]
     },
     "execution_count": 76,
     "metadata": {},
     "output_type": "execute_result"
    },
    {
     "data": {
      "image/png": "[encoded data removed]",
      "text/plain": [
       "<Figure size 432x288 with 1 Axes>"
      ]
     },
     "metadata": {
      "needs_background": "light"
     },
     "output_type": "display_data"
    }
   ],
   "source": [
    "# this is an outlier\n",
    "df_clean['Dur. (ms).1'].hist()"
   ]
  },
  {
   "cell_type": "code",
   "execution_count": 77,
   "id": "6be07663",
   "metadata": {},
   "outputs": [],
   "source": [
    "df_clean['Dur. (ms).1']=fix_outlier(df_clean, 'Dur. (ms).1')"
   ]
  },
  {
   "cell_type": "code",
   "execution_count": 78,
   "id": "f4a98384",
   "metadata": {},
   "outputs": [
    {
     "data": {
      "image/png": "[encoded data removed]",
      "text/plain": [
       "<Figure size 864x504 with 1 Axes>"
      ]
     },
     "metadata": {
      "needs_background": "light"
     },
     "output_type": "display_data"
    }
   ],
   "source": [
    "# \n",
    "plot_box(df_clean,'Avg Bearer TP DL (kbps)', \" average brearer TP DL\")"
   ]
  },
  {
   "cell_type": "code",
   "execution_count": 79,
   "id": "72e9e380",
   "metadata": {},
   "outputs": [],
   "source": [
    "# fixing outlier\n",
    "df_clean['Avg Bearer TP DL (kbps)']=fix_outlier(df_clean, 'Avg Bearer TP DL (kbps)')"
   ]
  },
  {
   "cell_type": "code",
   "execution_count": 80,
   "id": "dde0ee88",
   "metadata": {},
   "outputs": [
    {
     "data": {
      "text/plain": [
       "<AxesSubplot:>"
      ]
     },
     "execution_count": 80,
     "metadata": {},
     "output_type": "execute_result"
    },
    {
     "data": {
      "image/png": "[encoded data removed]",
      "text/plain": [
       "<Figure size 432x288 with 1 Axes>"
      ]
     },
     "metadata": {
      "needs_background": "light"
     },
     "output_type": "display_data"
    }
   ],
   "source": [
    "# After ouliers become fixed\n",
    "df_clean['Avg Bearer TP DL (kbps)'].hist()"
   ]
  },
  {
   "cell_type": "code",
   "execution_count": 82,
   "id": "97878c14",
   "metadata": {},
   "outputs": [
    {
     "data": {
      "image/png": "[encoded data removed]",
      "text/plain": [
       "<Figure size 864x504 with 1 Axes>"
      ]
     },
     "metadata": {
      "needs_background": "light"
     },
     "output_type": "display_data"
    }
   ],
   "source": [
    "# few outliers \n",
    "plot_box(df_clean, \"Activity Duration DL (ms)\", \"Activity duration in ms\")"
   ]
  },
  {
   "cell_type": "code",
   "execution_count": 83,
   "id": "ef41cb7c",
   "metadata": {},
   "outputs": [],
   "source": [
    "df_clean['Activity Duration DL (ms)'] = fix_outlier(df_clean, 'Activity Duration DL (ms)')"
   ]
  },
  {
   "cell_type": "code",
   "execution_count": 84,
   "id": "49b9ea17",
   "metadata": {},
   "outputs": [
    {
     "data": {
      "image/png": "[encoded data removed]",
      "text/plain": [
       "<Figure size 864x504 with 1 Axes>"
      ]
     },
     "metadata": {
      "needs_background": "light"
     },
     "output_type": "display_data"
    }
   ],
   "source": [
    "# ouliers from both ends \n",
    "plot_box(df_clean, 'Total UL (Bytes)', 'total UL')"
   ]
  },
  {
   "cell_type": "code",
   "execution_count": 85,
   "id": "d4a147e2",
   "metadata": {},
   "outputs": [],
   "source": [
    "df_clean['Total UL (Bytes)'] = fix_outlier(df_clean, 'Total UL (Bytes)')"
   ]
  },
  {
   "cell_type": "code",
   "execution_count": 86,
   "id": "49110e56",
   "metadata": {},
   "outputs": [
    {
     "data": {
      "image/png": "[encoded data removed]",
      "text/plain": [
       "<Figure size 864x504 with 1 Axes>"
      ]
     },
     "metadata": {
      "needs_background": "light"
     },
     "output_type": "display_data"
    }
   ],
   "source": [
    "plot_box(df_clean, 'Total UL (Bytes)', 'total UL')"
   ]
  },
  {
   "cell_type": "code",
   "execution_count": null,
   "id": "Q3KJLJhVP8OA",
   "metadata": {
    "colab": {
     "base_uri": "https://localhost:8080/"
    },
    "executionInfo": {
     "elapsed": 399,
     "status": "ok",
     "timestamp": 1626169741777,
     "user": {
      "displayName": "Kevin Karobia",
      "photoUrl": "",
      "userId": "11620910033834049837"
     },
     "user_tz": -180
    },
    "id": "Q3KJLJhVP8OA",
    "outputId": "b275ee27-f4f8-417a-95e7-9914fd8fa343"
   },
   "outputs": [],
   "source": [
    "dfExp[\"fixed_num_medications\"].describe()"
   ]
  },
  {
   "cell_type": "markdown",
   "id": "lb7rNIpxzCXd",
   "metadata": {
    "id": "lb7rNIpxzCXd"
   },
   "source": [
    "#### categorical variables"
   ]
  },
  {
   "cell_type": "code",
   "execution_count": 89,
   "id": "ZtBvwCoC0lpJ",
   "metadata": {
    "colab": {
     "base_uri": "https://localhost:8080/",
     "height": 463
    },
    "id": "ZtBvwCoC0lpJ",
    "outputId": "08aae121-9812-4f37-ded4-9106b9efec3e"
   },
   "outputs": [
    {
     "data": {
      "image/png": "[encoded data removed]",
      "text/plain": [
       "<Figure size 1440x864 with 1 Axes>"
      ]
     },
     "metadata": {
      "needs_background": "light"
     },
     "output_type": "display_data"
    }
   ],
   "source": [
    "plot_count(df_clean, \"Handset Type\")"
   ]
  },
  {
   "cell_type": "code",
   "execution_count": 92,
   "id": "0f5WduXB0vHW",
   "metadata": {
    "id": "0f5WduXB0vHW",
    "scrolled": true
   },
   "outputs": [
    {
     "data": {
      "image/png": "[encoded data removed]",
      "text/plain": [
       "<Figure size 2160x1080 with 1 Axes>"
      ]
     },
     "metadata": {
      "needs_background": "light"
     },
     "output_type": "display_data"
    }
   ],
   "source": [
    "plot_count(df_clean, \"Handset Manufacturer\")"
   ]
  },
  {
   "cell_type": "code",
   "execution_count": 95,
   "id": "e130760c",
   "metadata": {},
   "outputs": [
    {
     "data": {
      "text/plain": [
       "Apple                               60137\n",
       "Samsung                             40839\n",
       "Huawei                              34423\n",
       "undefined                            8987\n",
       "Sony Mobile Communications Ab         980\n",
       "                                    ...  \n",
       "Pt. Arga Mas Lestari                    1\n",
       "Doke Communication (Hk) Limited         1\n",
       "Vastking Technology (Hk) Limited        1\n",
       "Mobiwire Sas                            1\n",
       "Shenzhen Gaoxinqi                       1\n",
       "Name: Handset Manufacturer, Length: 170, dtype: int64"
      ]
     },
     "execution_count": 95,
     "metadata": {},
     "output_type": "execute_result"
    }
   ],
   "source": [
    "df_clean[\"Handset Manufacturer\"].value_counts()"
   ]
  },
  {
   "cell_type": "markdown",
   "id": "msqJavkF3ksN",
   "metadata": {
    "id": "msqJavkF3ksN"
   },
   "source": [
    "### Multivariate Analysis"
   ]
  },
  {
   "cell_type": "markdown",
   "id": "nv6Uu2_t6sAO",
   "metadata": {
    "id": "nv6Uu2_t6sAO"
   },
   "source": [
    "This analysis that mainly done on two or more columns where we look for relationships between columns and how our data is distributed amoung values in multiple columns"
   ]
  },
  {
   "cell_type": "markdown",
   "id": "ZSc1mZCz7QcG",
   "metadata": {
    "id": "ZSc1mZCz7QcG"
   },
   "source": [
    "#### scatter plots"
   ]
  },
  {
   "cell_type": "code",
   "execution_count": 101,
   "id": "L6gHqeO54Gmf",
   "metadata": {
    "colab": {
     "base_uri": "https://localhost:8080/",
     "height": 468
    },
    "id": "L6gHqeO54Gmf",
    "outputId": "6777bd67-7782-46fe-841c-383c5dc35fb4"
   },
   "outputs": [
    {
     "data": {
      "image/png": "[encoded data removed]",
      "text/plain": [
       "<Figure size 864x504 with 1 Axes>"
      ]
     },
     "metadata": {
      "needs_background": "light"
     },
     "output_type": "display_data"
    }
   ],
   "source": [
    "\n",
    "plot_scatter(df_clean.head(50), x_col=\"Gaming DL (Bytes)\", y_col=\"Gaming UL (Bytes)\", hue=\"Gaming DL (Bytes)\", \n",
    "             style=\"Gaming DL (Bytes)\", title=\"number of Gaming vs Total Social Media\")"
   ]
  },
  {
   "cell_type": "code",
   "execution_count": null,
   "id": "0TJpVd_X8GG6",
   "metadata": {
    "colab": {
     "base_uri": "https://localhost:8080/",
     "height": 468
    },
    "id": "0TJpVd_X8GG6",
    "outputId": "9034f470-dd6d-4815-e144-4df4c6a1deb0"
   },
   "outputs": [],
   "source": [
    "plot_scatter(dfExp.head(1000), x_col=\"time_in_hospital\", y_col=\"num_lab_procedures\", hue=\"race\",\n",
    "             style=\"race\", title=\"number of lab procedures vs time in hospital\")"
   ]
  },
  {
   "cell_type": "markdown",
   "id": "GSpf_ku4_vPd",
   "metadata": {
    "id": "GSpf_ku4_vPd"
   },
   "source": [
    "#### Box Plots"
   ]
  },
  {
   "cell_type": "code",
   "execution_count": null,
   "id": "j4IiL0OH_iOI",
   "metadata": {
    "colab": {
     "base_uri": "https://localhost:8080/",
     "height": 569
    },
    "id": "j4IiL0OH_iOI",
    "outputId": "f0283434-01b9-4732-ffd8-ef4900c5b1d0"
   },
   "outputs": [],
   "source": [
    "plot_box_multi(dfExp, x_col=\"race\", y_col=\"num_medications\", title=\"number of medications outilers in race column\")"
   ]
  },
  {
   "cell_type": "code",
   "execution_count": null,
   "id": "7Gln1iCC_t0B",
   "metadata": {
    "colab": {
     "base_uri": "https://localhost:8080/",
     "height": 569
    },
    "id": "7Gln1iCC_t0B",
    "outputId": "b9672c9e-d6b8-47f5-c590-97420f50ed5c"
   },
   "outputs": [],
   "source": [
    "plot_box_multi(dfExp, x_col=\"gender\", y_col=\"num_medications\", title=\"number of medications outilers in race column\")"
   ]
  },
  {
   "cell_type": "markdown",
   "id": "93bjOTCWObU2",
   "metadata": {
    "id": "93bjOTCWObU2"
   },
   "source": [
    "#### pair plots\n",
    "\n",
    "pair plots also known as scatterplot matrix, they allow us to see both distributions of single columns and the relationship between two columns"
   ]
  },
  {
   "cell_type": "code",
   "execution_count": null,
   "id": "3gt8I3wCsyXY",
   "metadata": {
    "id": "3gt8I3wCsyXY"
   },
   "outputs": [],
   "source": [
    "dfPair = dfExp[[\"race\", \"time_in_hospital\", \"num_procedures\", \"num_lab_procedures\", \"num_medications\"]]"
   ]
  },
  {
   "cell_type": "code",
   "execution_count": null,
   "id": "LTdTm1aZCEet",
   "metadata": {
    "colab": {
     "base_uri": "https://localhost:8080/",
     "height": 1000
    },
    "id": "LTdTm1aZCEet",
    "outputId": "347ec8b2-052c-4134-cf7d-c0be8d568d7e"
   },
   "outputs": [],
   "source": [
    "sns.pairplot(dfPair, hue = 'race', diag_kind = 'kde',\n",
    "             plot_kws = {'alpha': 0.6, 's': 80, 'edgecolor': 'k'},\n",
    "             height=4)"
   ]
  },
  {
   "cell_type": "code",
   "execution_count": null,
   "id": "bWgBaB6UN7vm",
   "metadata": {
    "id": "bWgBaB6UN7vm"
   },
   "outputs": [],
   "source": []
  }
 ],
 "metadata": {
  "colab": {
   "collapsed_sections": [],
   "name": "Data_Exploration.ipynb",
   "provenance": []
  },
  "kernelspec": {
   "display_name": "Python 3 (ipykernel)",
   "language": "python",
   "name": "python3"
  },
  "language_info": {
   "codemirror_mode": {
    "name": "ipython",
    "version": 3
   },
   "file_extension": ".py",
   "mimetype": "text/x-python",
   "name": "python",
   "nbconvert_exporter": "python",
   "pygments_lexer": "ipython3",
   "version": "3.9.7"
  }
 },
 "nbformat": 4,
 "nbformat_minor": 5
}
